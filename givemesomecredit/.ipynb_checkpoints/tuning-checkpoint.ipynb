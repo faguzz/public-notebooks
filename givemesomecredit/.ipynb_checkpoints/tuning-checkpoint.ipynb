{
 "cells": [
  {
   "cell_type": "code",
   "execution_count": 1,
   "metadata": {
    "collapsed": true
   },
   "outputs": [],
   "source": [
    "import numpy as np\n",
    "import scipy as sp\n",
    "import pandas as pd\n",
    "import matplotlib.pyplot as plt\n",
    "import seaborn as sns"
   ]
  },
  {
   "cell_type": "code",
   "execution_count": 28,
   "metadata": {
    "collapsed": true
   },
   "outputs": [],
   "source": [
    "plt.rcParams[\"figure.figsize\"] = [12, 9]"
   ]
  },
  {
   "cell_type": "code",
   "execution_count": 4,
   "metadata": {
    "collapsed": false
   },
   "outputs": [],
   "source": [
    "train_df = pd.read_csv('data_extracted/cs-training-prepared.csv')\n",
    "test_df = pd.read_csv('data_extracted/cs-test-prepared.csv')"
   ]
  },
  {
   "cell_type": "code",
   "execution_count": 42,
   "metadata": {
    "collapsed": true
   },
   "outputs": [],
   "source": [
    "from xgboost import XGBClassifier, XGBRegressor\n",
    "import xgboost as xgb\n",
    "from sklearn.ensemble import RandomForestClassifier, RandomForestRegressor"
   ]
  },
  {
   "cell_type": "code",
   "execution_count": 19,
   "metadata": {
    "collapsed": false
   },
   "outputs": [],
   "source": [
    "xgb_clf = XGBClassifier(learning_rate=0.01, n_estimators=100)\n",
    "xgb_reg = XGBRegressor(learning_rate=0.01, n_estimators=100)\n",
    "\n",
    "rf_clf = RandomForestClassifier(n_estimators=100)\n",
    "rf_reg = RandomForestRegressor(n_estimators=100)"
   ]
  },
  {
   "cell_type": "code",
   "execution_count": 20,
   "metadata": {
    "collapsed": true
   },
   "outputs": [],
   "source": [
    "from sklearn.model_selection import cross_val_score, cross_val_predict\n",
    "from tuning_clf import *"
   ]
  },
  {
   "cell_type": "code",
   "execution_count": 21,
   "metadata": {
    "collapsed": false
   },
   "outputs": [],
   "source": [
    "X = train_df.drop(['SeriousDlqin2yrs'], axis=1)\n",
    "y = train_df['SeriousDlqin2yrs']\n",
    "\n",
    "predictions_xgb = []\n",
    "\n",
    "for clf in [xgb_clf, xgb_reg]:\n",
    "    predictions = cross_val_predict(clf, X, y, cv=5)\n",
    "    predictions_xgb.append(predictions)"
   ]
  },
  {
   "cell_type": "code",
   "execution_count": 24,
   "metadata": {
    "collapsed": false
   },
   "outputs": [],
   "source": [
    "X = train_df.drop(['SeriousDlqin2yrs', 'MonthlyIncome'], axis=1)\n",
    "y = train_df['SeriousDlqin2yrs']\n",
    "\n",
    "predictions_rf = []\n",
    "\n",
    "for clf in [rf_clf, rf_reg]:\n",
    "    predictions = cross_val_predict(clf, X, y, cv=5)\n",
    "    predictions_rf.append(predictions)"
   ]
  },
  {
   "cell_type": "code",
   "execution_count": 25,
   "metadata": {
    "collapsed": true
   },
   "outputs": [],
   "source": [
    "preds = pd.DataFrame({'xgb_clf': predictions_xgb[0],\n",
    "                      'xgb_reg': predictions_xgb[1],\n",
    "                      'rf_clf': predictions_rf[0],\n",
    "                      'rf_reg': predictions_rf[1],\n",
    "                      'true': y\n",
    "                     })"
   ]
  },
  {
   "cell_type": "code",
   "execution_count": 29,
   "metadata": {
    "collapsed": false
   },
   "outputs": [
    {
     "data": {
      "image/png": "[encoded data removed]",
      "text/plain": [
       "<matplotlib.figure.Figure at 0x7f7f58846f50>"
      ]
     },
     "metadata": {},
     "output_type": "display_data"
    }
   ],
   "source": [
    "sns.heatmap(preds.corr())\n",
    "plt.show()"
   ]
  },
  {
   "cell_type": "code",
   "execution_count": 30,
   "metadata": {
    "collapsed": false
   },
   "outputs": [
    {
     "name": "stdout",
     "output_type": "stream",
     "text": [
      "AUC Score (Train): 0.841772\n",
      "AUC Score (Train): 0.827037\n"
     ]
    }
   ],
   "source": [
    "from sklearn import metrics\n",
    "\n",
    "for col in ['xgb_reg', 'rf_reg']:\n",
    "    print \"AUC Score (Train): %f\" % metrics.roc_auc_score(preds['true'], preds[col])"
   ]
  },
  {
   "cell_type": "code",
   "execution_count": 31,
   "metadata": {
    "collapsed": true
   },
   "outputs": [],
   "source": [
    "from sklearn.linear_model import LinearRegression"
   ]
  },
  {
   "cell_type": "code",
   "execution_count": 34,
   "metadata": {
    "collapsed": false
   },
   "outputs": [
    {
     "data": {
      "text/plain": [
       "LinearRegression(copy_X=True, fit_intercept=True, n_jobs=1, normalize=False)"
      ]
     },
     "execution_count": 34,
     "metadata": {},
     "output_type": "execute_result"
    }
   ],
   "source": [
    "X_2nd = preds.drop(['true'], axis=1)\n",
    "y_2nd = preds['true']\n",
    "\n",
    "lr = LinearRegression()\n",
    "lr.fit(X_2nd, y_2nd)"
   ]
  },
  {
   "cell_type": "code",
   "execution_count": 36,
   "metadata": {
    "collapsed": false
   },
   "outputs": [
    {
     "name": "stdout",
     "output_type": "stream",
     "text": [
      "AUC Score (Train): 0.851507\n"
     ]
    }
   ],
   "source": [
    "print \"AUC Score (Train): %f\" % metrics.roc_auc_score(preds['true'], lr.predict(X_2nd))"
   ]
  },
  {
   "cell_type": "code",
   "execution_count": null,
   "metadata": {
    "collapsed": true
   },
   "outputs": [],
   "source": []
  },
  {
   "cell_type": "code",
   "execution_count": null,
   "metadata": {
    "collapsed": true
   },
   "outputs": [],
   "source": []
  },
  {
   "cell_type": "code",
   "execution_count": 37,
   "metadata": {
    "collapsed": true
   },
   "outputs": [],
   "source": [
    "?cross_val_predict"
   ]
  },
  {
   "cell_type": "code",
   "execution_count": 52,
   "metadata": {
    "collapsed": false
   },
   "outputs": [],
   "source": [
    "X = train_df.drop(['SeriousDlqin2yrs'], axis=1)\n",
    "y = train_df['SeriousDlqin2yrs']\n",
    "\n",
    "X_unseen = test_df.drop(['SeriousDlqin2yrs'], axis=1)\n",
    "\n",
    "predictions_xgb = []\n",
    "\n",
    "for clf in [xgb_clf, xgb_reg]:\n",
    "    clf.fit(X, y)\n",
    "    predictions = clf.predict(X_unseen)\n",
    "    predictions_xgb.append(predictions)"
   ]
  },
  {
   "cell_type": "code",
   "execution_count": 53,
   "metadata": {
    "collapsed": true
   },
   "outputs": [],
   "source": [
    "X = train_df.drop(['SeriousDlqin2yrs', 'MonthlyIncome'], axis=1)\n",
    "y = train_df['SeriousDlqin2yrs']\n",
    "\n",
    "X_unseen = test_df.drop(['SeriousDlqin2yrs', 'MonthlyIncome'], axis=1)\n",
    "\n",
    "predictions_rf = []\n",
    "\n",
    "for clf in [rf_clf, rf_reg]:\n",
    "    clf.fit(X, y)\n",
    "    predictions = clf.predict(X_unseen)\n",
    "    predictions_rf.append(predictions)"
   ]
  },
  {
   "cell_type": "code",
   "execution_count": 54,
   "metadata": {
    "collapsed": true
   },
   "outputs": [],
   "source": [
    "preds = pd.DataFrame({'xgb_clf': predictions_xgb[0],\n",
    "                      'xgb_reg': predictions_xgb[1],\n",
    "                      'rf_clf': predictions_rf[0],\n",
    "                      'rf_reg': predictions_rf[1]\n",
    "                     })"
   ]
  },
  {
   "cell_type": "code",
   "execution_count": 58,
   "metadata": {
    "collapsed": false
   },
   "outputs": [],
   "source": [
    "final_preds = lr.predict(preds)"
   ]
  },
  {
   "cell_type": "code",
   "execution_count": 71,
   "metadata": {
    "collapsed": false
   },
   "outputs": [],
   "source": [
    "final_preds_df = pd.DataFrame({'Id': range(1, len(final_preds) + 1), 'Probability': final_preds})\n",
    "final_preds_df.to_csv('submission.csv', index=False)"
   ]
  },
  {
   "cell_type": "code",
   "execution_count": null,
   "metadata": {
    "collapsed": true
   },
   "outputs": [],
   "source": []
  }
 ],
 "metadata": {
  "kernelspec": {
   "display_name": "Python 2",
   "language": "python",
   "name": "python2"
  },
  "language_info": {
   "codemirror_mode": {
    "name": "ipython",
    "version": 2
   },
   "file_extension": ".py",
   "mimetype": "text/x-python",
   "name": "python",
   "nbconvert_exporter": "python",
   "pygments_lexer": "ipython2",
   "version": "2.7.12"
  }
 },
 "nbformat": 4,
 "nbformat_minor": 2
}
