{
 "cells": [
  {
   "cell_type": "code",
   "execution_count": 1,
   "metadata": {
    "collapsed": true
   },
   "outputs": [],
   "source": [
    "import numpy as np\n",
    "import pandas as pd\n",
    "import lightgbm as lgb\n",
    "import matplotlib.pyplot as plt\n",
    "\n",
    "IDIR = 'data/'\n",
    "\n",
    "priors_sampling_frac = 0.1"
   ]
  },
  {
   "cell_type": "markdown",
   "metadata": {},
   "source": [
    "# Obtaining knowledge from prior orders"
   ]
  },
  {
   "cell_type": "code",
   "execution_count": 2,
   "metadata": {
    "collapsed": false
   },
   "outputs": [
    {
     "name": "stdout",
     "output_type": "stream",
     "text": [
      "loading prior\n",
      "priors (3243449, 4): order_id, product_id, add_to_cart_order, reordered\n",
      "loading orders\n",
      "orders (3421083, 7): order_id, user_id, eval_set, order_number, order_dow, order_hour_of_day, days_since_prior_order\n",
      "loading products\n",
      "products (49688, 3): product_id, aisle_id, department_id\n"
     ]
    }
   ],
   "source": [
    "print('loading prior')\n",
    "priors = pd.read_csv(IDIR + 'order_products__prior.csv',\n",
    "                     dtype={\n",
    "                         'order_id': np.int32,\n",
    "                         'product_id': np.uint16,\n",
    "                         'add_to_cart_order': np.int16,\n",
    "                         'reordered': np.int8}).sample(frac=priors_sampling_frac)\n",
    "print('priors {}: {}'.format(priors.shape, ', '.join(priors.columns)))\n",
    "\n",
    "print('loading orders')\n",
    "orders = pd.read_csv(IDIR + 'orders.csv',\n",
    "                     dtype={\n",
    "                         'order_id': np.int32,\n",
    "                         'user_id': np.int32,\n",
    "                         'eval_set': 'category',\n",
    "                         'order_number': np.int16,\n",
    "                         'order_dow': np.int8,\n",
    "                         'order_hour_of_day': np.int8,\n",
    "                         'days_since_prior_order': np.float32})\n",
    "print('orders {}: {}'.format(orders.shape, ', '.join(orders.columns)))\n",
    "\n",
    "print('loading products')\n",
    "products = pd.read_csv(IDIR + 'products.csv',\n",
    "                       dtype={\n",
    "                           'product_id': np.uint16,\n",
    "                           'order_id': np.int32,\n",
    "                           'aisle_id': np.uint8,\n",
    "                           'department_id': np.uint8},\n",
    "                       usecols=['product_id', 'aisle_id', 'department_id'])\n",
    "print('products {}: {}'.format(products.shape, ', '.join(products.columns)))"
   ]
  },
  {
   "cell_type": "code",
   "execution_count": 3,
   "metadata": {
    "collapsed": false
   },
   "outputs": [
    {
     "name": "stdout",
     "output_type": "stream",
     "text": [
      "(3243449, 10)\n"
     ]
    }
   ],
   "source": [
    "priors_orders = pd.merge(orders[orders['eval_set'] == 'prior'], priors, on='order_id')\n",
    "\n",
    "print(priors_orders.shape)\n",
    "\n",
    "del priors"
   ]
  },
  {
   "cell_type": "code",
   "execution_count": 4,
   "metadata": {
    "collapsed": false
   },
   "outputs": [
    {
     "data": {
      "text/html": [
       "<div>\n",
       "<style>\n",
       "    .dataframe thead tr:only-child th {\n",
       "        text-align: right;\n",
       "    }\n",
       "\n",
       "    .dataframe thead th {\n",
       "        text-align: left;\n",
       "    }\n",
       "\n",
       "    .dataframe tbody tr th {\n",
       "        vertical-align: top;\n",
       "    }\n",
       "</style>\n",
       "<table border=\"1\" class=\"dataframe\">\n",
       "  <thead>\n",
       "    <tr style=\"text-align: right;\">\n",
       "      <th></th>\n",
       "      <th>order_id</th>\n",
       "      <th>user_id</th>\n",
       "      <th>eval_set</th>\n",
       "      <th>order_number</th>\n",
       "      <th>order_dow</th>\n",
       "      <th>order_hour_of_day</th>\n",
       "      <th>days_since_prior_order</th>\n",
       "      <th>product_id</th>\n",
       "      <th>add_to_cart_order</th>\n",
       "      <th>reordered</th>\n",
       "    </tr>\n",
       "  </thead>\n",
       "  <tbody>\n",
       "    <tr>\n",
       "      <th>0</th>\n",
       "      <td>2539329</td>\n",
       "      <td>1</td>\n",
       "      <td>prior</td>\n",
       "      <td>1</td>\n",
       "      <td>2</td>\n",
       "      <td>8</td>\n",
       "      <td>NaN</td>\n",
       "      <td>196</td>\n",
       "      <td>1</td>\n",
       "      <td>0</td>\n",
       "    </tr>\n",
       "    <tr>\n",
       "      <th>1</th>\n",
       "      <td>2398795</td>\n",
       "      <td>1</td>\n",
       "      <td>prior</td>\n",
       "      <td>2</td>\n",
       "      <td>3</td>\n",
       "      <td>7</td>\n",
       "      <td>15.0</td>\n",
       "      <td>13176</td>\n",
       "      <td>4</td>\n",
       "      <td>0</td>\n",
       "    </tr>\n",
       "    <tr>\n",
       "      <th>2</th>\n",
       "      <td>473747</td>\n",
       "      <td>1</td>\n",
       "      <td>prior</td>\n",
       "      <td>3</td>\n",
       "      <td>3</td>\n",
       "      <td>12</td>\n",
       "      <td>21.0</td>\n",
       "      <td>12427</td>\n",
       "      <td>2</td>\n",
       "      <td>1</td>\n",
       "    </tr>\n",
       "    <tr>\n",
       "      <th>3</th>\n",
       "      <td>3108588</td>\n",
       "      <td>1</td>\n",
       "      <td>prior</td>\n",
       "      <td>8</td>\n",
       "      <td>1</td>\n",
       "      <td>14</td>\n",
       "      <td>14.0</td>\n",
       "      <td>12427</td>\n",
       "      <td>1</td>\n",
       "      <td>1</td>\n",
       "    </tr>\n",
       "    <tr>\n",
       "      <th>4</th>\n",
       "      <td>3108588</td>\n",
       "      <td>1</td>\n",
       "      <td>prior</td>\n",
       "      <td>8</td>\n",
       "      <td>1</td>\n",
       "      <td>14</td>\n",
       "      <td>14.0</td>\n",
       "      <td>46149</td>\n",
       "      <td>5</td>\n",
       "      <td>0</td>\n",
       "    </tr>\n",
       "    <tr>\n",
       "      <th>5</th>\n",
       "      <td>2295261</td>\n",
       "      <td>1</td>\n",
       "      <td>prior</td>\n",
       "      <td>9</td>\n",
       "      <td>1</td>\n",
       "      <td>16</td>\n",
       "      <td>0.0</td>\n",
       "      <td>196</td>\n",
       "      <td>4</td>\n",
       "      <td>1</td>\n",
       "    </tr>\n",
       "    <tr>\n",
       "      <th>6</th>\n",
       "      <td>2168274</td>\n",
       "      <td>2</td>\n",
       "      <td>prior</td>\n",
       "      <td>1</td>\n",
       "      <td>2</td>\n",
       "      <td>11</td>\n",
       "      <td>NaN</td>\n",
       "      <td>45066</td>\n",
       "      <td>13</td>\n",
       "      <td>0</td>\n",
       "    </tr>\n",
       "    <tr>\n",
       "      <th>7</th>\n",
       "      <td>2168274</td>\n",
       "      <td>2</td>\n",
       "      <td>prior</td>\n",
       "      <td>1</td>\n",
       "      <td>2</td>\n",
       "      <td>11</td>\n",
       "      <td>NaN</td>\n",
       "      <td>20574</td>\n",
       "      <td>3</td>\n",
       "      <td>0</td>\n",
       "    </tr>\n",
       "    <tr>\n",
       "      <th>8</th>\n",
       "      <td>2168274</td>\n",
       "      <td>2</td>\n",
       "      <td>prior</td>\n",
       "      <td>1</td>\n",
       "      <td>2</td>\n",
       "      <td>11</td>\n",
       "      <td>NaN</td>\n",
       "      <td>27344</td>\n",
       "      <td>9</td>\n",
       "      <td>0</td>\n",
       "    </tr>\n",
       "    <tr>\n",
       "      <th>9</th>\n",
       "      <td>738281</td>\n",
       "      <td>2</td>\n",
       "      <td>prior</td>\n",
       "      <td>4</td>\n",
       "      <td>2</td>\n",
       "      <td>10</td>\n",
       "      <td>8.0</td>\n",
       "      <td>36735</td>\n",
       "      <td>5</td>\n",
       "      <td>0</td>\n",
       "    </tr>\n",
       "  </tbody>\n",
       "</table>\n",
       "</div>"
      ],
      "text/plain": [
       "   order_id  user_id eval_set  order_number  order_dow  order_hour_of_day  \\\n",
       "0   2539329        1    prior             1          2                  8   \n",
       "1   2398795        1    prior             2          3                  7   \n",
       "2    473747        1    prior             3          3                 12   \n",
       "3   3108588        1    prior             8          1                 14   \n",
       "4   3108588        1    prior             8          1                 14   \n",
       "5   2295261        1    prior             9          1                 16   \n",
       "6   2168274        2    prior             1          2                 11   \n",
       "7   2168274        2    prior             1          2                 11   \n",
       "8   2168274        2    prior             1          2                 11   \n",
       "9    738281        2    prior             4          2                 10   \n",
       "\n",
       "   days_since_prior_order  product_id  add_to_cart_order  reordered  \n",
       "0                     NaN         196                  1          0  \n",
       "1                    15.0       13176                  4          0  \n",
       "2                    21.0       12427                  2          1  \n",
       "3                    14.0       12427                  1          1  \n",
       "4                    14.0       46149                  5          0  \n",
       "5                     0.0         196                  4          1  \n",
       "6                     NaN       45066                 13          0  \n",
       "7                     NaN       20574                  3          0  \n",
       "8                     NaN       27344                  9          0  \n",
       "9                     8.0       36735                  5          0  "
      ]
     },
     "execution_count": 4,
     "metadata": {},
     "output_type": "execute_result"
    }
   ],
   "source": [
    "priors_orders.head(10)"
   ]
  },
  {
   "cell_type": "markdown",
   "metadata": {},
   "source": [
    "## Features by dataset\n",
    "\n",
    "For auxiliary purposes\n",
    "\n",
    "[x] Total number of users<br>\n",
    "[x] Total number of orders<br>\n",
    "[x] Total number of products"
   ]
  },
  {
   "cell_type": "code",
   "execution_count": 5,
   "metadata": {
    "collapsed": true
   },
   "outputs": [],
   "source": [
    "total_users = priors_orders['user_id'].nunique()\n",
    "total_orders = priors_orders['order_id'].nunique()\n",
    "total_products = priors_orders['product_id'].nunique()"
   ]
  },
  {
   "cell_type": "markdown",
   "metadata": {},
   "source": [
    "## Features by user\n",
    "\n",
    "[x]  Total number of orders<br>\n",
    "[x]  Total number of products<br>\n",
    "[x]  Total number of distinct products<br>\n",
    "[x]  Total number of reordered products<br>\n",
    "[x]  Average days since prior order<br>\n",
    "[x]  Average number of products by order<br>\n",
    "[x]  Average number of distinct products by order<br>\n",
    "[x]  Average number of reordered products by order<br>\n",
    "[x]  Rate of distinct products<br>\n",
    "[x]  Rate of reordered products<br>"
   ]
  },
  {
   "cell_type": "code",
   "execution_count": 6,
   "metadata": {
    "collapsed": false
   },
   "outputs": [],
   "source": [
    "agg_func = {'order_id': ['nunique'],\n",
    "            'product_id': ['count', 'nunique'],\n",
    "            'reordered': ['sum'],\n",
    "            'days_since_prior_order': ['mean']}\n",
    "\n",
    "user_feats = priors_orders.groupby('user_id').agg(agg_func)"
   ]
  },
  {
   "cell_type": "code",
   "execution_count": 7,
   "metadata": {
    "collapsed": false
   },
   "outputs": [],
   "source": [
    "# renaming columns\n",
    "user_feats = user_feats[['product_id', 'reordered', 'order_id', 'days_since_prior_order']]\n",
    "\n",
    "user_feats.columns = ['_user_total_products', '_user_total_products_distinct',\n",
    "                      '_user_total_products_reordered', '_user_total_orders',\n",
    "                      '_user_avg_days_since_prior_order']"
   ]
  },
  {
   "cell_type": "code",
   "execution_count": 8,
   "metadata": {
    "collapsed": true
   },
   "outputs": [],
   "source": [
    "user_feats['_user_avg_products_by_order'] = (user_feats['_user_total_products'] /\n",
    "                                             user_feats['_user_total_orders']).astype(np.float32)\n",
    "\n",
    "user_feats['_user_avg_products_distinct_by_order'] = (user_feats['_user_total_products_distinct'] /\n",
    "                                                      user_feats['_user_total_orders']).astype(np.float32)\n",
    "\n",
    "user_feats['_user_avg_products_reordered_by_order'] = (user_feats['_user_total_products_reordered'] /\n",
    "                                                       user_feats['_user_total_orders']).astype(np.float32)"
   ]
  },
  {
   "cell_type": "code",
   "execution_count": 9,
   "metadata": {
    "collapsed": false
   },
   "outputs": [],
   "source": [
    "user_feats['_user_rate_products_distinct'] = (user_feats['_user_total_products_distinct'] /\n",
    "                                              user_feats['_user_total_products']).astype(np.float32)\n",
    "\n",
    "user_feats['_user_rate_products_reordered'] = (user_feats['_user_total_products_reordered'] /\n",
    "                                               user_feats['_user_total_products']).astype(np.float32)"
   ]
  },
  {
   "cell_type": "code",
   "execution_count": 10,
   "metadata": {
    "collapsed": false
   },
   "outputs": [],
   "source": [
    "user_feats['_user_total_products_reordered'] = user_feats['_user_total_products_reordered'].astype(np.int64)"
   ]
  },
  {
   "cell_type": "code",
   "execution_count": 11,
   "metadata": {
    "collapsed": true
   },
   "outputs": [],
   "source": [
    "# resetting index\n",
    "\n",
    "# XXX testing\n",
    "# user_feats = user_feats.reset_index()"
   ]
  },
  {
   "cell_type": "code",
   "execution_count": 12,
   "metadata": {
    "collapsed": true
   },
   "outputs": [],
   "source": [
    "# changing types\n",
    "\n",
    "# XXX testing\n",
    "# feat_dtype = {'user_id': np.int32,\n",
    "feat_dtype = {'_user_total_products': np.uint16,\n",
    "              '_user_total_products_distinct': np.uint16,\n",
    "              '_user_total_products_reordered': np.uint16,\n",
    "              '_user_total_orders': np.uint16,\n",
    "              '_user_avg_days_since_prior_order': np.float32}\n",
    "\n",
    "for (feat, dtype) in feat_dtype.items():\n",
    "    user_feats[feat] = user_feats[feat].astype(dtype)"
   ]
  },
  {
   "cell_type": "code",
   "execution_count": 13,
   "metadata": {
    "collapsed": false
   },
   "outputs": [
    {
     "data": {
      "text/html": [
       "<div>\n",
       "<style>\n",
       "    .dataframe thead tr:only-child th {\n",
       "        text-align: right;\n",
       "    }\n",
       "\n",
       "    .dataframe thead th {\n",
       "        text-align: left;\n",
       "    }\n",
       "\n",
       "    .dataframe tbody tr th {\n",
       "        vertical-align: top;\n",
       "    }\n",
       "</style>\n",
       "<table border=\"1\" class=\"dataframe\">\n",
       "  <thead>\n",
       "    <tr style=\"text-align: right;\">\n",
       "      <th></th>\n",
       "      <th>_user_total_products</th>\n",
       "      <th>_user_total_products_distinct</th>\n",
       "      <th>_user_total_products_reordered</th>\n",
       "      <th>_user_total_orders</th>\n",
       "      <th>_user_avg_days_since_prior_order</th>\n",
       "      <th>_user_avg_products_by_order</th>\n",
       "      <th>_user_avg_products_distinct_by_order</th>\n",
       "      <th>_user_avg_products_reordered_by_order</th>\n",
       "      <th>_user_rate_products_distinct</th>\n",
       "      <th>_user_rate_products_reordered</th>\n",
       "    </tr>\n",
       "    <tr>\n",
       "      <th>user_id</th>\n",
       "      <th></th>\n",
       "      <th></th>\n",
       "      <th></th>\n",
       "      <th></th>\n",
       "      <th></th>\n",
       "      <th></th>\n",
       "      <th></th>\n",
       "      <th></th>\n",
       "      <th></th>\n",
       "      <th></th>\n",
       "    </tr>\n",
       "  </thead>\n",
       "  <tbody>\n",
       "    <tr>\n",
       "      <th>1</th>\n",
       "      <td>6</td>\n",
       "      <td>4</td>\n",
       "      <td>3</td>\n",
       "      <td>5</td>\n",
       "      <td>12.800000</td>\n",
       "      <td>1.200000</td>\n",
       "      <td>0.800000</td>\n",
       "      <td>0.600000</td>\n",
       "      <td>0.666667</td>\n",
       "      <td>0.500000</td>\n",
       "    </tr>\n",
       "    <tr>\n",
       "      <th>2</th>\n",
       "      <td>22</td>\n",
       "      <td>20</td>\n",
       "      <td>11</td>\n",
       "      <td>10</td>\n",
       "      <td>15.894737</td>\n",
       "      <td>2.200000</td>\n",
       "      <td>2.000000</td>\n",
       "      <td>1.100000</td>\n",
       "      <td>0.909091</td>\n",
       "      <td>0.500000</td>\n",
       "    </tr>\n",
       "    <tr>\n",
       "      <th>3</th>\n",
       "      <td>9</td>\n",
       "      <td>7</td>\n",
       "      <td>5</td>\n",
       "      <td>7</td>\n",
       "      <td>13.333333</td>\n",
       "      <td>1.285714</td>\n",
       "      <td>1.000000</td>\n",
       "      <td>0.714286</td>\n",
       "      <td>0.777778</td>\n",
       "      <td>0.555556</td>\n",
       "    </tr>\n",
       "    <tr>\n",
       "      <th>4</th>\n",
       "      <td>4</td>\n",
       "      <td>4</td>\n",
       "      <td>0</td>\n",
       "      <td>3</td>\n",
       "      <td>14.000000</td>\n",
       "      <td>1.333333</td>\n",
       "      <td>1.333333</td>\n",
       "      <td>0.000000</td>\n",
       "      <td>1.000000</td>\n",
       "      <td>0.000000</td>\n",
       "    </tr>\n",
       "    <tr>\n",
       "      <th>5</th>\n",
       "      <td>4</td>\n",
       "      <td>4</td>\n",
       "      <td>3</td>\n",
       "      <td>3</td>\n",
       "      <td>14.750000</td>\n",
       "      <td>1.333333</td>\n",
       "      <td>1.333333</td>\n",
       "      <td>1.000000</td>\n",
       "      <td>1.000000</td>\n",
       "      <td>0.750000</td>\n",
       "    </tr>\n",
       "  </tbody>\n",
       "</table>\n",
       "</div>"
      ],
      "text/plain": [
       "         _user_total_products  _user_total_products_distinct  \\\n",
       "user_id                                                        \n",
       "1                           6                              4   \n",
       "2                          22                             20   \n",
       "3                           9                              7   \n",
       "4                           4                              4   \n",
       "5                           4                              4   \n",
       "\n",
       "         _user_total_products_reordered  _user_total_orders  \\\n",
       "user_id                                                       \n",
       "1                                     3                   5   \n",
       "2                                    11                  10   \n",
       "3                                     5                   7   \n",
       "4                                     0                   3   \n",
       "5                                     3                   3   \n",
       "\n",
       "         _user_avg_days_since_prior_order  _user_avg_products_by_order  \\\n",
       "user_id                                                                  \n",
       "1                               12.800000                     1.200000   \n",
       "2                               15.894737                     2.200000   \n",
       "3                               13.333333                     1.285714   \n",
       "4                               14.000000                     1.333333   \n",
       "5                               14.750000                     1.333333   \n",
       "\n",
       "         _user_avg_products_distinct_by_order  \\\n",
       "user_id                                         \n",
       "1                                    0.800000   \n",
       "2                                    2.000000   \n",
       "3                                    1.000000   \n",
       "4                                    1.333333   \n",
       "5                                    1.333333   \n",
       "\n",
       "         _user_avg_products_reordered_by_order  _user_rate_products_distinct  \\\n",
       "user_id                                                                        \n",
       "1                                     0.600000                      0.666667   \n",
       "2                                     1.100000                      0.909091   \n",
       "3                                     0.714286                      0.777778   \n",
       "4                                     0.000000                      1.000000   \n",
       "5                                     1.000000                      1.000000   \n",
       "\n",
       "         _user_rate_products_reordered  \n",
       "user_id                                 \n",
       "1                             0.500000  \n",
       "2                             0.500000  \n",
       "3                             0.555556  \n",
       "4                             0.000000  \n",
       "5                             0.750000  "
      ]
     },
     "execution_count": 13,
     "metadata": {},
     "output_type": "execute_result"
    }
   ],
   "source": [
    "user_feats.head()"
   ]
  },
  {
   "cell_type": "markdown",
   "metadata": {},
   "source": [
    "## Features by product\n",
    "\n",
    "[x]  Total number of orders<br>\n",
    "[x]  Total number of users<br>\n",
    "[x]  Total number of reorder<br>\n",
    "[x]  Average days since prior order<br>\n",
    "[x]  Rate of orders<br>\n",
    "[x]  Rate of users<br>\n",
    "[x]  Rate of reordered<br>"
   ]
  },
  {
   "cell_type": "code",
   "execution_count": 14,
   "metadata": {
    "collapsed": true
   },
   "outputs": [],
   "source": [
    "agg_func = {'order_id': ['nunique'],\n",
    "            'user_id': ['nunique'],\n",
    "            'reordered': ['sum'],\n",
    "            'days_since_prior_order': ['mean']}\n",
    "\n",
    "product_feats = priors_orders.groupby('product_id').agg(agg_func)"
   ]
  },
  {
   "cell_type": "code",
   "execution_count": 15,
   "metadata": {
    "collapsed": false
   },
   "outputs": [],
   "source": [
    "# renaming columns\n",
    "product_feats = product_feats[['order_id', 'user_id', 'reordered', 'days_since_prior_order']]\n",
    "\n",
    "product_feats.columns = ['_prod_total_orders', '_prod_total_users',\n",
    "                         '_prod_total_reordered', '_prod_avg_days_since_prior_order']"
   ]
  },
  {
   "cell_type": "code",
   "execution_count": 16,
   "metadata": {
    "collapsed": false
   },
   "outputs": [],
   "source": [
    "product_feats['_prod_rate_orders'] = (product_feats['_prod_total_orders'] /\n",
    "                                      total_orders).astype(np.float32)\n",
    "\n",
    "product_feats['_prod_rate_users'] = (product_feats['_prod_total_users'] /\n",
    "                                     total_users).astype(np.float32)\n",
    "\n",
    "product_feats['_prod_rate_reordered'] = (product_feats['_prod_total_reordered'] /\n",
    "                                         product_feats['_prod_total_orders']).astype(np.float32)"
   ]
  },
  {
   "cell_type": "code",
   "execution_count": 20,
   "metadata": {
    "collapsed": true
   },
   "outputs": [],
   "source": [
    "# resetting index\n",
    "product_feats = product_feats.reset_index()"
   ]
  },
  {
   "cell_type": "code",
   "execution_count": 21,
   "metadata": {
    "collapsed": false
   },
   "outputs": [],
   "source": [
    "# changing types\n",
    "feat_dtype = {'product_id': np.uint16,\n",
    "              '_prod_total_orders': np.uint16,\n",
    "              '_prod_total_users': np.uint16,\n",
    "              '_prod_total_reordered': np.uint16}\n",
    "\n",
    "for (feat, dtype) in feat_dtype.items():\n",
    "    product_feats[feat] = product_feats[feat].astype(dtype)"
   ]
  },
  {
   "cell_type": "code",
   "execution_count": 22,
   "metadata": {
    "collapsed": false
   },
   "outputs": [],
   "source": [
    "product_feats = pd.merge(product_feats, products, on='product_id')"
   ]
  },
  {
   "cell_type": "code",
   "execution_count": 25,
   "metadata": {
    "collapsed": false
   },
   "outputs": [],
   "source": [
    "# setting index\n",
    "product_feats = product_feats.set_index('product_id')"
   ]
  },
  {
   "cell_type": "code",
   "execution_count": 26,
   "metadata": {
    "collapsed": false
   },
   "outputs": [
    {
     "data": {
      "text/html": [
       "<div>\n",
       "<style>\n",
       "    .dataframe thead tr:only-child th {\n",
       "        text-align: right;\n",
       "    }\n",
       "\n",
       "    .dataframe thead th {\n",
       "        text-align: left;\n",
       "    }\n",
       "\n",
       "    .dataframe tbody tr th {\n",
       "        vertical-align: top;\n",
       "    }\n",
       "</style>\n",
       "<table border=\"1\" class=\"dataframe\">\n",
       "  <thead>\n",
       "    <tr style=\"text-align: right;\">\n",
       "      <th></th>\n",
       "      <th>_prod_total_orders</th>\n",
       "      <th>_prod_total_users</th>\n",
       "      <th>_prod_total_reordered</th>\n",
       "      <th>_prod_avg_days_since_prior_order</th>\n",
       "      <th>_prod_rate_orders</th>\n",
       "      <th>_prod_rate_users</th>\n",
       "      <th>_prod_rate_reordered</th>\n",
       "      <th>aisle_id</th>\n",
       "      <th>department_id</th>\n",
       "    </tr>\n",
       "    <tr>\n",
       "      <th>product_id</th>\n",
       "      <th></th>\n",
       "      <th></th>\n",
       "      <th></th>\n",
       "      <th></th>\n",
       "      <th></th>\n",
       "      <th></th>\n",
       "      <th></th>\n",
       "      <th></th>\n",
       "      <th></th>\n",
       "    </tr>\n",
       "  </thead>\n",
       "  <tbody>\n",
       "    <tr>\n",
       "      <th>1</th>\n",
       "      <td>178</td>\n",
       "      <td>144</td>\n",
       "      <td>102</td>\n",
       "      <td>10.427711</td>\n",
       "      <td>0.000098</td>\n",
       "      <td>0.000726</td>\n",
       "      <td>0.573034</td>\n",
       "      <td>61</td>\n",
       "      <td>19</td>\n",
       "    </tr>\n",
       "    <tr>\n",
       "      <th>2</th>\n",
       "      <td>7</td>\n",
       "      <td>7</td>\n",
       "      <td>1</td>\n",
       "      <td>14.428572</td>\n",
       "      <td>0.000004</td>\n",
       "      <td>0.000035</td>\n",
       "      <td>0.142857</td>\n",
       "      <td>104</td>\n",
       "      <td>13</td>\n",
       "    </tr>\n",
       "    <tr>\n",
       "      <th>3</th>\n",
       "      <td>35</td>\n",
       "      <td>25</td>\n",
       "      <td>24</td>\n",
       "      <td>10.750000</td>\n",
       "      <td>0.000019</td>\n",
       "      <td>0.000126</td>\n",
       "      <td>0.685714</td>\n",
       "      <td>94</td>\n",
       "      <td>7</td>\n",
       "    </tr>\n",
       "    <tr>\n",
       "      <th>4</th>\n",
       "      <td>37</td>\n",
       "      <td>33</td>\n",
       "      <td>18</td>\n",
       "      <td>14.451612</td>\n",
       "      <td>0.000020</td>\n",
       "      <td>0.000166</td>\n",
       "      <td>0.486486</td>\n",
       "      <td>38</td>\n",
       "      <td>1</td>\n",
       "    </tr>\n",
       "    <tr>\n",
       "      <th>5</th>\n",
       "      <td>2</td>\n",
       "      <td>2</td>\n",
       "      <td>0</td>\n",
       "      <td>5.500000</td>\n",
       "      <td>0.000001</td>\n",
       "      <td>0.000010</td>\n",
       "      <td>0.000000</td>\n",
       "      <td>5</td>\n",
       "      <td>13</td>\n",
       "    </tr>\n",
       "  </tbody>\n",
       "</table>\n",
       "</div>"
      ],
      "text/plain": [
       "            _prod_total_orders  _prod_total_users  _prod_total_reordered  \\\n",
       "product_id                                                                 \n",
       "1                          178                144                    102   \n",
       "2                            7                  7                      1   \n",
       "3                           35                 25                     24   \n",
       "4                           37                 33                     18   \n",
       "5                            2                  2                      0   \n",
       "\n",
       "            _prod_avg_days_since_prior_order  _prod_rate_orders  \\\n",
       "product_id                                                        \n",
       "1                                  10.427711           0.000098   \n",
       "2                                  14.428572           0.000004   \n",
       "3                                  10.750000           0.000019   \n",
       "4                                  14.451612           0.000020   \n",
       "5                                   5.500000           0.000001   \n",
       "\n",
       "            _prod_rate_users  _prod_rate_reordered  aisle_id  department_id  \n",
       "product_id                                                                   \n",
       "1                   0.000726              0.573034        61             19  \n",
       "2                   0.000035              0.142857       104             13  \n",
       "3                   0.000126              0.685714        94              7  \n",
       "4                   0.000166              0.486486        38              1  \n",
       "5                   0.000010              0.000000         5             13  "
      ]
     },
     "execution_count": 26,
     "metadata": {},
     "output_type": "execute_result"
    }
   ],
   "source": [
    "product_feats.head()"
   ]
  },
  {
   "cell_type": "markdown",
   "metadata": {},
   "source": [
    "## Features by User X Product\n",
    "\n",
    "[x]  Total number of orders<br>\n",
    "[x]  Average days since prior order<br>\n",
    "**[ ]  Rate of orders**<br>\n",
    "**[ ]  Rate of reordered**"
   ]
  },
  {
   "cell_type": "code",
   "execution_count": 27,
   "metadata": {
    "collapsed": true
   },
   "outputs": [],
   "source": [
    "agg_func = {'order_id': ['nunique'],\n",
    "            'days_since_prior_order': ['mean']}\n",
    "\n",
    "user_product_feats = priors_orders.groupby(['user_id', 'product_id']).agg(agg_func)"
   ]
  },
  {
   "cell_type": "code",
   "execution_count": 28,
   "metadata": {
    "collapsed": true
   },
   "outputs": [],
   "source": [
    "# renaming columns\n",
    "user_product_feats = user_product_feats[['days_since_prior_order', 'order_id']]\n",
    "\n",
    "user_product_feats.columns = ['_uxp_avg_days_since_prior_order', '_uxp_total_orders']"
   ]
  },
  {
   "cell_type": "code",
   "execution_count": 29,
   "metadata": {
    "collapsed": false
   },
   "outputs": [
    {
     "data": {
      "text/html": [
       "<div>\n",
       "<style>\n",
       "    .dataframe thead tr:only-child th {\n",
       "        text-align: right;\n",
       "    }\n",
       "\n",
       "    .dataframe thead th {\n",
       "        text-align: left;\n",
       "    }\n",
       "\n",
       "    .dataframe tbody tr th {\n",
       "        vertical-align: top;\n",
       "    }\n",
       "</style>\n",
       "<table border=\"1\" class=\"dataframe\">\n",
       "  <thead>\n",
       "    <tr style=\"text-align: right;\">\n",
       "      <th></th>\n",
       "      <th></th>\n",
       "      <th>_uxp_avg_days_since_prior_order</th>\n",
       "      <th>_uxp_total_orders</th>\n",
       "    </tr>\n",
       "    <tr>\n",
       "      <th>user_id</th>\n",
       "      <th>product_id</th>\n",
       "      <th></th>\n",
       "      <th></th>\n",
       "    </tr>\n",
       "  </thead>\n",
       "  <tbody>\n",
       "    <tr>\n",
       "      <th rowspan=\"4\" valign=\"top\">1</th>\n",
       "      <th>196</th>\n",
       "      <td>0.0</td>\n",
       "      <td>2</td>\n",
       "    </tr>\n",
       "    <tr>\n",
       "      <th>12427</th>\n",
       "      <td>17.5</td>\n",
       "      <td>2</td>\n",
       "    </tr>\n",
       "    <tr>\n",
       "      <th>13176</th>\n",
       "      <td>15.0</td>\n",
       "      <td>1</td>\n",
       "    </tr>\n",
       "    <tr>\n",
       "      <th>46149</th>\n",
       "      <td>14.0</td>\n",
       "      <td>1</td>\n",
       "    </tr>\n",
       "    <tr>\n",
       "      <th>2</th>\n",
       "      <th>9124</th>\n",
       "      <td>8.0</td>\n",
       "      <td>1</td>\n",
       "    </tr>\n",
       "  </tbody>\n",
       "</table>\n",
       "</div>"
      ],
      "text/plain": [
       "                    _uxp_avg_days_since_prior_order  _uxp_total_orders\n",
       "user_id product_id                                                    \n",
       "1       196                                     0.0                  2\n",
       "        12427                                  17.5                  2\n",
       "        13176                                  15.0                  1\n",
       "        46149                                  14.0                  1\n",
       "2       9124                                    8.0                  1"
      ]
     },
     "execution_count": 29,
     "metadata": {},
     "output_type": "execute_result"
    }
   ],
   "source": [
    "user_product_feats.head()"
   ]
  }
 ],
 "metadata": {
  "kernelspec": {
   "display_name": "Python 3",
   "language": "python",
   "name": "python3"
  },
  "language_info": {
   "codemirror_mode": {
    "name": "ipython",
    "version": 3
   },
   "file_extension": ".py",
   "mimetype": "text/x-python",
   "name": "python",
   "nbconvert_exporter": "python",
   "pygments_lexer": "ipython3",
   "version": "3.5.2"
  }
 },
 "nbformat": 4,
 "nbformat_minor": 2
}
