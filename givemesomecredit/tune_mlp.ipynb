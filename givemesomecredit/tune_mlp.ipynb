{
 "cells": [
  {
   "cell_type": "code",
   "execution_count": 20,
   "metadata": {
    "collapsed": true
   },
   "outputs": [],
   "source": [
    "import numpy as np\n",
    "import scipy as sp\n",
    "import pandas as pd\n",
    "import matplotlib.pyplot as plt\n",
    "import seaborn as sns"
   ]
  },
  {
   "cell_type": "code",
   "execution_count": 34,
   "metadata": {
    "collapsed": false
   },
   "outputs": [],
   "source": [
    "from sklearn.model_selection import train_test_split"
   ]
  },
  {
   "cell_type": "code",
   "execution_count": 35,
   "metadata": {
    "collapsed": false
   },
   "outputs": [],
   "source": [
    "from theano import tensor as T\n",
    "\n",
    "from lasagne.layers import InputLayer, DenseLayer, DropoutLayer\n",
    "from lasagne.nonlinearities import sigmoid\n",
    "from lasagne.updates import nesterov_momentum\n",
    "from lasagne.objectives import binary_crossentropy\n",
    "\n",
    "from nolearn.lasagne import NeuralNet, TrainSplit"
   ]
  },
  {
   "cell_type": "code",
   "execution_count": 23,
   "metadata": {
    "collapsed": true
   },
   "outputs": [],
   "source": [
    "def load_fulldataset():\n",
    "    df = pd.read_csv('data_extracted/cs-training-prepared.csv').dropna(axis=1)\n",
    "\n",
    "    target_var = 'SeriousDlqin2yrs'\n",
    "\n",
    "    X = df.drop([target_var], axis=1).dropna(axis=1)\n",
    "    y = df[target_var]\n",
    "    \n",
    "    print('DataFrame shape: %d x %d' % (X.shape))\n",
    "    \n",
    "    return (X, y)"
   ]
  },
  {
   "cell_type": "code",
   "execution_count": 24,
   "metadata": {
    "collapsed": true
   },
   "outputs": [],
   "source": [
    "def load_dataset(test_size=0.2, val_size=0.2):\n",
    "    X, y = load_fulldataset()\n",
    "    \n",
    "    X_train, X_test, y_train, y_test = train_test_split(X, y, test_size=test_size)\n",
    "    \n",
    "    X_train, X_val, y_train, y_val = train_test_split(X_train, y_train, test_size=val_size)\n",
    "    \n",
    "    return(X_train, X_val, X_test, y_train, y_val, y_test)"
   ]
  },
  {
   "cell_type": "code",
   "execution_count": 25,
   "metadata": {
    "collapsed": false
   },
   "outputs": [
    {
     "name": "stdout",
     "output_type": "stream",
     "text": [
      "DataFrame shape: 150000 x 10\n"
     ]
    }
   ],
   "source": [
    "# X_train, X_val, X_test, y_train, y_val, y_test = load_dataset()\n",
    "X, y = load_fulldataset()"
   ]
  },
  {
   "cell_type": "code",
   "execution_count": 39,
   "metadata": {
    "collapsed": false
   },
   "outputs": [],
   "source": [
    "X = np.asarray(X, dtype=np.float32)\n",
    "y = np.asarray(y, dtype=np.int32).reshape(-1, 1)"
   ]
  },
  {
   "cell_type": "code",
   "execution_count": 26,
   "metadata": {
    "collapsed": true
   },
   "outputs": [],
   "source": [
    "num_features = X.shape[1]"
   ]
  },
  {
   "cell_type": "code",
   "execution_count": 41,
   "metadata": {
    "collapsed": false
   },
   "outputs": [
    {
     "name": "stdout",
     "output_type": "stream",
     "text": [
      "# Neural Network with 7441 learnable parameters\n",
      "\n",
      "## Layer information\n",
      "\n",
      "  #  name        size\n",
      "---  --------  ------\n",
      "  0  input         10\n",
      "  1  hidden1       80\n",
      "  2  dropout1      80\n",
      "  3  hidden2       80\n",
      "  4  dropout2      80\n",
      "  5  output         1\n",
      "\n",
      "  epoch    trn loss    val loss    trn/val  dur\n",
      "-------  ----------  ----------  ---------  -----\n",
      "      1     \u001b[36m5.04915\u001b[0m     \u001b[32m0.24667\u001b[0m   20.46894  4.15s\n",
      "      2     \u001b[36m0.24665\u001b[0m     \u001b[32m0.24655\u001b[0m    1.00040  4.02s\n",
      "      3     0.24669     \u001b[32m0.24649\u001b[0m    1.00081  3.44s\n",
      "      4     \u001b[36m0.24656\u001b[0m     0.24668    0.99951  3.32s\n",
      "      5     \u001b[36m0.24626\u001b[0m     \u001b[32m0.24646\u001b[0m    0.99919  3.72s\n",
      "      6     \u001b[36m0.24610\u001b[0m     0.24670    0.99756  4.17s\n",
      "      7     0.24622     0.24660    0.99847  4.09s\n",
      "      8     0.24628     0.24657    0.99884  3.52s\n",
      "      9     \u001b[36m0.24593\u001b[0m     \u001b[32m0.24624\u001b[0m    0.99876  3.43s\n",
      "     10     0.24623     \u001b[32m0.24622\u001b[0m    1.00005  3.55s\n",
      "     11     0.24596     \u001b[32m0.24619\u001b[0m    0.99905  3.65s\n",
      "     12     0.24594     \u001b[32m0.24607\u001b[0m    0.99949  3.56s\n",
      "     13     \u001b[36m0.24588\u001b[0m     0.24612    0.99904  3.32s\n",
      "     14     0.24602     0.24618    0.99934  3.58s\n",
      "     15     0.24592     0.24615    0.99904  3.60s\n",
      "     16     \u001b[36m0.24586\u001b[0m     0.24618    0.99869  3.57s\n",
      "     17     0.24586     0.24620    0.99862  3.63s\n",
      "     18     \u001b[36m0.24583\u001b[0m     \u001b[32m0.24604\u001b[0m    0.99914  3.56s\n",
      "     19     \u001b[36m0.24581\u001b[0m     0.24607    0.99891  3.52s\n",
      "     20     0.24581     \u001b[32m0.24602\u001b[0m    0.99913  3.66s\n"
     ]
    },
    {
     "data": {
      "text/plain": [
       "NeuralNet(X_tensor_type=None,\n",
       "     batch_iterator_test=<nolearn.lasagne.base.BatchIterator object at 0x7f3b2f36ea90>,\n",
       "     batch_iterator_train=<nolearn.lasagne.base.BatchIterator object at 0x7f3b2f48db10>,\n",
       "     check_input=True, custom_scores=None, dropout1_p=0.1, dropout2_p=0.1,\n",
       "     hidden1_num_units=80, hidden2_num_units=80, input_shape=(None, 10),\n",
       "     layers=[('input', <class 'lasagne.layers.input.InputLayer'>), ('hidden1', <class 'lasagne.layers.dense.DenseLayer'>), ('dropout1', <class 'lasagne.layers.noise.DropoutLayer'>), ('hidden2', <class 'lasagne.layers.dense.DenseLayer'>), ('dropout2', <class 'lasagne.layers.noise.DropoutLayer'>), ('output', <class 'lasagne.layers.dense.DenseLayer'>)],\n",
       "     loss=None, max_epochs=20, more_params={},\n",
       "     objective=<function objective at 0x7f3b2f2f7cf8>,\n",
       "     objective_loss_function=<function binary_crossentropy at 0x7f3b2f41ecf8>,\n",
       "     on_batch_finished=[],\n",
       "     on_epoch_finished=[<nolearn.lasagne.handlers.PrintLog instance at 0x7f3b29b776c8>],\n",
       "     on_training_finished=[],\n",
       "     on_training_started=[<nolearn.lasagne.handlers.PrintLayerInfo instance at 0x7f3b29b77830>],\n",
       "     output_nonlinearity=<function sigmoid at 0x7f3b2f5962a8>,\n",
       "     output_num_units=1, regression=True, scores_train=[], scores_valid=[],\n",
       "     train_split=<nolearn.lasagne.base.TrainSplit object at 0x7f3b29a398d0>,\n",
       "     update=<function nesterov_momentum at 0x7f3b2f42daa0>,\n",
       "     update_learning_rate=0.01, update_momentum=0.9,\n",
       "     use_label_encoder=False, verbose=10,\n",
       "     y_tensor_type=TensorType(int32, matrix))"
      ]
     },
     "execution_count": 41,
     "metadata": {},
     "output_type": "execute_result"
    }
   ],
   "source": [
    "net0 = NeuralNet(layers=[('input', InputLayer), ('hidden1', DenseLayer), ('dropout1', DropoutLayer),\n",
    "                         ('hidden2', DenseLayer), ('dropout2', DropoutLayer), ('output', DenseLayer)],\n",
    "                 input_shape=(None, num_features), hidden1_num_units=80,\n",
    "                 dropout1_p=0.1, hidden2_num_units=80, dropout2_p=0.1,\n",
    "                 output_nonlinearity=sigmoid, output_num_units=1,\n",
    "                 update=nesterov_momentum, update_learning_rate=0.01, update_momentum=0.9,\n",
    "                 regression=True, y_tensor_type=T.imatrix, objective_loss_function=binary_crossentropy,\n",
    "                 max_epochs=20, train_split=TrainSplit(eval_size=0.4), verbose=10)\n",
    "\n",
    "net0.fit(X, y)"
   ]
  },
  {
   "cell_type": "code",
   "execution_count": 44,
   "metadata": {
    "collapsed": false
   },
   "outputs": [
    {
     "name": "stdout",
     "output_type": "stream",
     "text": [
      "# Neural Network with 15961 learnable parameters\n",
      "\n",
      "## Layer information\n",
      "\n",
      "  #  name        size\n",
      "---  --------  ------\n",
      "  0  input         10\n",
      "  1  hidden1      120\n",
      "  2  dropout1     120\n",
      "  3  hidden2      120\n",
      "  4  dropout2     120\n",
      "  5  output         1\n",
      "\n",
      "  epoch    trn loss    val loss    trn/val  dur\n",
      "-------  ----------  ----------  ---------  -----\n",
      "      1    \u001b[36m41.89387\u001b[0m     \u001b[32m0.24579\u001b[0m  170.44244  7.04s\n",
      "      2     \u001b[36m0.24531\u001b[0m     \u001b[32m0.24568\u001b[0m    0.99848  6.51s\n",
      "      3     \u001b[36m0.24523\u001b[0m     \u001b[32m0.24566\u001b[0m    0.99828  6.43s\n",
      "      4     \u001b[36m0.24523\u001b[0m     0.24567    0.99821  8.26s\n",
      "      5     0.24523     0.24566    0.99823  7.15s\n",
      "      6     0.24523     0.24567    0.99822  6.95s\n",
      "      7     0.24524     \u001b[32m0.24565\u001b[0m    0.99832  6.75s\n",
      "      8     0.24525     0.24567    0.99831  6.93s\n",
      "      9     0.24526     0.24566    0.99838  6.60s\n",
      "     10     0.24525     0.24566    0.99833  7.40s\n",
      "     11     \u001b[36m0.24522\u001b[0m     0.24567    0.99819  8.00s\n",
      "     12     0.24527     0.24567    0.99839  8.95s\n"
     ]
    },
    {
     "data": {
      "text/plain": [
       "NeuralNet(X_tensor_type=None,\n",
       "     batch_iterator_test=<nolearn.lasagne.base.BatchIterator object at 0x7f3b2f36ea90>,\n",
       "     batch_iterator_train=<nolearn.lasagne.base.BatchIterator object at 0x7f3b2f48db10>,\n",
       "     check_input=True, custom_scores=None, dropout1_p=0.25,\n",
       "     dropout2_p=0.25, hidden1_num_units=120, hidden2_num_units=120,\n",
       "     input_shape=(None, 10),\n",
       "     layers=[('input', <class 'lasagne.layers.input.InputLayer'>), ('hidden1', <class 'lasagne.layers.dense.DenseLayer'>), ('dropout1', <class 'lasagne.layers.noise.DropoutLayer'>), ('hidden2', <class 'lasagne.layers.dense.DenseLayer'>), ('dropout2', <class 'lasagne.layers.noise.DropoutLayer'>), ('output', <class 'lasagne.layers.dense.DenseLayer'>)],\n",
       "     loss=None, max_epochs=20, more_params={},\n",
       "     objective=<function objective at 0x7f3b2f2f7cf8>,\n",
       "     objective_loss_function=<function binary_crossentropy at 0x7f3b2f41ecf8>,\n",
       "     on_batch_finished=[],\n",
       "     on_epoch_finished=[<nolearn.lasagne.handlers.PrintLog instance at 0x7f3b258bd830>],\n",
       "     on_training_finished=[],\n",
       "     on_training_started=[<nolearn.lasagne.handlers.PrintLayerInfo instance at 0x7f3b258bd8c0>],\n",
       "     output_nonlinearity=<function sigmoid at 0x7f3b2f5962a8>,\n",
       "     output_num_units=1, regression=True, scores_train=[], scores_valid=[],\n",
       "     train_split=<nolearn.lasagne.base.TrainSplit object at 0x7f3b258a8910>,\n",
       "     update=<function nesterov_momentum at 0x7f3b2f42daa0>,\n",
       "     update_learning_rate=0.01, update_momentum=0.9,\n",
       "     use_label_encoder=False, verbose=10,\n",
       "     y_tensor_type=TensorType(int32, matrix))"
      ]
     },
     "execution_count": 44,
     "metadata": {},
     "output_type": "execute_result"
    }
   ],
   "source": [
    "net1 = NeuralNet(layers=[('input', InputLayer), ('hidden1', DenseLayer), ('dropout1', DropoutLayer),\n",
    "                         ('hidden2', DenseLayer), ('dropout2', DropoutLayer), ('output', DenseLayer)],\n",
    "                 input_shape=(None, num_features), hidden1_num_units=120,\n",
    "                 dropout1_p=0.25, hidden2_num_units=120, dropout2_p=0.25,\n",
    "                 output_nonlinearity=sigmoid, output_num_units=1,\n",
    "                 update=nesterov_momentum, update_learning_rate=0.01, update_momentum=0.9,\n",
    "                 regression=True, y_tensor_type=T.imatrix, objective_loss_function=binary_crossentropy,\n",
    "                 max_epochs=20, train_split=TrainSplit(eval_size=0.4), verbose=10)\n",
    "\n",
    "net1.fit(X, y)"
   ]
  },
  {
   "cell_type": "code",
   "execution_count": 47,
   "metadata": {
    "collapsed": false
   },
   "outputs": [
    {
     "name": "stdout",
     "output_type": "stream",
     "text": [
      "# Neural Network with 7441 learnable parameters\n",
      "\n",
      "## Layer information\n",
      "\n",
      "  #  name        size\n",
      "---  --------  ------\n",
      "  0  input         10\n",
      "  1  hidden1       80\n",
      "  2  dropout1      80\n",
      "  3  hidden2       80\n",
      "  4  dropout2      80\n",
      "  5  output         1\n",
      "\n",
      "  epoch    trn loss    val loss    trn/val  dur\n",
      "-------  ----------  ----------  ---------  -----\n",
      "      1     \u001b[36m0.99642\u001b[0m     \u001b[32m0.24622\u001b[0m    4.04689  3.38s\n",
      "      2     \u001b[36m0.24764\u001b[0m     0.24623    1.00575  3.37s\n",
      "      3     \u001b[36m0.24674\u001b[0m     \u001b[32m0.24612\u001b[0m    1.00253  3.64s\n",
      "      4     0.24686     0.24641    1.00185  3.37s\n",
      "      5     0.24690     0.24660    1.00120  3.39s\n",
      "      6     \u001b[36m0.24634\u001b[0m     0.24644    0.99957  3.39s\n",
      "      7     \u001b[36m0.24622\u001b[0m     \u001b[32m0.24593\u001b[0m    1.00119  3.41s\n",
      "      8     \u001b[36m0.24601\u001b[0m     \u001b[32m0.24590\u001b[0m    1.00042  3.38s\n",
      "      9     0.24612     0.24604    1.00032  3.50s\n",
      "     10     \u001b[36m0.24576\u001b[0m     0.24592    0.99932  3.52s\n",
      "     11     0.24585     \u001b[32m0.24585\u001b[0m    1.00001  3.53s\n",
      "     12     0.24578     \u001b[32m0.24584\u001b[0m    0.99975  3.53s\n",
      "     13     0.24591     0.24585    1.00026  3.55s\n",
      "     14     0.24578     0.24592    0.99942  3.74s\n",
      "     15     \u001b[36m0.24562\u001b[0m     0.24585    0.99907  3.57s\n",
      "     16     \u001b[36m0.24562\u001b[0m     0.24594    0.99871  3.55s\n",
      "     17     \u001b[36m0.24559\u001b[0m     0.24595    0.99855  3.52s\n",
      "     18     0.24560     0.24589    0.99883  3.55s\n",
      "     19     \u001b[36m0.24550\u001b[0m     0.24590    0.99840  3.56s\n",
      "     20     0.24561     \u001b[32m0.24582\u001b[0m    0.99912  3.57s\n"
     ]
    },
    {
     "data": {
      "text/plain": [
       "NeuralNet(X_tensor_type=None,\n",
       "     batch_iterator_test=<nolearn.lasagne.base.BatchIterator object at 0x7f3b2f36ea90>,\n",
       "     batch_iterator_train=<nolearn.lasagne.base.BatchIterator object at 0x7f3b2f48db10>,\n",
       "     check_input=True, custom_scores=None, dropout1_p=0.1, dropout2_p=0.1,\n",
       "     hidden1_num_units=80, hidden2_num_units=80, input_shape=(None, 10),\n",
       "     layers=[('input', <class 'lasagne.layers.input.InputLayer'>), ('hidden1', <class 'lasagne.layers.dense.DenseLayer'>), ('dropout1', <class 'lasagne.layers.noise.DropoutLayer'>), ('hidden2', <class 'lasagne.layers.dense.DenseLayer'>), ('dropout2', <class 'lasagne.layers.noise.DropoutLayer'>), ('output', <class 'lasagne.layers.dense.DenseLayer'>)],\n",
       "     loss=None, max_epochs=20, more_params={},\n",
       "     objective=<function objective at 0x7f3b2f2f7cf8>,\n",
       "     objective_loss_function=<function binary_crossentropy at 0x7f3b2f41ecf8>,\n",
       "     on_batch_finished=[],\n",
       "     on_epoch_finished=[<nolearn.lasagne.handlers.PrintLog instance at 0x7f3b24c9b7a0>],\n",
       "     on_training_finished=[],\n",
       "     on_training_started=[<nolearn.lasagne.handlers.PrintLayerInfo instance at 0x7f3b24c9b290>],\n",
       "     output_nonlinearity=<function sigmoid at 0x7f3b2f5962a8>,\n",
       "     output_num_units=1, regression=True, scores_train=[], scores_valid=[],\n",
       "     train_split=<nolearn.lasagne.base.TrainSplit object at 0x7f3b24b73890>,\n",
       "     update=<function nesterov_momentum at 0x7f3b2f42daa0>,\n",
       "     update_learning_rate=0.01, update_momentum=0.9,\n",
       "     use_label_encoder=False, verbose=10,\n",
       "     y_tensor_type=TensorType(int32, matrix))"
      ]
     },
     "execution_count": 47,
     "metadata": {},
     "output_type": "execute_result"
    }
   ],
   "source": [
    "net2 = NeuralNet(layers=[('input', InputLayer), ('hidden1', DenseLayer), ('dropout1', DropoutLayer),\n",
    "                         ('hidden2', DenseLayer), ('dropout2', DropoutLayer), ('output', DenseLayer)],\n",
    "                 input_shape=(None, num_features), hidden1_num_units=80,\n",
    "                 dropout1_p=0.1, hidden2_num_units=80, dropout2_p=0.1,\n",
    "                 output_nonlinearity=sigmoid, output_num_units=1,\n",
    "                 update=nesterov_momentum, update_learning_rate=0.01, update_momentum=0.9,\n",
    "                 regression=True, y_tensor_type=T.imatrix, objective_loss_function=binary_crossentropy,\n",
    "                 max_epochs=20, train_split=TrainSplit(eval_size=0.4), verbose=10)\n",
    "\n",
    "net2.fit(X, y)"
   ]
  },
  {
   "cell_type": "code",
   "execution_count": 48,
   "metadata": {
    "collapsed": false
   },
   "outputs": [
    {
     "name": "stdout",
     "output_type": "stream",
     "text": [
      "# Neural Network with 13921 learnable parameters\n",
      "\n",
      "## Layer information\n",
      "\n",
      "  #  name        size\n",
      "---  --------  ------\n",
      "  0  input         10\n",
      "  1  hidden1       80\n",
      "  2  dropout1      80\n",
      "  3  hidden2       80\n",
      "  4  dropout2      80\n",
      "  5  hidden3       80\n",
      "  6  dropout3      80\n",
      "  7  output         1\n",
      "\n",
      "  epoch    trn loss    val loss    trn/val  dur\n",
      "-------  ----------  ----------  ---------  -----\n",
      "      1     \u001b[36m0.78369\u001b[0m     \u001b[32m0.21831\u001b[0m    3.58985  6.32s\n",
      "      2     \u001b[36m0.21713\u001b[0m     0.21848    0.99383  7.12s\n",
      "      3     \u001b[36m0.21290\u001b[0m     \u001b[32m0.20926\u001b[0m    1.01740  5.83s\n",
      "      4     \u001b[36m0.20996\u001b[0m     \u001b[32m0.20532\u001b[0m    1.02262  5.86s\n",
      "      5     0.21073     \u001b[32m0.20424\u001b[0m    1.03176  5.82s\n",
      "      6     0.21104     0.20496    1.02967  6.01s\n",
      "      7     0.21058     0.20433    1.03059  5.69s\n",
      "      8     0.21023     0.21159    0.99359  6.03s\n",
      "      9     \u001b[36m0.20974\u001b[0m     \u001b[32m0.20386\u001b[0m    1.02885  5.92s\n",
      "     10     \u001b[36m0.20843\u001b[0m     \u001b[32m0.20381\u001b[0m    1.02266  5.98s\n",
      "     11     0.20960     0.21092    0.99373  6.01s\n",
      "     12     0.21273     0.20791    1.02321  6.38s\n",
      "     13     0.21258     0.21330    0.99662  6.19s\n",
      "     14     0.21300     0.20687    1.02964  6.33s\n",
      "     15     0.21163     0.20759    1.01947  6.33s\n",
      "     16     0.21185     0.20612    1.02780  6.54s\n",
      "     17     0.21158     0.20817    1.01635  6.28s\n",
      "     18     0.21086     0.21022    1.00307  6.27s\n",
      "     19     0.21040     0.20560    1.02335  6.24s\n",
      "     20     0.21008     0.20533    1.02313  6.21s\n"
     ]
    },
    {
     "data": {
      "text/plain": [
       "NeuralNet(X_tensor_type=None,\n",
       "     batch_iterator_test=<nolearn.lasagne.base.BatchIterator object at 0x7f3b2f36ea90>,\n",
       "     batch_iterator_train=<nolearn.lasagne.base.BatchIterator object at 0x7f3b2f48db10>,\n",
       "     check_input=True, custom_scores=None, dropout1_p=0.1, dropout2_p=0.1,\n",
       "     dropout3_p=0.1, hidden1_num_units=80, hidden2_num_units=80,\n",
       "     hidden3_num_units=80, input_shape=(None, 10),\n",
       "     layers=[('input', <class 'lasagne.layers.input.InputLayer'>), ('hidden1', <class 'lasagne.layers.dense.DenseLayer'>), ('dropout1', <class 'lasagne.layers.noise.DropoutLayer'>), ('hidden2', <class 'lasagne.layers.dense.DenseLayer'>), ('dropout2', <class 'lasagne.layers.noise.DropoutLayer'>), ('hidden3', <class 'lasagne.layers.dense.DenseLayer'>), ('dropout3', <class 'lasagne.layers.noise.DropoutLayer'>), ('output', <class 'lasagne.layers.dense.DenseLayer'>)],\n",
       "     loss=None, max_epochs=20, more_params={},\n",
       "     objective=<function objective at 0x7f3b2f2f7cf8>,\n",
       "     objective_loss_function=<function binary_crossentropy at 0x7f3b2f41ecf8>,\n",
       "     on_batch_finished=[],\n",
       "     on_epoch_finished=[<nolearn.lasagne.handlers.PrintLog instance at 0x7f3b24519c68>],\n",
       "     on_training_finished=[],\n",
       "     on_training_started=[<nolearn.lasagne.handlers.PrintLayerInfo instance at 0x7f3b244a9dd0>],\n",
       "     output_nonlinearity=<function sigmoid at 0x7f3b2f5962a8>,\n",
       "     output_num_units=1, regression=True, scores_train=[], scores_valid=[],\n",
       "     train_split=<nolearn.lasagne.base.TrainSplit object at 0x7f3b2507dd50>,\n",
       "     update=<function nesterov_momentum at 0x7f3b2f42daa0>,\n",
       "     update_learning_rate=0.01, update_momentum=0.9,\n",
       "     use_label_encoder=False, verbose=10,\n",
       "     y_tensor_type=TensorType(int32, matrix))"
      ]
     },
     "execution_count": 48,
     "metadata": {},
     "output_type": "execute_result"
    }
   ],
   "source": [
    "net3 = NeuralNet(layers=[('input', InputLayer), ('hidden1', DenseLayer), ('dropout1', DropoutLayer),\n",
    "                         ('hidden2', DenseLayer), ('dropout2', DropoutLayer), ('hidden3', DenseLayer),\n",
    "                         ('dropout3', DropoutLayer), ('output', DenseLayer)],\n",
    "                 input_shape=(None, num_features), hidden1_num_units=80,\n",
    "                 dropout1_p=0.1, hidden2_num_units=80, dropout2_p=0.1,\n",
    "                 hidden3_num_units=80, dropout3_p=0.1,\n",
    "                 output_nonlinearity=sigmoid, output_num_units=1,\n",
    "                 update=nesterov_momentum, update_learning_rate=0.01, update_momentum=0.9,\n",
    "                 regression=True, y_tensor_type=T.imatrix, objective_loss_function=binary_crossentropy,\n",
    "                 max_epochs=20, train_split=TrainSplit(eval_size=0.4), verbose=10)\n",
    "\n",
    "net3.fit(X, y)"
   ]
  },
  {
   "cell_type": "code",
   "execution_count": 49,
   "metadata": {
    "collapsed": false
   },
   "outputs": [
    {
     "name": "stdout",
     "output_type": "stream",
     "text": [
      "# Neural Network with 20401 learnable parameters\n",
      "\n",
      "## Layer information\n",
      "\n",
      "  #  name        size\n",
      "---  --------  ------\n",
      "  0  input         10\n",
      "  1  hidden1       80\n",
      "  2  dropout1      80\n",
      "  3  hidden2       80\n",
      "  4  dropout2      80\n",
      "  5  hidden3       80\n",
      "  6  dropout3      80\n",
      "  7  hidden4       80\n",
      "  8  dropout4      80\n",
      "  9  output         1\n",
      "\n",
      "  epoch    trn loss    val loss    trn/val  dur\n",
      "-------  ----------  ----------  ---------  -----\n",
      "      1     \u001b[36m0.27081\u001b[0m     \u001b[32m0.21032\u001b[0m    1.28759  9.80s\n",
      "      2     \u001b[36m0.21147\u001b[0m     \u001b[32m0.20772\u001b[0m    1.01803  8.66s\n",
      "      3     \u001b[36m0.21035\u001b[0m     0.20818    1.01042  9.82s\n",
      "      4     0.21318     0.21130    1.00890  8.63s\n",
      "      5     \u001b[36m0.20895\u001b[0m     0.20806    1.00431  8.70s\n",
      "      6     \u001b[36m0.20870\u001b[0m     \u001b[32m0.20756\u001b[0m    1.00549  8.65s\n",
      "      7     0.20903     \u001b[32m0.20379\u001b[0m    1.02569  8.73s\n",
      "      8     \u001b[36m0.20638\u001b[0m     \u001b[32m0.20346\u001b[0m    1.01434  8.77s\n",
      "      9     \u001b[36m0.20474\u001b[0m     0.20386    1.00436  8.64s\n",
      "     10     \u001b[36m0.20396\u001b[0m     \u001b[32m0.20286\u001b[0m    1.00545  8.65s\n",
      "     11     \u001b[36m0.20331\u001b[0m     0.20379    0.99761  8.27s\n",
      "     12     0.20395     0.20352    1.00216  8.34s\n",
      "     13     0.20374     0.20389    0.99929  8.64s\n",
      "     14     \u001b[36m0.20329\u001b[0m     0.20302    1.00131  8.73s\n",
      "     15     0.20368     \u001b[32m0.20165\u001b[0m    1.01006  8.70s\n",
      "     16     0.20366     \u001b[32m0.20161\u001b[0m    1.01018  8.62s\n",
      "     17     \u001b[36m0.20289\u001b[0m     \u001b[32m0.20030\u001b[0m    1.01291  8.61s\n",
      "     18     \u001b[36m0.20282\u001b[0m     0.20892    0.97079  8.37s\n",
      "     19     \u001b[36m0.20191\u001b[0m     0.20082    1.00543  8.52s\n",
      "     20     \u001b[36m0.20139\u001b[0m     \u001b[32m0.19979\u001b[0m    1.00801  8.35s\n"
     ]
    },
    {
     "data": {
      "text/plain": [
       "NeuralNet(X_tensor_type=None,\n",
       "     batch_iterator_test=<nolearn.lasagne.base.BatchIterator object at 0x7f3b2f36ea90>,\n",
       "     batch_iterator_train=<nolearn.lasagne.base.BatchIterator object at 0x7f3b2f48db10>,\n",
       "     check_input=True, custom_scores=None, dropout1_p=0.1, dropout2_p=0.1,\n",
       "     dropout3_p=0.1, dropout4_p=0.1, hidden1_num_units=80,\n",
       "     hidden2_num_units=80, hidden3_num_units=80, hidden4_num_units=80,\n",
       "     input_shape=(None, 10),\n",
       "     layers=[('input', <class 'lasagne.layers.input.InputLayer'>), ('hidden1', <class 'lasagne.layers.dense.DenseLayer'>), ('dropout1', <class 'lasagne.layers.noise.DropoutLayer'>), ('hidden2', <class 'lasagne.layers.dense.DenseLayer'>), ('dropout2', <class 'lasagne.layers.noise.DropoutLayer'>), ('hidden...<class 'lasagne.layers.noise.DropoutLayer'>), ('output', <class 'lasagne.layers.dense.DenseLayer'>)],\n",
       "     loss=None, max_epochs=20, more_params={},\n",
       "     objective=<function objective at 0x7f3b2f2f7cf8>,\n",
       "     objective_loss_function=<function binary_crossentropy at 0x7f3b2f41ecf8>,\n",
       "     on_batch_finished=[],\n",
       "     on_epoch_finished=[<nolearn.lasagne.handlers.PrintLog instance at 0x7f3b23d515a8>],\n",
       "     on_training_finished=[],\n",
       "     on_training_started=[<nolearn.lasagne.handlers.PrintLayerInfo instance at 0x7f3b23d51248>],\n",
       "     output_nonlinearity=<function sigmoid at 0x7f3b2f5962a8>,\n",
       "     output_num_units=1, regression=True, scores_train=[], scores_valid=[],\n",
       "     train_split=<nolearn.lasagne.base.TrainSplit object at 0x7f3b23d45550>,\n",
       "     update=<function nesterov_momentum at 0x7f3b2f42daa0>,\n",
       "     update_learning_rate=0.01, update_momentum=0.9,\n",
       "     use_label_encoder=False, verbose=10,\n",
       "     y_tensor_type=TensorType(int32, matrix))"
      ]
     },
     "execution_count": 49,
     "metadata": {},
     "output_type": "execute_result"
    }
   ],
   "source": [
    "net4 = NeuralNet(layers=[('input', InputLayer), ('hidden1', DenseLayer), ('dropout1', DropoutLayer),\n",
    "                         ('hidden2', DenseLayer), ('dropout2', DropoutLayer), ('hidden3', DenseLayer),\n",
    "                         ('dropout3', DropoutLayer), ('hidden4', DenseLayer), ('dropout4', DropoutLayer),\n",
    "                         ('output', DenseLayer)],\n",
    "                 input_shape=(None, num_features), hidden1_num_units=80,\n",
    "                 dropout1_p=0.1, hidden2_num_units=80, dropout2_p=0.1,\n",
    "                 hidden3_num_units=80, dropout3_p=0.1, hidden4_num_units=80,\n",
    "                 dropout4_p=0.1, output_nonlinearity=sigmoid, output_num_units=1,\n",
    "                 update=nesterov_momentum, update_learning_rate=0.01, update_momentum=0.9,\n",
    "                 regression=True, y_tensor_type=T.imatrix, objective_loss_function=binary_crossentropy,\n",
    "                 max_epochs=20, train_split=TrainSplit(eval_size=0.4), verbose=10)\n",
    "\n",
    "net4.fit(X, y)"
   ]
  }
 ],
 "metadata": {
  "kernelspec": {
   "display_name": "Python 2",
   "language": "python",
   "name": "python2"
  },
  "language_info": {
   "codemirror_mode": {
    "name": "ipython",
    "version": 2
   },
   "file_extension": ".py",
   "mimetype": "text/x-python",
   "name": "python",
   "nbconvert_exporter": "python",
   "pygments_lexer": "ipython2",
   "version": "2.7.12"
  }
 },
 "nbformat": 4,
 "nbformat_minor": 2
}
