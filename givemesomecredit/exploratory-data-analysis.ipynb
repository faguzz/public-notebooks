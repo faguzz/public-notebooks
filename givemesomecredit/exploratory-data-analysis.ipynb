{
 "cells": [
  {
   "cell_type": "markdown",
   "metadata": {},
   "source": [
    "# Give Me Some Credit\n",
    "\n",
    "Improving the state of the art in credit scoring, by predicting the probability that somebody will experience financial distress in the next two years. Challenge at https://www.kaggle.com/c/GiveMeSomeCredit."
   ]
  },
  {
   "cell_type": "code",
   "execution_count": 1,
   "metadata": {
    "collapsed": true
   },
   "outputs": [],
   "source": [
    "import numpy as np\n",
    "import scipy as sp\n",
    "import pandas as pd\n",
    "import matplotlib.pyplot as plt\n",
    "import seaborn as sns"
   ]
  },
  {
   "cell_type": "code",
   "execution_count": 2,
   "metadata": {
    "collapsed": true
   },
   "outputs": [],
   "source": [
    "from sklearn.model_selection import train_test_split"
   ]
  },
  {
   "cell_type": "code",
   "execution_count": 3,
   "metadata": {
    "collapsed": true
   },
   "outputs": [],
   "source": [
    "def train_val_test_split(df, test_size=0.3, val_size=0.2):\n",
    "    model_df, test_df = train_test_split(df, test_size=test_size)\n",
    "    train_df, val_df = train_test_split(model_df, test_size=val_size)\n",
    "    \n",
    "    print(\"Shapes: train {}, validation {}, test {}\".format(train_df.shape,\n",
    "                                                            val_df.shape,\n",
    "                                                            test_df.shape))\n",
    "    \n",
    "    return(model_df.copy(), train_df.copy(), val_df.copy(), test_df.copy())"
   ]
  },
  {
   "cell_type": "code",
   "execution_count": 4,
   "metadata": {
    "collapsed": false
   },
   "outputs": [
    {
     "name": "stdout",
     "output_type": "stream",
     "text": [
      "Shapes: train (84000, 11), validation (21000, 11), test (45000, 11)\n"
     ]
    }
   ],
   "source": [
    "data_df = pd.read_csv('data/cs-training.csv',\n",
    "                      dtype={'SeriousDlqin2yrs': np.int8,\n",
    "                             'age': np.int8,\n",
    "                             'NumberOfTime30-59DaysPastDueNotWorse': np.int8,\n",
    "                             'NumberOfTime60-89DaysPastDueNotWorse': np.int8,\n",
    "                             'NumberOfTimes90DaysLate': np.int8,\n",
    "                             'NumberOfOpenCreditLinesAndLoans': np.int8,\n",
    "                             'NumberRealEstateLoansOrLines': np.int64})\n",
    "\n",
    "data_df.drop(['Unnamed: 0'], axis = 1, inplace=True)\n",
    "\n",
    "model_df, train_df, val_df, test_df = train_val_test_split(data_df)"
   ]
  },
  {
   "cell_type": "code",
   "execution_count": 5,
   "metadata": {
    "collapsed": false
   },
   "outputs": [
    {
     "name": "stdout",
     "output_type": "stream",
     "text": [
      "<class 'pandas.core.frame.DataFrame'>\n",
      "Int64Index: 105000 entries, 80893 to 93957\n",
      "Data columns (total 11 columns):\n",
      "SeriousDlqin2yrs                        105000 non-null int8\n",
      "RevolvingUtilizationOfUnsecuredLines    105000 non-null float64\n",
      "age                                     105000 non-null int8\n",
      "NumberOfTime30-59DaysPastDueNotWorse    105000 non-null int8\n",
      "DebtRatio                               105000 non-null float64\n",
      "MonthlyIncome                           84211 non-null float64\n",
      "NumberOfOpenCreditLinesAndLoans         105000 non-null int8\n",
      "NumberOfTimes90DaysLate                 105000 non-null int8\n",
      "NumberRealEstateLoansOrLines            105000 non-null int64\n",
      "NumberOfTime60-89DaysPastDueNotWorse    105000 non-null int8\n",
      "NumberOfDependents                      102269 non-null float64\n",
      "dtypes: float64(4), int64(1), int8(6)\n",
      "memory usage: 5.4 MB\n"
     ]
    }
   ],
   "source": [
    "model_df.info()"
   ]
  },
  {
   "cell_type": "code",
   "execution_count": 6,
   "metadata": {
    "collapsed": false
   },
   "outputs": [
    {
     "data": {
      "text/html": [
       "<div>\n",
       "<style>\n",
       "    .dataframe thead tr:only-child th {\n",
       "        text-align: right;\n",
       "    }\n",
       "\n",
       "    .dataframe thead th {\n",
       "        text-align: left;\n",
       "    }\n",
       "\n",
       "    .dataframe tbody tr th {\n",
       "        vertical-align: top;\n",
       "    }\n",
       "</style>\n",
       "<table border=\"1\" class=\"dataframe\">\n",
       "  <thead>\n",
       "    <tr style=\"text-align: right;\">\n",
       "      <th></th>\n",
       "      <th>SeriousDlqin2yrs</th>\n",
       "      <th>RevolvingUtilizationOfUnsecuredLines</th>\n",
       "      <th>age</th>\n",
       "      <th>NumberOfTime30-59DaysPastDueNotWorse</th>\n",
       "      <th>DebtRatio</th>\n",
       "      <th>MonthlyIncome</th>\n",
       "      <th>NumberOfOpenCreditLinesAndLoans</th>\n",
       "      <th>NumberOfTimes90DaysLate</th>\n",
       "      <th>NumberRealEstateLoansOrLines</th>\n",
       "      <th>NumberOfTime60-89DaysPastDueNotWorse</th>\n",
       "      <th>NumberOfDependents</th>\n",
       "    </tr>\n",
       "  </thead>\n",
       "  <tbody>\n",
       "    <tr>\n",
       "      <th>count</th>\n",
       "      <td>105000.000000</td>\n",
       "      <td>105000.000000</td>\n",
       "      <td>105000.000000</td>\n",
       "      <td>105000.000000</td>\n",
       "      <td>105000.000000</td>\n",
       "      <td>8.421100e+04</td>\n",
       "      <td>105000.000000</td>\n",
       "      <td>105000.000000</td>\n",
       "      <td>105000.000000</td>\n",
       "      <td>105000.000000</td>\n",
       "      <td>102269.000000</td>\n",
       "    </tr>\n",
       "    <tr>\n",
       "      <th>mean</th>\n",
       "      <td>0.067314</td>\n",
       "      <td>5.482276</td>\n",
       "      <td>52.255229</td>\n",
       "      <td>0.407067</td>\n",
       "      <td>345.886703</td>\n",
       "      <td>6.594537e+03</td>\n",
       "      <td>8.449476</td>\n",
       "      <td>0.251819</td>\n",
       "      <td>1.018448</td>\n",
       "      <td>0.224829</td>\n",
       "      <td>0.756270</td>\n",
       "    </tr>\n",
       "    <tr>\n",
       "      <th>std</th>\n",
       "      <td>0.250567</td>\n",
       "      <td>213.821236</td>\n",
       "      <td>14.757178</td>\n",
       "      <td>4.001789</td>\n",
       "      <td>1345.541363</td>\n",
       "      <td>8.800590e+03</td>\n",
       "      <td>5.142994</td>\n",
       "      <td>3.977288</td>\n",
       "      <td>1.111946</td>\n",
       "      <td>3.960778</td>\n",
       "      <td>1.114661</td>\n",
       "    </tr>\n",
       "    <tr>\n",
       "      <th>min</th>\n",
       "      <td>0.000000</td>\n",
       "      <td>0.000000</td>\n",
       "      <td>0.000000</td>\n",
       "      <td>0.000000</td>\n",
       "      <td>0.000000</td>\n",
       "      <td>0.000000e+00</td>\n",
       "      <td>0.000000</td>\n",
       "      <td>0.000000</td>\n",
       "      <td>0.000000</td>\n",
       "      <td>0.000000</td>\n",
       "      <td>0.000000</td>\n",
       "    </tr>\n",
       "    <tr>\n",
       "      <th>25%</th>\n",
       "      <td>0.000000</td>\n",
       "      <td>0.029856</td>\n",
       "      <td>41.000000</td>\n",
       "      <td>0.000000</td>\n",
       "      <td>0.175941</td>\n",
       "      <td>3.400000e+03</td>\n",
       "      <td>5.000000</td>\n",
       "      <td>0.000000</td>\n",
       "      <td>0.000000</td>\n",
       "      <td>0.000000</td>\n",
       "      <td>0.000000</td>\n",
       "    </tr>\n",
       "    <tr>\n",
       "      <th>50%</th>\n",
       "      <td>0.000000</td>\n",
       "      <td>0.154900</td>\n",
       "      <td>52.000000</td>\n",
       "      <td>0.000000</td>\n",
       "      <td>0.367298</td>\n",
       "      <td>5.400000e+03</td>\n",
       "      <td>8.000000</td>\n",
       "      <td>0.000000</td>\n",
       "      <td>1.000000</td>\n",
       "      <td>0.000000</td>\n",
       "      <td>0.000000</td>\n",
       "    </tr>\n",
       "    <tr>\n",
       "      <th>75%</th>\n",
       "      <td>0.000000</td>\n",
       "      <td>0.559262</td>\n",
       "      <td>63.000000</td>\n",
       "      <td>0.000000</td>\n",
       "      <td>0.867378</td>\n",
       "      <td>8.228000e+03</td>\n",
       "      <td>11.000000</td>\n",
       "      <td>0.000000</td>\n",
       "      <td>2.000000</td>\n",
       "      <td>0.000000</td>\n",
       "      <td>1.000000</td>\n",
       "    </tr>\n",
       "    <tr>\n",
       "      <th>max</th>\n",
       "      <td>1.000000</td>\n",
       "      <td>29110.000000</td>\n",
       "      <td>109.000000</td>\n",
       "      <td>98.000000</td>\n",
       "      <td>168835.000000</td>\n",
       "      <td>1.072500e+06</td>\n",
       "      <td>57.000000</td>\n",
       "      <td>98.000000</td>\n",
       "      <td>26.000000</td>\n",
       "      <td>98.000000</td>\n",
       "      <td>20.000000</td>\n",
       "    </tr>\n",
       "  </tbody>\n",
       "</table>\n",
       "</div>"
      ],
      "text/plain": [
       "       SeriousDlqin2yrs  RevolvingUtilizationOfUnsecuredLines            age  \\\n",
       "count     105000.000000                         105000.000000  105000.000000   \n",
       "mean           0.067314                              5.482276      52.255229   \n",
       "std            0.250567                            213.821236      14.757178   \n",
       "min            0.000000                              0.000000       0.000000   \n",
       "25%            0.000000                              0.029856      41.000000   \n",
       "50%            0.000000                              0.154900      52.000000   \n",
       "75%            0.000000                              0.559262      63.000000   \n",
       "max            1.000000                          29110.000000     109.000000   \n",
       "\n",
       "       NumberOfTime30-59DaysPastDueNotWorse      DebtRatio  MonthlyIncome  \\\n",
       "count                         105000.000000  105000.000000   8.421100e+04   \n",
       "mean                               0.407067     345.886703   6.594537e+03   \n",
       "std                                4.001789    1345.541363   8.800590e+03   \n",
       "min                                0.000000       0.000000   0.000000e+00   \n",
       "25%                                0.000000       0.175941   3.400000e+03   \n",
       "50%                                0.000000       0.367298   5.400000e+03   \n",
       "75%                                0.000000       0.867378   8.228000e+03   \n",
       "max                               98.000000  168835.000000   1.072500e+06   \n",
       "\n",
       "       NumberOfOpenCreditLinesAndLoans  NumberOfTimes90DaysLate  \\\n",
       "count                    105000.000000            105000.000000   \n",
       "mean                          8.449476                 0.251819   \n",
       "std                           5.142994                 3.977288   \n",
       "min                           0.000000                 0.000000   \n",
       "25%                           5.000000                 0.000000   \n",
       "50%                           8.000000                 0.000000   \n",
       "75%                          11.000000                 0.000000   \n",
       "max                          57.000000                98.000000   \n",
       "\n",
       "       NumberRealEstateLoansOrLines  NumberOfTime60-89DaysPastDueNotWorse  \\\n",
       "count                 105000.000000                         105000.000000   \n",
       "mean                       1.018448                              0.224829   \n",
       "std                        1.111946                              3.960778   \n",
       "min                        0.000000                              0.000000   \n",
       "25%                        0.000000                              0.000000   \n",
       "50%                        1.000000                              0.000000   \n",
       "75%                        2.000000                              0.000000   \n",
       "max                       26.000000                             98.000000   \n",
       "\n",
       "       NumberOfDependents  \n",
       "count       102269.000000  \n",
       "mean             0.756270  \n",
       "std              1.114661  \n",
       "min              0.000000  \n",
       "25%              0.000000  \n",
       "50%              0.000000  \n",
       "75%              1.000000  \n",
       "max             20.000000  "
      ]
     },
     "execution_count": 6,
     "metadata": {},
     "output_type": "execute_result"
    }
   ],
   "source": [
    "model_df.describe()"
   ]
  },
  {
   "cell_type": "markdown",
   "metadata": {},
   "source": [
    "## Default rate (of train base)"
   ]
  },
  {
   "cell_type": "code",
   "execution_count": 7,
   "metadata": {
    "collapsed": true
   },
   "outputs": [],
   "source": [
    "def bar_plot_rates(rates, posplot=111, title=''):\n",
    "    ax = plt.subplot(posplot)\n",
    "\n",
    "    sns.barplot(x=rates.index,\n",
    "                y=rates.values)\n",
    "    ax.set_xlabel('Default')\n",
    "    ax.set_ylabel('rate')\n",
    "    ax.set_title(title)\n",
    "\n",
    "    for p in ax.patches:\n",
    "        ax.annotate('{:.1f}%'.format(p.get_height()), (p.get_x()+p.get_width()/2., p.get_height()),\n",
    "                    ha='center', va='center', xytext=(0, 5), textcoords='offset points')"
   ]
  },
  {
   "cell_type": "code",
   "execution_count": 8,
   "metadata": {
    "collapsed": false
   },
   "outputs": [
    {
     "data": {
      "image/png": "[encoded data removed]",
      "text/plain": [
       "<matplotlib.figure.Figure at 0x7f6e292aaac8>"
      ]
     },
     "metadata": {},
     "output_type": "display_data"
    }
   ],
   "source": [
    "default_rate = 100. * model_df['SeriousDlqin2yrs'].value_counts() / model_df.shape[0]\n",
    "\n",
    "bar_plot_rates(default_rate, title='Density of Default')\n",
    "plt.show()"
   ]
  },
  {
   "cell_type": "markdown",
   "metadata": {},
   "source": [
    "# Missing data analysis"
   ]
  },
  {
   "cell_type": "code",
   "execution_count": 9,
   "metadata": {
    "collapsed": false
   },
   "outputs": [],
   "source": [
    "import missingno as msno"
   ]
  },
  {
   "cell_type": "code",
   "execution_count": 10,
   "metadata": {
    "collapsed": false
   },
   "outputs": [
    {
     "data": {
      "text/plain": [
       "SeriousDlqin2yrs                            0\n",
       "RevolvingUtilizationOfUnsecuredLines        0\n",
       "age                                         0\n",
       "NumberOfTime30-59DaysPastDueNotWorse        0\n",
       "DebtRatio                                   0\n",
       "MonthlyIncome                           20789\n",
       "NumberOfOpenCreditLinesAndLoans             0\n",
       "NumberOfTimes90DaysLate                     0\n",
       "NumberRealEstateLoansOrLines                0\n",
       "NumberOfTime60-89DaysPastDueNotWorse        0\n",
       "NumberOfDependents                       2731\n",
       "dtype: int64"
      ]
     },
     "execution_count": 10,
     "metadata": {},
     "output_type": "execute_result"
    }
   ],
   "source": [
    "model_df.isnull().sum()"
   ]
  },
  {
   "cell_type": "code",
   "execution_count": 11,
   "metadata": {
    "collapsed": false
   },
   "outputs": [
    {
     "data": {
      "image/png": "[encoded data removed]",
      "text/plain": [
       "<matplotlib.figure.Figure at 0x7f6e296b1198>"
      ]
     },
     "metadata": {},
     "output_type": "display_data"
    }
   ],
   "source": [
    "msno.matrix(model_df.groupby('SeriousDlqin2yrs').apply(lambda x: x.sample(n=3000)))"
   ]
  },
  {
   "cell_type": "markdown",
   "metadata": {},
   "source": [
    "# Features exploration"
   ]
  },
  {
   "cell_type": "markdown",
   "metadata": {},
   "source": [
    "### Age"
   ]
  },
  {
   "cell_type": "code",
   "execution_count": 12,
   "metadata": {
    "collapsed": false
   },
   "outputs": [
    {
     "data": {
      "text/plain": [
       "count    105000.000000\n",
       "mean         52.255229\n",
       "std          14.757178\n",
       "min           0.000000\n",
       "25%          41.000000\n",
       "50%          52.000000\n",
       "75%          63.000000\n",
       "max         109.000000\n",
       "Name: age, dtype: float64"
      ]
     },
     "execution_count": 12,
     "metadata": {},
     "output_type": "execute_result"
    }
   ],
   "source": [
    "model_df['age'].describe()"
   ]
  },
  {
   "cell_type": "code",
   "execution_count": 13,
   "metadata": {
    "collapsed": false
   },
   "outputs": [
    {
     "data": {
      "image/png": "[encoded data removed]",
      "text/plain": [
       "<matplotlib.figure.Figure at 0x7f6e295d3b70>"
      ]
     },
     "metadata": {},
     "output_type": "display_data"
    }
   ],
   "source": [
    "sns.distplot(model_df['age'], np.ptp(model_df['age']))\n",
    "plt.show()"
   ]
  },
  {
   "cell_type": "code",
   "execution_count": 14,
   "metadata": {
    "collapsed": false
   },
   "outputs": [
    {
     "data": {
      "image/png": "[encoded data removed]",
      "text/plain": [
       "<matplotlib.figure.Figure at 0x7f6e295a6d30>"
      ]
     },
     "metadata": {},
     "output_type": "display_data"
    }
   ],
   "source": [
    "def qqplot_normal(x, **kwargs):\n",
    "    ax = plt.gca()\n",
    "    xr = sp.stats.probplot(x, plot=ax, fit=True)\n",
    "    \n",
    "    ax.get_lines()[0].set_markersize(1.0)\n",
    "    ax.text(1, 0, '$Slope = {:.3}$\\n$Intercept = {:.3}$\\n$R² = {:.4}$'.format(*xr[1]))\n",
    "    \n",
    "g = sns.FacetGrid(model_df, col=\"SeriousDlqin2yrs\", size=4)\n",
    "g.map(qqplot_normal, \"age\")\n",
    "plt.show()"
   ]
  },
  {
   "cell_type": "markdown",
   "metadata": {},
   "source": [
    "Age **follows a normal distribution** (maybe with some outliers at the tails).\n",
    "\n",
    "So, let's explore the outliers of this features.."
   ]
  },
  {
   "cell_type": "code",
   "execution_count": 15,
   "metadata": {
    "collapsed": false
   },
   "outputs": [
    {
     "data": {
      "image/png": "[encoded data removed]",
      "text/plain": [
       "<matplotlib.figure.Figure at 0x7f6e2aa21a20>"
      ]
     },
     "metadata": {},
     "output_type": "display_data"
    }
   ],
   "source": [
    "sns.boxplot(model_df['age'], orient='v')\n",
    "plt.show()"
   ]
  },
  {
   "cell_type": "markdown",
   "metadata": {},
   "source": [
    "Using IQR to detect outliers..."
   ]
  },
  {
   "cell_type": "code",
   "execution_count": 16,
   "metadata": {
    "collapsed": false
   },
   "outputs": [
    {
     "data": {
      "text/plain": [
       "'bounds: (8.0, 96.0)'"
      ]
     },
     "execution_count": 16,
     "metadata": {},
     "output_type": "execute_result"
    }
   ],
   "source": [
    "Q1 = model_df['age'].quantile(1/4.)\n",
    "Q3 = model_df['age'].quantile(3/4.)\n",
    "IQR = Q3 - Q1\n",
    "\n",
    "eta = 1.5\n",
    "lower_bound = Q1 - eta * IQR\n",
    "upper_bound = Q3 + eta * IQR\n",
    "\"bounds: ({}, {})\".format(lower_bound, upper_bound)"
   ]
  },
  {
   "cell_type": "code",
   "execution_count": 17,
   "metadata": {
    "collapsed": false
   },
   "outputs": [
    {
     "data": {
      "text/plain": [
       "97     6\n",
       "98     5\n",
       "99     3\n",
       "103    2\n",
       "102    2\n",
       "101    2\n",
       "109    1\n",
       "107    1\n",
       "105    1\n",
       "Name: age, dtype: int64"
      ]
     },
     "execution_count": 17,
     "metadata": {},
     "output_type": "execute_result"
    }
   ],
   "source": [
    "train_df.loc[model_df['age'] > upper_bound, 'age'].value_counts()"
   ]
  },
  {
   "cell_type": "markdown",
   "metadata": {},
   "source": [
    "Or, I can be more conservative using a small quantile of 0.9999 as upper bound..."
   ]
  },
  {
   "cell_type": "code",
   "execution_count": 18,
   "metadata": {
    "collapsed": false
   },
   "outputs": [
    {
     "data": {
      "text/plain": [
       "100.0001999999804"
      ]
     },
     "execution_count": 18,
     "metadata": {},
     "output_type": "execute_result"
    }
   ],
   "source": [
    "conservative_upper_bound = model_df['age'].quantile(0.9999)\n",
    "conservative_upper_bound"
   ]
  },
  {
   "cell_type": "code",
   "execution_count": 19,
   "metadata": {
    "collapsed": false
   },
   "outputs": [
    {
     "data": {
      "text/plain": [
       "103    2\n",
       "102    2\n",
       "101    2\n",
       "109    1\n",
       "107    1\n",
       "105    1\n",
       "Name: age, dtype: int64"
      ]
     },
     "execution_count": 19,
     "metadata": {},
     "output_type": "execute_result"
    }
   ],
   "source": [
    "train_df.loc[model_df['age'] > conservative_upper_bound, 'age'].value_counts()"
   ]
  },
  {
   "cell_type": "markdown",
   "metadata": {},
   "source": [
    "Finally, let's see there is some correlation between age and default.."
   ]
  },
  {
   "cell_type": "code",
   "execution_count": 20,
   "metadata": {
    "collapsed": false
   },
   "outputs": [
    {
     "data": {
      "image/png": "[encoded data removed]",
      "text/plain": [
       "<matplotlib.figure.Figure at 0x7f6e295a6e10>"
      ]
     },
     "metadata": {},
     "output_type": "display_data"
    }
   ],
   "source": [
    "sns.boxplot('SeriousDlqin2yrs', 'age', data=model_df[model_df['age'] <= conservative_upper_bound])\n",
    "plt.show()"
   ]
  },
  {
   "cell_type": "markdown",
   "metadata": {},
   "source": [
    "**Conclusions:**\n",
    "-  No missing values;\n",
    "-  Follows a Normal distribution;\n",
    "-  May have some outliers (> 96 or > 99);"
   ]
  },
  {
   "cell_type": "markdown",
   "metadata": {},
   "source": [
    "## NumberOfDependents"
   ]
  },
  {
   "cell_type": "code",
   "execution_count": 21,
   "metadata": {
    "collapsed": false
   },
   "outputs": [
    {
     "data": {
      "text/plain": [
       "count    102269.000000\n",
       "mean          0.756270\n",
       "std           1.114661\n",
       "min           0.000000\n",
       "25%           0.000000\n",
       "50%           0.000000\n",
       "75%           1.000000\n",
       "max          20.000000\n",
       "Name: NumberOfDependents, dtype: float64"
      ]
     },
     "execution_count": 21,
     "metadata": {},
     "output_type": "execute_result"
    }
   ],
   "source": [
    "model_df['NumberOfDependents'].describe()"
   ]
  },
  {
   "cell_type": "code",
   "execution_count": 22,
   "metadata": {
    "collapsed": false
   },
   "outputs": [
    {
     "data": {
      "text/plain": [
       "(2731, 0.026009523809523809)"
      ]
     },
     "execution_count": 22,
     "metadata": {},
     "output_type": "execute_result"
    }
   ],
   "source": [
    "model_df['NumberOfDependents'].isnull().sum(), model_df['NumberOfDependents'].isnull().sum() / model_df['NumberOfDependents'].shape[0]"
   ]
  },
  {
   "cell_type": "code",
   "execution_count": 23,
   "metadata": {
    "collapsed": false
   },
   "outputs": [
    {
     "data": {
      "image/png": "[encoded data removed]",
      "text/plain": [
       "<matplotlib.figure.Figure at 0x7f6e294386a0>"
      ]
     },
     "metadata": {},
     "output_type": "display_data"
    }
   ],
   "source": [
    "sns.countplot(model_df['NumberOfDependents'].dropna())\n",
    "plt.show()"
   ]
  },
  {
   "cell_type": "markdown",
   "metadata": {},
   "source": [
    "**Conclusions:**\n",
    "-  2.5% of missing values;\n",
    "-  May fill NAs = 0;"
   ]
  },
  {
   "cell_type": "markdown",
   "metadata": {},
   "source": [
    "## RevolvingUtilizationOfUnsecuredLines"
   ]
  },
  {
   "cell_type": "code",
   "execution_count": 24,
   "metadata": {
    "collapsed": false
   },
   "outputs": [
    {
     "data": {
      "text/plain": [
       "count    105000.000000\n",
       "mean          5.482276\n",
       "std         213.821236\n",
       "min           0.000000\n",
       "25%           0.029856\n",
       "50%           0.154900\n",
       "75%           0.559262\n",
       "max       29110.000000\n",
       "Name: RevolvingUtilizationOfUnsecuredLines, dtype: float64"
      ]
     },
     "execution_count": 24,
     "metadata": {},
     "output_type": "execute_result"
    }
   ],
   "source": [
    "model_df['RevolvingUtilizationOfUnsecuredLines'].describe()"
   ]
  },
  {
   "cell_type": "code",
   "execution_count": 25,
   "metadata": {
    "collapsed": false
   },
   "outputs": [
    {
     "data": {
      "text/plain": [
       "0"
      ]
     },
     "execution_count": 25,
     "metadata": {},
     "output_type": "execute_result"
    }
   ],
   "source": [
    "model_df['RevolvingUtilizationOfUnsecuredLines'].isnull().sum()"
   ]
  },
  {
   "cell_type": "markdown",
   "metadata": {},
   "source": [
    "The feature RevolvingUtilizationOfUnsecuredLines is **a percentage**, so let's study if when higher than 1 brings some predictive information..."
   ]
  },
  {
   "cell_type": "code",
   "execution_count": 26,
   "metadata": {
    "collapsed": false
   },
   "outputs": [
    {
     "data": {
      "text/plain": [
       "2339"
      ]
     },
     "execution_count": 26,
     "metadata": {},
     "output_type": "execute_result"
    }
   ],
   "source": [
    "(model_df['RevolvingUtilizationOfUnsecuredLines'] > 1).sum()"
   ]
  },
  {
   "cell_type": "code",
   "execution_count": 27,
   "metadata": {
    "collapsed": false
   },
   "outputs": [
    {
     "data": {
      "image/png": "[encoded data removed]",
      "text/plain": [
       "<matplotlib.figure.Figure at 0x7f6e293f5b70>"
      ]
     },
     "metadata": {},
     "output_type": "display_data"
    }
   ],
   "source": [
    "plt.figure(figsize=(16, 6))\n",
    "\n",
    "tmp_df = model_df[model_df['RevolvingUtilizationOfUnsecuredLines'] <= 1]['SeriousDlqin2yrs']\n",
    "default_rate = 100. * tmp_df.value_counts() / tmp_df.shape[0]\n",
    "bar_plot_rates(default_rate, 131, title='Density of Default for Utilization <= 1')\n",
    "\n",
    "tmp_df = model_df[model_df['RevolvingUtilizationOfUnsecuredLines'] > 1]['SeriousDlqin2yrs']\n",
    "default_rate = 100. * tmp_df.value_counts() / tmp_df.shape[0]\n",
    "bar_plot_rates(default_rate, 132, title='Density of Default for Utilization > 1')\n",
    "\n",
    "tmp_df = model_df[np.isclose(model_df['RevolvingUtilizationOfUnsecuredLines'], 1)]['SeriousDlqin2yrs']\n",
    "default_rate = 100. * tmp_df.value_counts() / tmp_df.shape[0]\n",
    "bar_plot_rates(default_rate, 133, title='Density of Default for Utilization ~ 1')\n",
    "\n",
    "plt.show()"
   ]
  },
  {
   "cell_type": "code",
   "execution_count": 28,
   "metadata": {
    "collapsed": false
   },
   "outputs": [
    {
     "data": {
      "image/png": "[encoded data removed]",
      "text/plain": [
       "<matplotlib.figure.Figure at 0x7f6e293d6e80>"
      ]
     },
     "metadata": {},
     "output_type": "display_data"
    }
   ],
   "source": [
    "sns.distplot(model_df[model_df['RevolvingUtilizationOfUnsecuredLines'] <= 1]['RevolvingUtilizationOfUnsecuredLines'])\n",
    "plt.show()"
   ]
  },
  {
   "cell_type": "markdown",
   "metadata": {},
   "source": [
    "** Conclusion:**\n",
    "-  No missing values;\n",
    "-  Higher values than 1 brings some predictive information, so let's transform then to something close to 1."
   ]
  },
  {
   "cell_type": "markdown",
   "metadata": {},
   "source": [
    "## NumberOfOpenCreditLinesAndLoans"
   ]
  },
  {
   "cell_type": "code",
   "execution_count": 29,
   "metadata": {
    "collapsed": false
   },
   "outputs": [
    {
     "data": {
      "text/plain": [
       "count    105000.000000\n",
       "mean          8.449476\n",
       "std           5.142994\n",
       "min           0.000000\n",
       "25%           5.000000\n",
       "50%           8.000000\n",
       "75%          11.000000\n",
       "max          57.000000\n",
       "Name: NumberOfOpenCreditLinesAndLoans, dtype: float64"
      ]
     },
     "execution_count": 29,
     "metadata": {},
     "output_type": "execute_result"
    }
   ],
   "source": [
    "model_df['NumberOfOpenCreditLinesAndLoans'].describe()"
   ]
  },
  {
   "cell_type": "code",
   "execution_count": 30,
   "metadata": {
    "collapsed": false
   },
   "outputs": [
    {
     "data": {
      "text/plain": [
       "0"
      ]
     },
     "execution_count": 30,
     "metadata": {},
     "output_type": "execute_result"
    }
   ],
   "source": [
    "model_df['NumberOfOpenCreditLinesAndLoans'].isnull().sum()"
   ]
  },
  {
   "cell_type": "code",
   "execution_count": 31,
   "metadata": {
    "collapsed": false
   },
   "outputs": [
    {
     "data": {
      "image/png": "[encoded data removed]",
      "text/plain": [
       "<matplotlib.figure.Figure at 0x7f6e295cac50>"
      ]
     },
     "metadata": {},
     "output_type": "display_data"
    }
   ],
   "source": [
    "fig, ax = plt.subplots(figsize=(12, 3))\n",
    "sns.countplot(model_df['NumberOfOpenCreditLinesAndLoans'])\n",
    "plt.show()"
   ]
  },
  {
   "cell_type": "markdown",
   "metadata": {},
   "source": [
    "It seems it have a long tail..."
   ]
  },
  {
   "cell_type": "code",
   "execution_count": 32,
   "metadata": {
    "collapsed": false
   },
   "outputs": [
    {
     "data": {
      "text/plain": [
       "46    3\n",
       "47    2\n",
       "48    5\n",
       "49    4\n",
       "50    1\n",
       "51    1\n",
       "52    2\n",
       "54    4\n",
       "56    2\n",
       "57    1\n",
       "Name: NumberOfOpenCreditLinesAndLoans, dtype: int64"
      ]
     },
     "execution_count": 32,
     "metadata": {},
     "output_type": "execute_result"
    }
   ],
   "source": [
    "model_df['NumberOfOpenCreditLinesAndLoans'].value_counts(sort=False).tail(10)"
   ]
  },
  {
   "cell_type": "markdown",
   "metadata": {},
   "source": [
    "** Conclusion:**\n",
    "-  No missing values;\n",
    "-  It is OK."
   ]
  },
  {
   "cell_type": "markdown",
   "metadata": {},
   "source": [
    "## NumberRealEstateLoansOrLines"
   ]
  },
  {
   "cell_type": "code",
   "execution_count": 33,
   "metadata": {
    "collapsed": false
   },
   "outputs": [
    {
     "data": {
      "text/plain": [
       "count    105000.000000\n",
       "mean          1.018448\n",
       "std           1.111946\n",
       "min           0.000000\n",
       "25%           0.000000\n",
       "50%           1.000000\n",
       "75%           2.000000\n",
       "max          26.000000\n",
       "Name: NumberRealEstateLoansOrLines, dtype: float64"
      ]
     },
     "execution_count": 33,
     "metadata": {},
     "output_type": "execute_result"
    }
   ],
   "source": [
    "model_df['NumberRealEstateLoansOrLines'].describe()"
   ]
  },
  {
   "cell_type": "code",
   "execution_count": 34,
   "metadata": {
    "collapsed": false
   },
   "outputs": [
    {
     "data": {
      "text/plain": [
       "0"
      ]
     },
     "execution_count": 34,
     "metadata": {},
     "output_type": "execute_result"
    }
   ],
   "source": [
    "model_df['NumberRealEstateLoansOrLines'].isnull().sum()"
   ]
  },
  {
   "cell_type": "code",
   "execution_count": 35,
   "metadata": {
    "collapsed": false
   },
   "outputs": [
    {
     "data": {
      "image/png": "[encoded data removed]",
      "text/plain": [
       "<matplotlib.figure.Figure at 0x7f6e2960f438>"
      ]
     },
     "metadata": {},
     "output_type": "display_data"
    }
   ],
   "source": [
    "sns.countplot(model_df['NumberRealEstateLoansOrLines'])\n",
    "plt.show()"
   ]
  },
  {
   "cell_type": "code",
   "execution_count": 36,
   "metadata": {
    "collapsed": false
   },
   "outputs": [
    {
     "data": {
      "text/plain": [
       "0     39277\n",
       "1     36566\n",
       "2     22207\n",
       "3      4376\n",
       "4      1547\n",
       "5       492\n",
       "6       227\n",
       "7       114\n",
       "8        58\n",
       "9        48\n",
       "10       25\n",
       "11       20\n",
       "12       11\n",
       "13        9\n",
       "14        5\n",
       "15        5\n",
       "16        3\n",
       "17        2\n",
       "18        1\n",
       "19        1\n",
       "20        1\n",
       "23        2\n",
       "25        2\n",
       "26        1\n",
       "Name: NumberRealEstateLoansOrLines, dtype: int64"
      ]
     },
     "execution_count": 36,
     "metadata": {},
     "output_type": "execute_result"
    }
   ],
   "source": [
    "model_df['NumberRealEstateLoansOrLines'].value_counts(sort=False)"
   ]
  },
  {
   "cell_type": "markdown",
   "metadata": {},
   "source": [
    "** Conclusion:**\n",
    "-  No missing values;\n",
    "-  Just drop values NumberRealEstateLoansOrLines > 26."
   ]
  },
  {
   "cell_type": "markdown",
   "metadata": {},
   "source": [
    "## NumberOfTime30–59DaysPastDueNotWorse"
   ]
  },
  {
   "cell_type": "code",
   "execution_count": 37,
   "metadata": {
    "collapsed": false
   },
   "outputs": [
    {
     "data": {
      "text/plain": [
       "count    105000.000000\n",
       "mean          0.407067\n",
       "std           4.001789\n",
       "min           0.000000\n",
       "25%           0.000000\n",
       "50%           0.000000\n",
       "75%           0.000000\n",
       "max          98.000000\n",
       "Name: NumberOfTime30-59DaysPastDueNotWorse, dtype: float64"
      ]
     },
     "execution_count": 37,
     "metadata": {},
     "output_type": "execute_result"
    }
   ],
   "source": [
    "model_df['NumberOfTime30-59DaysPastDueNotWorse'].describe()"
   ]
  },
  {
   "cell_type": "code",
   "execution_count": 38,
   "metadata": {
    "collapsed": false
   },
   "outputs": [
    {
     "data": {
      "text/plain": [
       "0"
      ]
     },
     "execution_count": 38,
     "metadata": {},
     "output_type": "execute_result"
    }
   ],
   "source": [
    "model_df['NumberOfTime30-59DaysPastDueNotWorse'].isnull().sum()"
   ]
  },
  {
   "cell_type": "code",
   "execution_count": 39,
   "metadata": {
    "collapsed": false
   },
   "outputs": [
    {
     "data": {
      "text/plain": [
       "0     88163\n",
       "1     11172\n",
       "2      3313\n",
       "3      1253\n",
       "4       515\n",
       "5       237\n",
       "6       102\n",
       "7        39\n",
       "8        21\n",
       "9         8\n",
       "10        4\n",
       "12        1\n",
       "13        1\n",
       "96        4\n",
       "98      167\n",
       "Name: NumberOfTime30-59DaysPastDueNotWorse, dtype: int64"
      ]
     },
     "execution_count": 39,
     "metadata": {},
     "output_type": "execute_result"
    }
   ],
   "source": [
    "model_df['NumberOfTime30-59DaysPastDueNotWorse'].value_counts(sort=False)"
   ]
  },
  {
   "cell_type": "markdown",
   "metadata": {},
   "source": [
    "The values 96 and 98 seems very unusual... Let's see if those 'flags' show something on the data"
   ]
  },
  {
   "cell_type": "code",
   "execution_count": 40,
   "metadata": {
    "collapsed": false
   },
   "outputs": [
    {
     "data": {
      "image/png": "[encoded data removed]",
      "text/plain": [
       "<matplotlib.figure.Figure at 0x7f6e293d0f98>"
      ]
     },
     "metadata": {},
     "output_type": "display_data"
    }
   ],
   "source": [
    "plt.figure(figsize=(16, 6))\n",
    "\n",
    "tmp_df = model_df[model_df['NumberOfTime30-59DaysPastDueNotWorse'] < 96]['SeriousDlqin2yrs']\n",
    "default_rate = 100. * tmp_df.value_counts() / tmp_df.shape[0]\n",
    "bar_plot_rates(default_rate, 121, title='Density of Default for Utilization < 96')\n",
    "\n",
    "tmp_df = model_df[model_df['NumberOfTime30-59DaysPastDueNotWorse'] >= 96]['SeriousDlqin2yrs']\n",
    "default_rate = 100. * tmp_df.value_counts() / tmp_df.shape[0]\n",
    "bar_plot_rates(default_rate, 122, title='Density of Default for Utilization >= 96')\n",
    "\n",
    "plt.show()"
   ]
  },
  {
   "cell_type": "markdown",
   "metadata": {},
   "source": [
    "Let's see the data distribution without those values"
   ]
  },
  {
   "cell_type": "code",
   "execution_count": 41,
   "metadata": {
    "collapsed": false
   },
   "outputs": [
    {
     "data": {
      "image/png": "[encoded data removed]",
      "text/plain": [
       "<matplotlib.figure.Figure at 0x7f6e25913dd8>"
      ]
     },
     "metadata": {},
     "output_type": "display_data"
    }
   ],
   "source": [
    "sns.countplot(model_df[model_df['NumberOfTime30-59DaysPastDueNotWorse'] < 96]['NumberOfTime30-59DaysPastDueNotWorse'])\n",
    "plt.show()"
   ]
  },
  {
   "cell_type": "markdown",
   "metadata": {},
   "source": [
    "** Conclusion:**\n",
    "-  No missing values;\n",
    "-  Flags 96 and 98 bring some predictive information."
   ]
  },
  {
   "cell_type": "markdown",
   "metadata": {},
   "source": [
    "## NumberRealEstateLoansOrLines"
   ]
  },
  {
   "cell_type": "code",
   "execution_count": 42,
   "metadata": {
    "collapsed": false
   },
   "outputs": [
    {
     "data": {
      "text/plain": [
       "count    105000.000000\n",
       "mean          1.018448\n",
       "std           1.111946\n",
       "min           0.000000\n",
       "25%           0.000000\n",
       "50%           1.000000\n",
       "75%           2.000000\n",
       "max          26.000000\n",
       "Name: NumberRealEstateLoansOrLines, dtype: float64"
      ]
     },
     "execution_count": 42,
     "metadata": {},
     "output_type": "execute_result"
    }
   ],
   "source": [
    "model_df['NumberRealEstateLoansOrLines'].describe()"
   ]
  },
  {
   "cell_type": "code",
   "execution_count": 43,
   "metadata": {
    "collapsed": false
   },
   "outputs": [
    {
     "data": {
      "text/plain": [
       "0"
      ]
     },
     "execution_count": 43,
     "metadata": {},
     "output_type": "execute_result"
    }
   ],
   "source": [
    "model_df['NumberRealEstateLoansOrLines'].isnull().sum()"
   ]
  },
  {
   "cell_type": "code",
   "execution_count": 44,
   "metadata": {
    "collapsed": false
   },
   "outputs": [
    {
     "data": {
      "text/plain": [
       "0     39277\n",
       "1     36566\n",
       "2     22207\n",
       "3      4376\n",
       "4      1547\n",
       "5       492\n",
       "6       227\n",
       "7       114\n",
       "8        58\n",
       "9        48\n",
       "10       25\n",
       "11       20\n",
       "12       11\n",
       "13        9\n",
       "14        5\n",
       "15        5\n",
       "16        3\n",
       "17        2\n",
       "18        1\n",
       "19        1\n",
       "20        1\n",
       "23        2\n",
       "25        2\n",
       "26        1\n",
       "Name: NumberRealEstateLoansOrLines, dtype: int64"
      ]
     },
     "execution_count": 44,
     "metadata": {},
     "output_type": "execute_result"
    }
   ],
   "source": [
    "model_df['NumberRealEstateLoansOrLines'].value_counts(sort=False)"
   ]
  },
  {
   "cell_type": "markdown",
   "metadata": {},
   "source": [
    "** Conclusion:**\n",
    "-  No missing values;\n",
    "-  Just drop values NumberRealEstateLoansOrLines > 26."
   ]
  },
  {
   "cell_type": "markdown",
   "metadata": {},
   "source": [
    "## MonthlyIncome"
   ]
  },
  {
   "cell_type": "code",
   "execution_count": 45,
   "metadata": {
    "collapsed": false
   },
   "outputs": [
    {
     "data": {
      "text/plain": [
       "count    8.421100e+04\n",
       "mean     6.594537e+03\n",
       "std      8.800590e+03\n",
       "min      0.000000e+00\n",
       "25%      3.400000e+03\n",
       "50%      5.400000e+03\n",
       "75%      8.228000e+03\n",
       "max      1.072500e+06\n",
       "Name: MonthlyIncome, dtype: float64"
      ]
     },
     "execution_count": 45,
     "metadata": {},
     "output_type": "execute_result"
    }
   ],
   "source": [
    "model_df['MonthlyIncome'].describe()"
   ]
  },
  {
   "cell_type": "code",
   "execution_count": 46,
   "metadata": {
    "collapsed": false
   },
   "outputs": [
    {
     "data": {
      "text/plain": [
       "(20789, 0.19799047619047619)"
      ]
     },
     "execution_count": 46,
     "metadata": {},
     "output_type": "execute_result"
    }
   ],
   "source": [
    "model_df['MonthlyIncome'].isnull().sum(), model_df['MonthlyIncome'].isnull().mean()"
   ]
  },
  {
   "cell_type": "code",
   "execution_count": 47,
   "metadata": {
    "collapsed": false
   },
   "outputs": [
    {
     "data": {
      "image/png": "[encoded data removed]",
      "text/plain": [
       "<matplotlib.figure.Figure at 0x7f6e259ce1d0>"
      ]
     },
     "metadata": {},
     "output_type": "display_data"
    }
   ],
   "source": [
    "sns.distplot(model_df['MonthlyIncome'].dropna())\n",
    "plt.show()"
   ]
  },
  {
   "cell_type": "markdown",
   "metadata": {},
   "source": [
    "Let's transform this variable using Box-Cox (it only works to positive values)"
   ]
  },
  {
   "cell_type": "code",
   "execution_count": 48,
   "metadata": {
    "collapsed": false
   },
   "outputs": [],
   "source": [
    "xt, lmbda = sp.stats.boxcox(model_df[model_df['MonthlyIncome'] > 0]['MonthlyIncome'])"
   ]
  },
  {
   "cell_type": "code",
   "execution_count": 49,
   "metadata": {
    "collapsed": false
   },
   "outputs": [
    {
     "data": {
      "image/png": "[encoded data removed]",
      "text/plain": [
       "<matplotlib.figure.Figure at 0x7f6e25855668>"
      ]
     },
     "metadata": {},
     "output_type": "display_data"
    }
   ],
   "source": [
    "sns.distplot(xt)\n",
    "plt.show()"
   ]
  },
  {
   "cell_type": "code",
   "execution_count": 50,
   "metadata": {
    "collapsed": false
   },
   "outputs": [],
   "source": [
    "model_df['MonthlyIncome_boxcox'] = 0\n",
    "model_df.loc[model_df['MonthlyIncome'] > 0, 'MonthlyIncome_boxcox'] = xt"
   ]
  },
  {
   "cell_type": "code",
   "execution_count": 51,
   "metadata": {
    "collapsed": false
   },
   "outputs": [
    {
     "data": {
      "image/png": "[encoded data removed]",
      "text/plain": [
       "<matplotlib.figure.Figure at 0x7f6e258435f8>"
      ]
     },
     "metadata": {},
     "output_type": "display_data"
    }
   ],
   "source": [
    "g = sns.FacetGrid(model_df, col=\"SeriousDlqin2yrs\", size=4)\n",
    "g.map(sns.distplot, \"MonthlyIncome_boxcox\")\n",
    "plt.show()"
   ]
  },
  {
   "cell_type": "markdown",
   "metadata": {},
   "source": [
    "**Conclusion**:\n",
    "-  20% of the values are missing;\n",
    "-  The variable may be transformed by Box-Cox and becomes a bell-shaped distribution."
   ]
  },
  {
   "cell_type": "markdown",
   "metadata": {},
   "source": [
    "## DebtRatio"
   ]
  },
  {
   "cell_type": "code",
   "execution_count": 52,
   "metadata": {
    "collapsed": false
   },
   "outputs": [
    {
     "data": {
      "text/plain": [
       "count    105000.000000\n",
       "mean        345.886703\n",
       "std        1345.541363\n",
       "min           0.000000\n",
       "25%           0.175941\n",
       "50%           0.367298\n",
       "75%           0.867378\n",
       "max      168835.000000\n",
       "Name: DebtRatio, dtype: float64"
      ]
     },
     "execution_count": 52,
     "metadata": {},
     "output_type": "execute_result"
    }
   ],
   "source": [
    "model_df['DebtRatio'].describe()"
   ]
  },
  {
   "cell_type": "code",
   "execution_count": 53,
   "metadata": {
    "collapsed": false
   },
   "outputs": [
    {
     "data": {
      "text/plain": [
       "0"
      ]
     },
     "execution_count": 53,
     "metadata": {},
     "output_type": "execute_result"
    }
   ],
   "source": [
    "model_df['DebtRatio'].isnull().sum()"
   ]
  },
  {
   "cell_type": "code",
   "execution_count": 54,
   "metadata": {
    "collapsed": false
   },
   "outputs": [
    {
     "data": {
      "image/png": "[encoded data removed]",
      "text/plain": [
       "<matplotlib.figure.Figure at 0x7f6e29589320>"
      ]
     },
     "metadata": {},
     "output_type": "display_data"
    }
   ],
   "source": [
    "sns.distplot(model_df['DebtRatio'])\n",
    "plt.show()"
   ]
  }
 ],
 "metadata": {
  "kernelspec": {
   "display_name": "Python 3",
   "language": "python",
   "name": "python3"
  },
  "language_info": {
   "codemirror_mode": {
    "name": "ipython",
    "version": 3
   },
   "file_extension": ".py",
   "mimetype": "text/x-python",
   "name": "python",
   "nbconvert_exporter": "python",
   "pygments_lexer": "ipython3",
   "version": "3.5.2"
  }
 },
 "nbformat": 4,
 "nbformat_minor": 2
}
