{
 "cells": [
  {
   "cell_type": "code",
   "execution_count": 1,
   "metadata": {
    "collapsed": true
   },
   "outputs": [],
   "source": [
    "import numpy as np\n",
    "import scipy as sp\n",
    "import pandas as pd\n",
    "import seaborn as sns\n",
    "import matplotlib.pyplot as plt"
   ]
  },
  {
   "cell_type": "code",
   "execution_count": 2,
   "metadata": {
    "collapsed": true
   },
   "outputs": [],
   "source": [
    "from sklearn.model_selection import train_test_split\n",
    "\n",
    "def load_data(filename):\n",
    "    data_df = pd.read_csv(filename)\n",
    "    print(\"Data shape: %d x %d\" % (data_df.shape))\n",
    "    \n",
    "    # target variable\n",
    "    y = data_df['processingTime']\n",
    "    # drop some variables\n",
    "    X = data_df.drop(['protein', 'processingTime', 'resultSize'], axis=1)\n",
    "    \n",
    "    return (X, y)"
   ]
  },
  {
   "cell_type": "code",
   "execution_count": 5,
   "metadata": {
    "collapsed": false
   },
   "outputs": [
    {
     "name": "stdout",
     "output_type": "stream",
     "text": [
      "Data shape: 560 x 7\n",
      "Data shape: 193 x 7\n"
     ]
    }
   ],
   "source": [
    "X_train, y_train = load_data('data.csv')\n",
    "X_new, y_new = load_data('update2.csv')"
   ]
  },
  {
   "cell_type": "code",
   "execution_count": 4,
   "metadata": {
    "collapsed": true
   },
   "outputs": [],
   "source": [
    "from sklearn.preprocessing import LabelEncoder\n",
    "\n",
    "def categorical_to_numerical(X_train, X_test):\n",
    "    label_enc = LabelEncoder()\n",
    "\n",
    "    X_train.loc[:, 'machineType'] = label_enc.fit_transform(X_train['machineType'])\n",
    "    X_test.loc[:, 'machineType'] = label_enc.transform(X_test['machineType'])"
   ]
  },
  {
   "cell_type": "code",
   "execution_count": 6,
   "metadata": {
    "collapsed": true
   },
   "outputs": [],
   "source": [
    "categorical_to_numerical(X_train, X_new)"
   ]
  },
  {
   "cell_type": "code",
   "execution_count": 19,
   "metadata": {
    "collapsed": true
   },
   "outputs": [],
   "source": [
    "from sklearn.metrics import r2_score, mean_squared_error\n",
    "\n",
    "def regr_scoring(regr, X_test, y_test):\n",
    "    y_true, y_pred = y_test, regr.predict(X_test)\n",
    "    \n",
    "    # R^2 score: higher (1), better\n",
    "    print(\"R^2 score on new data: %f\" % r2_score(y_true, y_pred))\n",
    "    \n",
    "    # RMSE score: lesser (0), better\n",
    "    print(\"RMSE on new data: %f\" % np.sqrt(mean_squared_error(y_true, y_pred)))"
   ]
  },
  {
   "cell_type": "code",
   "execution_count": 20,
   "metadata": {
    "collapsed": false
   },
   "outputs": [
    {
     "name": "stdout",
     "output_type": "stream",
     "text": [
      "R^2 score on new data: -6.479870\n",
      "RMSE on new data: 1563.611080\n"
     ]
    }
   ],
   "source": [
    "from sklearn.svm import SVR\n",
    "\n",
    "svm = SVR(kernel='rbf', C=1e6)\n",
    "\n",
    "svm.fit(X_train, y_train)\n",
    "\n",
    "regr_scoring(svm, X_new, y_new)"
   ]
  },
  {
   "cell_type": "code",
   "execution_count": 25,
   "metadata": {
    "collapsed": false
   },
   "outputs": [
    {
     "data": {
      "text/plain": [
       "201.75232953367876"
      ]
     },
     "execution_count": 25,
     "metadata": {},
     "output_type": "execute_result"
    }
   ],
   "source": [
    "y_new.mean()"
   ]
  },
  {
   "cell_type": "code",
   "execution_count": 26,
   "metadata": {
    "collapsed": false
   },
   "outputs": [
    {
     "data": {
      "text/plain": [
       "573.20470126924249"
      ]
     },
     "execution_count": 26,
     "metadata": {},
     "output_type": "execute_result"
    }
   ],
   "source": [
    "y_new.std()"
   ]
  },
  {
   "cell_type": "code",
   "execution_count": null,
   "metadata": {
    "collapsed": true
   },
   "outputs": [],
   "source": []
  }
 ],
 "metadata": {
  "kernelspec": {
   "display_name": "Python 2",
   "language": "python",
   "name": "python2"
  },
  "language_info": {
   "codemirror_mode": {
    "name": "ipython",
    "version": 2
   },
   "file_extension": ".py",
   "mimetype": "text/x-python",
   "name": "python",
   "nbconvert_exporter": "python",
   "pygments_lexer": "ipython2",
   "version": "2.7.12"
  }
 },
 "nbformat": 4,
 "nbformat_minor": 2
}
