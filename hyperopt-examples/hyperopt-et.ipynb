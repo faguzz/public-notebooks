{
 "cells": [
  {
   "cell_type": "code",
   "execution_count": 1,
   "metadata": {
    "collapsed": true
   },
   "outputs": [],
   "source": [
    "import pandas as pd\n",
    "import numpy as np\n",
    "import hyperopt\n",
    "import os\n",
    "import sys\n",
    "import csv\n",
    "\n",
    "from time import time\n",
    "\n",
    "from hyperopt import hp, fmin, tpe\n",
    "from sklearn.ensemble import ExtraTreesRegressor\n",
    "from sklearn.model_selection import cross_val_score"
   ]
  },
  {
   "cell_type": "code",
   "execution_count": 2,
   "metadata": {
    "collapsed": true
   },
   "outputs": [],
   "source": [
    "df = pd.read_csv('data/manipulated_train.csv')"
   ]
  },
  {
   "cell_type": "code",
   "execution_count": 3,
   "metadata": {
    "collapsed": false
   },
   "outputs": [],
   "source": [
    "X = df.drop(['SalePrice'], axis=1)\n",
    "y = df['SalePrice']"
   ]
  },
  {
   "cell_type": "code",
   "execution_count": 4,
   "metadata": {
    "collapsed": false
   },
   "outputs": [
    {
     "data": {
      "text/plain": [
       "(1460, 79)"
      ]
     },
     "execution_count": 4,
     "metadata": {},
     "output_type": "execute_result"
    }
   ],
   "source": [
    "X.shape"
   ]
  },
  {
   "cell_type": "code",
   "execution_count": 5,
   "metadata": {
    "collapsed": false
   },
   "outputs": [
    {
     "data": {
      "text/plain": [
       "8.8881944173155887"
      ]
     },
     "execution_count": 5,
     "metadata": {},
     "output_type": "execute_result"
    }
   ],
   "source": [
    "np.sqrt(79)"
   ]
  },
  {
   "cell_type": "raw",
   "metadata": {},
   "source": [
    "et = ExtraTreesRegressor()\n",
    "et.get_params()"
   ]
  },
  {
   "cell_type": "code",
   "execution_count": 6,
   "metadata": {
    "collapsed": true
   },
   "outputs": [],
   "source": [
    "max_evals = 20\n",
    "run_counter = 0\n",
    "num_cv = 3\n",
    "output_file = '/tmp/hyperopt-et.csv'"
   ]
  },
  {
   "cell_type": "code",
   "execution_count": 7,
   "metadata": {
    "collapsed": false
   },
   "outputs": [],
   "source": [
    "def run_wrapper(params):\n",
    "    global run_counter\n",
    "    global o_f\n",
    "    \n",
    "    run_counter += 1\n",
    "    print \"==============================\"\n",
    "    print \"run\", run_counter\n",
    "    \n",
    "    s = time()\n",
    "    r2score = run_test(params)\n",
    "    \n",
    "    print\n",
    "    print \"R2 score:\", r2score\n",
    "    print \"elapsed: {}s \\n\".format(int(round(time() - s)))\n",
    "    \n",
    "    writer.writerow([r2score] + list(params))\n",
    "    o_f.flush()\n",
    "    return r2score"
   ]
  },
  {
   "cell_type": "code",
   "execution_count": 8,
   "metadata": {
    "collapsed": true
   },
   "outputs": [],
   "source": [
    "def run_test( params ):\n",
    "    max_depth, max_features, min_samples_leaf = params\n",
    "    max_depth = int(max_depth)\n",
    "    min_samples_leaf = int(min_samples_leaf)\n",
    "    \n",
    "    print \"max_depth:\", max_depth\n",
    "    print \"max_feature:\", max_features\n",
    "    print \"min_samples_leaf:\", min_samples_leaf\n",
    "    \n",
    "    et = ExtraTreesRegressor(max_depth=max_depth, max_features=max_features,\n",
    "                             min_samples_leaf=min_samples_leaf, n_estimators=100)\n",
    "    cvs = cross_val_score(et, X, y, cv=num_cv, n_jobs=-1)\n",
    "    \n",
    "    return 1 - np.mean(cvs)"
   ]
  },
  {
   "cell_type": "code",
   "execution_count": null,
   "metadata": {
    "collapsed": true
   },
   "outputs": [],
   "source": [
    "space = (\n",
    "    hp.uniform('max_depth', 5, 30),\n",
    "    hp.uniform('max_features', 0.1, 1),\n",
    "    hp.uniform('min_samples_leaf', 1, 10)\n",
    ")"
   ]
  },
  {
   "cell_type": "code",
   "execution_count": null,
   "metadata": {
    "collapsed": false
   },
   "outputs": [
    {
     "name": "stdout",
     "output_type": "stream",
     "text": [
      "==============================\n",
      "run 1\n",
      "max_depth: 23\n",
      "max_feature: 0.768143084591\n",
      "min_samples_leaf: 6\n",
      "\n",
      "R2 score: 0.138550897162\n",
      "elapsed: 1s \n",
      "\n",
      "==============================\n",
      "run 2\n",
      "max_depth: 16\n",
      "max_feature: 0.504476991729\n",
      "min_samples_leaf: 4\n",
      "\n",
      "R2 score: 0.133722306708\n",
      "elapsed: 1s \n",
      "\n",
      "==============================\n",
      "run 3\n",
      "max_depth: 16\n",
      "max_feature: 0.258679882947\n",
      "min_samples_leaf: 9\n",
      "\n",
      "R2 score: 0.162824354189\n",
      "elapsed: 1s \n",
      "\n",
      "==============================\n",
      "run 4\n",
      "max_depth: 12\n",
      "max_feature: 0.705214931083\n",
      "min_samples_leaf: 7\n",
      "\n",
      "R2 score: 0.142111667649\n",
      "elapsed: 1s \n",
      "\n",
      "==============================\n",
      "run 5\n",
      "max_depth: 13\n",
      "max_feature: 0.781886245967\n",
      "min_samples_leaf: 1\n",
      "\n",
      "R2 score: 0.12472930484\n",
      "elapsed: 2s \n",
      "\n",
      "==============================\n",
      "run 6\n",
      "max_depth: 29\n",
      "max_feature: 0.737416939395\n",
      "min_samples_leaf: 1\n",
      "\n",
      "R2 score: 0.126903380548\n",
      "elapsed: 2s \n",
      "\n",
      "==============================\n",
      "run 7\n",
      "max_depth: 5\n",
      "max_feature: 0.299915340817\n",
      "min_samples_leaf: 3\n",
      "\n",
      "R2 score: 0.189220801951\n",
      "elapsed: 1s \n",
      "\n",
      "==============================\n",
      "run 8\n",
      "max_depth: 20\n",
      "max_feature: 0.144749307259\n",
      "min_samples_leaf: 7\n"
     ]
    }
   ],
   "source": [
    "if __name__ == '__main__':\n",
    "    \n",
    "    headers = ['r2score', 'max_depth']\n",
    "    o_f = open(output_file, 'wb')\n",
    "    writer = csv.writer(o_f)\n",
    "    writer.writerow(headers)\n",
    "    \n",
    "    start_time = time()\n",
    "    best = fmin(run_wrapper, space, algo=tpe.suggest, max_evals=max_evals)\n",
    "    end_time = time()\n",
    "    \n",
    "    print \"Seconds passed:\", int( round(end_time - start_time))\n",
    "    #print \"Best run:\", optimizer.get_best_run()\n",
    "    print best\n",
    "    #print run_test( hyperopt.space_eval( space, best ))"
   ]
  }
 ],
 "metadata": {
  "kernelspec": {
   "display_name": "Python 2",
   "language": "python",
   "name": "python2"
  },
  "language_info": {
   "codemirror_mode": {
    "name": "ipython",
    "version": 2
   },
   "file_extension": ".py",
   "mimetype": "text/x-python",
   "name": "python",
   "nbconvert_exporter": "python",
   "pygments_lexer": "ipython2",
   "version": "2.7.12"
  }
 },
 "nbformat": 4,
 "nbformat_minor": 2
}
