{
 "cells": [
  {
   "cell_type": "code",
   "execution_count": 1,
   "metadata": {
    "collapsed": true
   },
   "outputs": [],
   "source": [
    "import numpy as np\n",
    "import scipy as sp\n",
    "import pandas as pd\n",
    "import matplotlib.pyplot as plt\n",
    "import seaborn as sns"
   ]
  },
  {
   "cell_type": "code",
   "execution_count": 2,
   "metadata": {
    "collapsed": true
   },
   "outputs": [],
   "source": [
    "plt.rcParams[\"figure.figsize\"] = [12, 9]"
   ]
  },
  {
   "cell_type": "code",
   "execution_count": 3,
   "metadata": {
    "collapsed": false
   },
   "outputs": [],
   "source": [
    "train_df = pd.read_csv('data_extracted/cs-training-prepared.csv')\n",
    "test_df = pd.read_csv('data_extracted/cs-test-prepared.csv')"
   ]
  },
  {
   "cell_type": "markdown",
   "metadata": {},
   "source": [
    "## First-layer classifiers"
   ]
  },
  {
   "cell_type": "code",
   "execution_count": 4,
   "metadata": {
    "collapsed": false
   },
   "outputs": [
    {
     "name": "stderr",
     "output_type": "stream",
     "text": [
      "/home/fausto/.local/lib/python2.7/site-packages/sklearn/cross_validation.py:44: DeprecationWarning: This module was deprecated in version 0.18 in favor of the model_selection module into which all the refactored classes and functions are moved. Also note that the interface of the new CV iterators are different from that of this module. This module will be removed in 0.20.\n",
      "  \"This module will be removed in 0.20.\", DeprecationWarning)\n"
     ]
    }
   ],
   "source": [
    "from xgboost import XGBClassifier, XGBRegressor\n",
    "import xgboost as xgb\n",
    "from sklearn.ensemble import RandomForestClassifier, RandomForestRegressor"
   ]
  },
  {
   "cell_type": "code",
   "execution_count": 5,
   "metadata": {
    "collapsed": false
   },
   "outputs": [
    {
     "name": "stderr",
     "output_type": "stream",
     "text": [
      "/home/fausto/.local/lib/python2.7/site-packages/theano/tensor/signal/downsample.py:6: UserWarning: downsample module has been moved to the theano.tensor.signal.pool module.\n",
      "  \"downsample module has been moved to the theano.tensor.signal.pool module.\")\n"
     ]
    }
   ],
   "source": [
    "from theano import tensor as T\n",
    "\n",
    "from lasagne.layers import InputLayer, DenseLayer, DropoutLayer\n",
    "from lasagne.nonlinearities import sigmoid\n",
    "from lasagne.updates import nesterov_momentum\n",
    "from lasagne.objectives import binary_crossentropy\n",
    "\n",
    "from nolearn.lasagne import NeuralNet, TrainSplit"
   ]
  },
  {
   "cell_type": "code",
   "execution_count": 8,
   "metadata": {
    "collapsed": false
   },
   "outputs": [],
   "source": [
    "xgb_clf = XGBClassifier(base_score=0.5, colsample_bylevel=1,\n",
    "                        colsample_bytree=0.59999999999999998, gamma=0.3, learning_rate=0.1,\n",
    "                        max_delta_step=0, max_depth=4, min_child_weight=5, missing=None,\n",
    "                        n_estimators=500, nthread=-1, objective='binary:logistic',\n",
    "                        reg_alpha=0, reg_lambda=1, scale_pos_weight=1, seed=0, silent=True,\n",
    "                        subsample=0.90000000000000002)\n",
    "\n",
    "xgb_reg = XGBRegressor(base_score=0.5, colsample_bylevel=1,\n",
    "                       colsample_bytree=0.59999999999999998, gamma=0.0, learning_rate=0.1,\n",
    "                       max_delta_step=0, max_depth=5, min_child_weight=2, missing=None,\n",
    "                       n_estimators=500, nthread=-1, objective='reg:linear', reg_alpha=0,\n",
    "                       reg_lambda=1, scale_pos_weight=1, seed=0, silent=True,\n",
    "                       subsample=0.59999999999999998)\n",
    "\n",
    "rf_clf = RandomForestClassifier(bootstrap=True, class_weight=None, criterion='gini',\n",
    "            max_depth=9, max_features=3, max_leaf_nodes=None,\n",
    "            min_impurity_split=1e-07, min_samples_leaf=10,\n",
    "            min_samples_split=2, min_weight_fraction_leaf=0.0,\n",
    "            n_estimators=500, n_jobs=4, oob_score=False, random_state=83,\n",
    "            verbose=0, warm_start=False)\n",
    "\n",
    "rf_reg = RandomForestRegressor(bootstrap=True, criterion='mse', max_depth=11,\n",
    "           max_features='auto', max_leaf_nodes=None,\n",
    "           min_impurity_split=1e-07, min_samples_leaf=100,\n",
    "           min_samples_split=2, min_weight_fraction_leaf=0.0,\n",
    "           n_estimators=500, n_jobs=4, oob_score=False, random_state=83,\n",
    "           verbose=0, warm_start=False)\n",
    "\n",
    "nnet = NeuralNet(layers=[('input', InputLayer), ('hidden1', DenseLayer), ('dropout1', DropoutLayer),\n",
    "                         ('hidden2', DenseLayer), ('dropout2', DropoutLayer), ('hidden3', DenseLayer),\n",
    "                         ('dropout3', DropoutLayer), ('hidden4', DenseLayer), ('dropout4', DropoutLayer),\n",
    "                         ('output', DenseLayer)],\n",
    "                 input_shape=(None, 10), hidden1_num_units=80,\n",
    "                 dropout1_p=0.1, hidden2_num_units=80, dropout2_p=0.1,\n",
    "                 hidden3_num_units=80, dropout3_p=0.1, hidden4_num_units=80,\n",
    "                 dropout4_p=0.1, output_nonlinearity=sigmoid, output_num_units=1,\n",
    "                 update=nesterov_momentum, update_learning_rate=0.01, update_momentum=0.9,\n",
    "                 regression=True, y_tensor_type=T.imatrix, objective_loss_function=binary_crossentropy,\n",
    "                 max_epochs=32,\n",
    "                 train_split=TrainSplit(eval_size=0.4), verbose=10)"
   ]
  },
  {
   "cell_type": "code",
   "execution_count": 9,
   "metadata": {
    "collapsed": true
   },
   "outputs": [],
   "source": [
    "from sklearn.model_selection import cross_val_score, cross_val_predict\n",
    "from tuning_clf import *"
   ]
  },
  {
   "cell_type": "markdown",
   "metadata": {},
   "source": [
    "### Extracting features for each classifier / regressor"
   ]
  },
  {
   "cell_type": "markdown",
   "metadata": {
    "collapsed": true
   },
   "source": [
    "#### XGBoost"
   ]
  },
  {
   "cell_type": "code",
   "execution_count": 10,
   "metadata": {
    "collapsed": true
   },
   "outputs": [],
   "source": [
    "X = train_df.drop(['SeriousDlqin2yrs'], axis=1)\n",
    "y = train_df['SeriousDlqin2yrs']\n",
    "\n",
    "predictions_xgb = []\n",
    "\n",
    "for clf in [xgb_clf, xgb_reg]:\n",
    "    predictions = cross_val_predict(clf, X, y, cv=5)\n",
    "    predictions_xgb.append(predictions)"
   ]
  },
  {
   "cell_type": "markdown",
   "metadata": {},
   "source": [
    "#### RandomForests"
   ]
  },
  {
   "cell_type": "code",
   "execution_count": 14,
   "metadata": {
    "collapsed": false
   },
   "outputs": [],
   "source": [
    "X = train_df.drop(['SeriousDlqin2yrs'], axis=1).dropna(axis=1)\n",
    "y = train_df['SeriousDlqin2yrs']\n",
    "\n",
    "predictions_rf = []\n",
    "\n",
    "for clf in [rf_clf, rf_reg]:\n",
    "    predictions = cross_val_predict(clf, X, y, cv=5)\n",
    "    predictions_rf.append(predictions)"
   ]
  },
  {
   "cell_type": "markdown",
   "metadata": {},
   "source": [
    "#### Neural Network"
   ]
  },
  {
   "cell_type": "code",
   "execution_count": 12,
   "metadata": {
    "collapsed": false
   },
   "outputs": [
    {
     "name": "stdout",
     "output_type": "stream",
     "text": [
      "     33     0.20480     0.20047    1.02156  8.71s\n",
      "     34     0.20383     \u001b[32m0.19900\u001b[0m    1.02429  8.43s\n",
      "     35     0.20403     0.20350    1.00258  8.54s\n",
      "     36     0.20394     0.20246    1.00731  8.62s\n",
      "     37     0.20383     0.20171    1.01050  8.58s\n",
      "     38     \u001b[36m0.20320\u001b[0m     0.20196    1.00614  8.62s\n",
      "     39     \u001b[36m0.20288\u001b[0m     0.20184    1.00513  8.53s\n",
      "     40     0.20373     0.20735    0.98256  8.41s\n",
      "     41     0.20721     0.20406    1.01544  8.50s\n",
      "     42     0.20830     0.20404    1.02091  8.47s\n",
      "     43     0.20848     0.20409    1.02151  8.67s\n",
      "     44     0.20753     0.20349    1.01985  8.42s\n",
      "     45     0.20845     0.20419    1.02085  8.56s\n",
      "     46     0.20798     0.20343    1.02237  8.59s\n",
      "     47     0.20784     0.20455    1.01607  8.48s\n",
      "     48     0.20917     0.20457    1.02246  8.51s\n",
      "     49     0.20869     0.20483    1.01882  8.67s\n",
      "     50     0.20894     0.20481    1.02019  9.65s\n",
      "     51     0.20827     0.20490    1.01647  9.80s\n",
      "     52     0.20907     0.20443    1.02269  8.26s\n",
      "     53     0.20861     0.20535    1.01587  8.63s\n",
      "     54     0.20803     0.20489    1.01531  8.43s\n",
      "     55     0.20856     0.20568    1.01400  8.65s\n",
      "     56     0.20866     0.20412    1.02225  8.58s\n",
      "     57     0.20757     0.20466    1.01421  8.68s\n",
      "     58     0.20754     0.20492    1.01281  8.62s\n",
      "     59     0.20811     0.20375    1.02142  8.61s\n",
      "     60     0.20828     0.20422    1.01988  8.71s\n",
      "     61     0.20741     0.20391    1.01713  8.38s\n",
      "     62     0.20732     0.20350    1.01874  8.72s\n",
      "     63     0.20775     0.20414    1.01772  9.42s\n",
      "     64     0.20831     0.20401    1.02106  10.13s\n"
     ]
    }
   ],
   "source": [
    "X = np.asarray(train_df.drop(['SeriousDlqin2yrs'], axis=1).dropna(axis=1), dtype=np.float32)\n",
    "y = np.asarray(train_df['SeriousDlqin2yrs'], dtype=np.int32).reshape(-1, 1)\n",
    "\n",
    "nnet.fit(X, y)\n",
    "\n",
    "predictions_nn = nnet.predict(X)"
   ]
  },
  {
   "cell_type": "code",
   "execution_count": 30,
   "metadata": {
    "collapsed": false
   },
   "outputs": [],
   "source": [
    "preds = pd.DataFrame({'xgb_clf': predictions_xgb[0],\n",
    "                      'xgb_reg': predictions_xgb[1],\n",
    "                      'rf_clf': predictions_rf[0],\n",
    "                      'rf_reg': predictions_rf[1],\n",
    "                      'nnet': predictions_nn.T[0],\n",
    "                      'true': y\n",
    "                     })"
   ]
  },
  {
   "cell_type": "markdown",
   "metadata": {},
   "source": [
    "#### Correlation among predictions"
   ]
  },
  {
   "cell_type": "code",
   "execution_count": 31,
   "metadata": {
    "collapsed": false
   },
   "outputs": [
    {
     "data": {
      "image/png": "[encoded data removed]",
      "text/plain": [
       "<matplotlib.figure.Figure at 0x7f8b93791350>"
      ]
     },
     "metadata": {},
     "output_type": "display_data"
    }
   ],
   "source": [
    "sns.heatmap(preds.corr())\n",
    "plt.show()"
   ]
  },
  {
   "cell_type": "markdown",
   "metadata": {},
   "source": [
    "## Second-layer classification"
   ]
  },
  {
   "cell_type": "code",
   "execution_count": 33,
   "metadata": {
    "collapsed": true
   },
   "outputs": [],
   "source": [
    "from sklearn.linear_model import LinearRegression"
   ]
  },
  {
   "cell_type": "code",
   "execution_count": 34,
   "metadata": {
    "collapsed": false
   },
   "outputs": [
    {
     "data": {
      "text/plain": [
       "LinearRegression(copy_X=True, fit_intercept=True, n_jobs=1, normalize=False)"
      ]
     },
     "execution_count": 34,
     "metadata": {},
     "output_type": "execute_result"
    }
   ],
   "source": [
    "X_2nd = preds.drop(['true'], axis=1)\n",
    "y_2nd = preds['true']\n",
    "\n",
    "lr = LinearRegression()\n",
    "lr.fit(X_2nd, y_2nd)"
   ]
  },
  {
   "cell_type": "code",
   "execution_count": 35,
   "metadata": {
    "collapsed": false
   },
   "outputs": [
    {
     "name": "stdout",
     "output_type": "stream",
     "text": [
      "AUC Score (Train): 0.863923\n"
     ]
    }
   ],
   "source": [
    "print \"AUC Score (Train): %f\" % metrics.roc_auc_score(preds['true'], lr.predict(X_2nd))"
   ]
  },
  {
   "cell_type": "markdown",
   "metadata": {},
   "source": [
    "## Predicting for unseen data"
   ]
  },
  {
   "cell_type": "markdown",
   "metadata": {},
   "source": [
    "### Generating features"
   ]
  },
  {
   "cell_type": "code",
   "execution_count": 36,
   "metadata": {
    "collapsed": false
   },
   "outputs": [],
   "source": [
    "X = train_df.drop(['SeriousDlqin2yrs'], axis=1)\n",
    "y = train_df['SeriousDlqin2yrs']\n",
    "\n",
    "X_unseen = test_df.drop(['SeriousDlqin2yrs'], axis=1)\n",
    "\n",
    "predictions_xgb = []\n",
    "\n",
    "for clf in [xgb_clf, xgb_reg]:\n",
    "    clf.fit(X, y)\n",
    "    predictions = clf.predict(X_unseen)\n",
    "    predictions_xgb.append(predictions)"
   ]
  },
  {
   "cell_type": "code",
   "execution_count": 37,
   "metadata": {
    "collapsed": true
   },
   "outputs": [],
   "source": [
    "X = train_df.drop(['SeriousDlqin2yrs'], axis=1).dropna(axis=1)\n",
    "y = train_df['SeriousDlqin2yrs']\n",
    "\n",
    "X_unseen = test_df.drop(['SeriousDlqin2yrs'], axis=1).dropna(axis=1)\n",
    "\n",
    "predictions_rf = []\n",
    "\n",
    "for clf in [rf_clf, rf_reg]:\n",
    "    clf.fit(X, y)\n",
    "    predictions = clf.predict(X_unseen)\n",
    "    predictions_rf.append(predictions)"
   ]
  },
  {
   "cell_type": "code",
   "execution_count": 38,
   "metadata": {
    "collapsed": true
   },
   "outputs": [],
   "source": [
    "X_unseen = np.asarray(test_df.drop(['SeriousDlqin2yrs'], axis=1).dropna(axis=1), dtype=np.float32)\n",
    "\n",
    "predictions_nn = nnet.predict(X_unseen)"
   ]
  },
  {
   "cell_type": "code",
   "execution_count": 39,
   "metadata": {
    "collapsed": true
   },
   "outputs": [],
   "source": [
    "preds = pd.DataFrame({'xgb_clf': predictions_xgb[0],\n",
    "                      'xgb_reg': predictions_xgb[1],\n",
    "                      'rf_clf': predictions_rf[0],\n",
    "                      'rf_reg': predictions_rf[1],\n",
    "                      'nnet': predictions_nn.T[0]\n",
    "                     })"
   ]
  },
  {
   "cell_type": "markdown",
   "metadata": {},
   "source": [
    "### Predicting"
   ]
  },
  {
   "cell_type": "code",
   "execution_count": 40,
   "metadata": {
    "collapsed": false
   },
   "outputs": [],
   "source": [
    "final_preds = lr.predict(preds)"
   ]
  },
  {
   "cell_type": "code",
   "execution_count": 41,
   "metadata": {
    "collapsed": false
   },
   "outputs": [],
   "source": [
    "final_preds[final_preds < 0] = 0\n",
    "final_preds[final_preds > 1] = 1"
   ]
  },
  {
   "cell_type": "code",
   "execution_count": 42,
   "metadata": {
    "collapsed": false
   },
   "outputs": [],
   "source": [
    "final_preds_df = pd.DataFrame({'Id': range(1, len(final_preds) + 1), 'Probability': final_preds})\n",
    "final_preds_df.to_csv('submission.csv', index=False)"
   ]
  }
 ],
 "metadata": {
  "kernelspec": {
   "display_name": "Python 2",
   "language": "python",
   "name": "python2"
  },
  "language_info": {
   "codemirror_mode": {
    "name": "ipython",
    "version": 2
   },
   "file_extension": ".py",
   "mimetype": "text/x-python",
   "name": "python",
   "nbconvert_exporter": "python",
   "pygments_lexer": "ipython2",
   "version": "2.7.12"
  }
 },
 "nbformat": 4,
 "nbformat_minor": 2
}
