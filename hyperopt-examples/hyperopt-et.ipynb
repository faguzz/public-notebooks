{
 "cells": [
  {
   "cell_type": "code",
   "execution_count": 1,
   "metadata": {
    "collapsed": false
   },
   "outputs": [],
   "source": [
    "import pandas as pd\n",
    "import numpy as np\n",
    "import hyperopt\n",
    "import os\n",
    "import sys\n",
    "import csv\n",
    "\n",
    "from time import time\n",
    "\n",
    "from hyperopt import hp, fmin, tpe\n",
    "from sklearn.ensemble import ExtraTreesRegressor\n",
    "from sklearn.model_selection import cross_val_score"
   ]
  },
  {
   "cell_type": "markdown",
   "metadata": {},
   "source": [
    "### Loading data"
   ]
  },
  {
   "cell_type": "code",
   "execution_count": 2,
   "metadata": {
    "collapsed": true
   },
   "outputs": [],
   "source": [
    "df = pd.read_csv('data/manipulated_train.csv')"
   ]
  },
  {
   "cell_type": "code",
   "execution_count": 3,
   "metadata": {
    "collapsed": false
   },
   "outputs": [],
   "source": [
    "X = df.drop(['SalePrice'], axis=1)\n",
    "y = df['SalePrice']"
   ]
  },
  {
   "cell_type": "code",
   "execution_count": 4,
   "metadata": {
    "collapsed": false
   },
   "outputs": [
    {
     "data": {
      "text/plain": [
       "(1460, 79)"
      ]
     },
     "execution_count": 4,
     "metadata": {},
     "output_type": "execute_result"
    }
   ],
   "source": [
    "X.shape"
   ]
  },
  {
   "cell_type": "markdown",
   "metadata": {},
   "source": [
    "### Setting paratemers"
   ]
  },
  {
   "cell_type": "code",
   "execution_count": 5,
   "metadata": {
    "collapsed": true
   },
   "outputs": [],
   "source": [
    "# Parameters\n",
    "max_evals = 200\n",
    "run_counter = 0\n",
    "num_cv = 10\n",
    "n_jobs = -1\n",
    "output_file = '/tmp/hyperopt-et.csv'"
   ]
  },
  {
   "cell_type": "raw",
   "metadata": {},
   "source": [
    "et = ExtraTreesRegressor()\n",
    "et.get_params()"
   ]
  },
  {
   "cell_type": "code",
   "execution_count": 6,
   "metadata": {
    "collapsed": true
   },
   "outputs": [],
   "source": [
    "# Hyperparameters space\n",
    "space = (\n",
    "    hp.uniform('max_depth', 5, 30),\n",
    "    hp.uniform('max_features', 0.1, 1),\n",
    "    hp.uniform('min_samples_leaf', 1, 10)\n",
    ")"
   ]
  },
  {
   "cell_type": "code",
   "execution_count": 7,
   "metadata": {
    "collapsed": false
   },
   "outputs": [],
   "source": [
    "def run_wrapper(params):\n",
    "    global run_counter\n",
    "    global o_f\n",
    "    \n",
    "    run_counter += 1\n",
    "    print \"==============================\"\n",
    "    print \"run\", run_counter\n",
    "    \n",
    "    s = time()\n",
    "    r2score = run_test(params)\n",
    "    \n",
    "    print\n",
    "    print \"1 - R2 score:\", r2score\n",
    "    print \"elapsed: {}s \\n\".format(int(round(time() - s)))\n",
    "    \n",
    "    writer.writerow([r2score] + list(params))\n",
    "    o_f.flush()\n",
    "    return r2score"
   ]
  },
  {
   "cell_type": "code",
   "execution_count": null,
   "metadata": {
    "collapsed": true
   },
   "outputs": [],
   "source": [
    "def run_test(params):\n",
    "    max_depth, max_features, min_samples_leaf = params\n",
    "    max_depth = int(max_depth)\n",
    "    min_samples_leaf = int(min_samples_leaf)\n",
    "    \n",
    "    print \"max_depth:\", max_depth\n",
    "    print \"max_features:\", max_features\n",
    "    print \"min_samples_leaf:\", min_samples_leaf\n",
    "    \n",
    "    et = ExtraTreesRegressor(max_depth=max_depth,\n",
    "                             max_features=max_features,\n",
    "                             min_samples_leaf=min_samples_leaf,\n",
    "                             n_estimators=100,\n",
    "                             random_state=66)\n",
    "    \n",
    "    cvs = cross_val_score(et, X, y,\n",
    "                          cv=num_cv,\n",
    "                          n_jobs=n_jobs)\n",
    "    \n",
    "    return 1 - np.median(cvs)"
   ]
  },
  {
   "cell_type": "code",
   "execution_count": null,
   "metadata": {
    "collapsed": false
   },
   "outputs": [
    {
     "name": "stdout",
     "output_type": "stream",
     "text": [
      "==============================\n",
      "run 1\n",
      "max_depth: 18\n",
      "max_features: 0.450672366906\n",
      "min_samples_leaf: 9\n",
      "\n",
      "1 - R2 score: 0.140563998661\n",
      "elapsed: 3s \n",
      "\n",
      "==============================\n",
      "run 2\n",
      "max_depth: 26\n",
      "max_features: 0.167890719192\n",
      "min_samples_leaf: 5\n",
      "\n",
      "1 - R2 score: 0.148530592998\n",
      "elapsed: 2s \n",
      "\n",
      "==============================\n",
      "run 3\n",
      "max_depth: 29\n",
      "max_features: 0.207695530626\n",
      "min_samples_leaf: 1\n",
      "\n",
      "1 - R2 score: 0.124597278261\n",
      "elapsed: 3s \n",
      "\n",
      "==============================\n",
      "run 4\n",
      "max_depth: 10\n",
      "max_features: 0.219453289314\n",
      "min_samples_leaf: 4\n",
      "\n",
      "1 - R2 score: 0.142600488575\n",
      "elapsed: 3s \n",
      "\n",
      "==============================\n",
      "run 5\n",
      "max_depth: 19\n",
      "max_features: 0.903475449478\n",
      "min_samples_leaf: 7\n",
      "\n",
      "1 - R2 score: 0.132304528994\n",
      "elapsed: 4s \n",
      "\n",
      "==============================\n",
      "run 6\n",
      "max_depth: 27\n",
      "max_features: 0.519161251125\n",
      "min_samples_leaf: 8\n",
      "\n",
      "1 - R2 score: 0.134312913956\n",
      "elapsed: 3s \n",
      "\n",
      "==============================\n",
      "run 7\n",
      "max_depth: 10\n",
      "max_features: 0.384339372256\n",
      "min_samples_leaf: 5\n",
      "\n",
      "1 - R2 score: 0.133854877073\n",
      "elapsed: 3s \n",
      "\n",
      "==============================\n",
      "run 8\n",
      "max_depth: 14\n",
      "max_features: 0.254889862933\n",
      "min_samples_leaf: 5\n",
      "\n",
      "1 - R2 score: 0.136357662722\n",
      "elapsed: 2s \n",
      "\n",
      "==============================\n",
      "run 9\n",
      "max_depth: 14\n",
      "max_features: 0.233587823608\n",
      "min_samples_leaf: 1\n",
      "\n",
      "1 - R2 score: 0.127027562907\n",
      "elapsed: 3s \n",
      "\n",
      "==============================\n",
      "run 10\n",
      "max_depth: 13\n",
      "max_features: 0.893141705606\n",
      "min_samples_leaf: 7\n"
     ]
    }
   ],
   "source": [
    "if __name__ == '__main__':\n",
    "    \n",
    "    headers = 'r2score max_depth max_features min_samples_leaf'.split()\n",
    "    o_f = open(output_file, 'wb')\n",
    "    writer = csv.writer(o_f)\n",
    "    writer.writerow(headers)\n",
    "    \n",
    "    start_time = time()\n",
    "    best = fmin(run_wrapper, space, algo=tpe.suggest, max_evals=max_evals)\n",
    "    end_time = time()\n",
    "    \n",
    "    print \"Seconds passed:\", int(round(end_time - start_time))\n",
    "    print best"
   ]
  }
 ],
 "metadata": {
  "kernelspec": {
   "display_name": "Python 2",
   "language": "python",
   "name": "python2"
  },
  "language_info": {
   "codemirror_mode": {
    "name": "ipython",
    "version": 2
   },
   "file_extension": ".py",
   "mimetype": "text/x-python",
   "name": "python",
   "nbconvert_exporter": "python",
   "pygments_lexer": "ipython2",
   "version": "2.7.12"
  }
 },
 "nbformat": 4,
 "nbformat_minor": 2
}
