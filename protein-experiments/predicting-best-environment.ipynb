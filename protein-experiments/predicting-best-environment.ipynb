{
 "cells": [
  {
   "cell_type": "markdown",
   "metadata": {},
   "source": [
    "# Experimenting of modeling protein data\n",
    "\n",
    "In this experiment, we transform data in order to obtain a good result for its modeling with an Epsilon-Support Vector Regression (SVR) with RBF kernel. We assess its performance by predicting never seen data."
   ]
  },
  {
   "cell_type": "code",
   "execution_count": 1,
   "metadata": {
    "collapsed": true
   },
   "outputs": [],
   "source": [
    "import numpy as np\n",
    "import scipy as sp\n",
    "import pandas as pd\n",
    "import seaborn as sns\n",
    "import matplotlib.pyplot as plt"
   ]
  },
  {
   "cell_type": "markdown",
   "metadata": {},
   "source": [
    "## Loading data\n",
    "\n",
    "In this first section, we load data and select the target variable (the processing time), and also drop some unused variables (protein name and result file size)."
   ]
  },
  {
   "cell_type": "code",
   "execution_count": 2,
   "metadata": {
    "collapsed": true
   },
   "outputs": [],
   "source": [
    "from sklearn.model_selection import train_test_split\n",
    "\n",
    "def load_data(filename):\n",
    "    data_df = pd.read_csv(filename)\n",
    "    print(\"Data shape: %d x %d\" % (data_df.shape))\n",
    "    \n",
    "    # target variable\n",
    "    y = data_df['processingTime']\n",
    "    # drop some variables\n",
    "    X = data_df.drop(['protein', 'processingTime', 'resultSize'], axis=1)\n",
    "    \n",
    "    return (X, y)"
   ]
  },
  {
   "cell_type": "markdown",
   "metadata": {},
   "source": [
    "We divide data into two sets: train and test."
   ]
  },
  {
   "cell_type": "code",
   "execution_count": 3,
   "metadata": {
    "collapsed": false
   },
   "outputs": [
    {
     "name": "stdout",
     "output_type": "stream",
     "text": [
      "Data shape: 753 x 7\n"
     ]
    }
   ],
   "source": [
    "X, y = load_data('whole.csv')\n",
    "\n",
    "X_train, X_test, y_train, y_test = train_test_split(X, y, train_size=0.75, random_state=0)"
   ]
  },
  {
   "cell_type": "markdown",
   "metadata": {},
   "source": [
    "## Transforming variables\n",
    "\n",
    "In this section, we transform some variables: first, we transform the categorical variable 'machineType' into numerical; then, we scale the numerical variables to mean=0 and stdev=1."
   ]
  },
  {
   "cell_type": "code",
   "execution_count": 4,
   "metadata": {
    "collapsed": true
   },
   "outputs": [],
   "source": [
    "categorical_features = X_train.select_dtypes(include=['object']).columns\n",
    "numerical_features = X_train.select_dtypes(exclude=['object']).columns"
   ]
  },
  {
   "cell_type": "code",
   "execution_count": 5,
   "metadata": {
    "collapsed": false
   },
   "outputs": [
    {
     "name": "stderr",
     "output_type": "stream",
     "text": [
      "/home/fausto/.local/lib/python2.7/site-packages/pandas/core/indexing.py:477: SettingWithCopyWarning: \n",
      "A value is trying to be set on a copy of a slice from a DataFrame.\n",
      "Try using .loc[row_indexer,col_indexer] = value instead\n",
      "\n",
      "See the caveats in the documentation: http://pandas.pydata.org/pandas-docs/stable/indexing.html#indexing-view-versus-copy\n",
      "  self.obj[item] = s\n"
     ]
    }
   ],
   "source": [
    "from sklearn.preprocessing import LabelEncoder\n",
    "\n",
    "label_enc = LabelEncoder()\n",
    "\n",
    "X_train.loc[:, 'machineType'] = label_enc.fit_transform(X_train['machineType'])\n",
    "X_test.loc[:, 'machineType'] = label_enc.transform(X_test['machineType'])"
   ]
  },
  {
   "cell_type": "code",
   "execution_count": 6,
   "metadata": {
    "collapsed": true
   },
   "outputs": [],
   "source": [
    "from sklearn.preprocessing import StandardScaler\n",
    "\n",
    "std_scaler = StandardScaler()\n",
    "\n",
    "X_train.loc[:, numerical_features] = std_scaler.fit_transform(X_train.loc[:, numerical_features])\n",
    "X_test.loc[:, numerical_features] = std_scaler.transform(X_test.loc[:, numerical_features])"
   ]
  },
  {
   "cell_type": "markdown",
   "metadata": {},
   "source": [
    "## Modeling an SVR\n",
    "\n",
    "In this section, we first define the score functions:\n",
    "* R^2 (R-squared): 0 is the worse, and 1 is the better.\n",
    "* RMSE (root mean squared error): the lesser the better.\n",
    "\n",
    "We model and SVR with train set, then assess its performance by predicting never seen data (test set)."
   ]
  },
  {
   "cell_type": "code",
   "execution_count": 7,
   "metadata": {
    "collapsed": true
   },
   "outputs": [],
   "source": [
    "from sklearn.metrics import r2_score, mean_squared_error\n",
    "\n",
    "def regr_scoring(regr, X_test, y_test):\n",
    "    y_true, y_pred = y_test, regr.predict(X_test)\n",
    "    \n",
    "    # R^2 score: higher (1), better\n",
    "    print(\"R^2 score on new data: %f\" % r2_score(y_true, y_pred))\n",
    "    \n",
    "    # RMSE score: lesser (0), better\n",
    "    print(\"RMSE on new data: %f\" % np.sqrt(mean_squared_error(y_true, y_pred)))"
   ]
  },
  {
   "cell_type": "code",
   "execution_count": 8,
   "metadata": {
    "collapsed": false
   },
   "outputs": [
    {
     "name": "stdout",
     "output_type": "stream",
     "text": [
      "R^2 score on new data: 0.997020\n",
      "RMSE on new data: 70.505679\n"
     ]
    }
   ],
   "source": [
    "from sklearn.svm import SVR\n",
    "\n",
    "# setting parameters for SVR\n",
    "svm = SVR(kernel='rbf', C=1e6)\n",
    "\n",
    "# modeling\n",
    "svm.fit(X_train, y_train)\n",
    "\n",
    "# assessing predict performance\n",
    "regr_scoring(svm, X_test, y_test)"
   ]
  },
  {
   "cell_type": "markdown",
   "metadata": {},
   "source": [
    "## Plotting predictions\n",
    "\n",
    "In this section, we plot the predicted values obtained by the SVR versus the true values. Note the points are into a diagonal line, with few variability -- it shows the predictions are very close to the expected values. "
   ]
  },
  {
   "cell_type": "code",
   "execution_count": 9,
   "metadata": {
    "collapsed": false
   },
   "outputs": [
    {
     "data": {
      "image/png": "[encoded data removed]",
      "text/plain": [
       "<matplotlib.figure.Figure at 0x7f7a8caceb10>"
      ]
     },
     "metadata": {},
     "output_type": "display_data"
    }
   ],
   "source": [
    "pred_regr, true_regr = svm.predict(X_test), y_test\n",
    "\n",
    "plt.plot(pred_regr, true_regr, 'o')\n",
    "plt.plot([0, 10000], [0, 10000], 'k-')\n",
    "plt.show()"
   ]
  },
  {
   "cell_type": "markdown",
   "metadata": {},
   "source": [
    "## Choosing machine type for a new experiment\n",
    "\n",
    "Suppose a new experiment is requested, with the variables:\n",
    "* chainSize: 72\n",
    "* population: 80\n",
    "* generations: 200\n",
    "\n",
    "Which machine would be the best?\n",
    "\n",
    "For this, we will use the obtained model to predict the processing time for every type of machine. Therefore, we create three experiments, each one for a type of machine:"
   ]
  },
  {
   "cell_type": "code",
   "execution_count": 46,
   "metadata": {
    "collapsed": false
   },
   "outputs": [
    {
     "data": {
      "text/html": [
       "<div>\n",
       "<table border=\"1\" class=\"dataframe\">\n",
       "  <thead>\n",
       "    <tr style=\"text-align: right;\">\n",
       "      <th></th>\n",
       "      <th>chainSize</th>\n",
       "      <th>generations</th>\n",
       "      <th>machineType</th>\n",
       "      <th>population</th>\n",
       "    </tr>\n",
       "  </thead>\n",
       "  <tbody>\n",
       "    <tr>\n",
       "      <th>0</th>\n",
       "      <td>72</td>\n",
       "      <td>200</td>\n",
       "      <td>Local</td>\n",
       "      <td>80</td>\n",
       "    </tr>\n",
       "    <tr>\n",
       "      <th>1</th>\n",
       "      <td>72</td>\n",
       "      <td>200</td>\n",
       "      <td>Cluster</td>\n",
       "      <td>80</td>\n",
       "    </tr>\n",
       "    <tr>\n",
       "      <th>2</th>\n",
       "      <td>72</td>\n",
       "      <td>200</td>\n",
       "      <td>Cloud</td>\n",
       "      <td>80</td>\n",
       "    </tr>\n",
       "  </tbody>\n",
       "</table>\n",
       "</div>"
      ],
      "text/plain": [
       "   chainSize  generations machineType  population\n",
       "0         72          200       Local          80\n",
       "1         72          200     Cluster          80\n",
       "2         72          200       Cloud          80"
      ]
     },
     "execution_count": 46,
     "metadata": {},
     "output_type": "execute_result"
    }
   ],
   "source": [
    "new_experiment = [{'chainSize': 72, 'population': 80, 'generations': 200, 'machineType': 'Local'},\n",
    "                  {'chainSize': 72, 'population': 80, 'generations': 200, 'machineType': 'Cluster'},\n",
    "                  {'chainSize': 72, 'population': 80, 'generations': 200, 'machineType': 'Cloud'}]\n",
    "\n",
    "new_experiment_df = pd.DataFrame(new_experiment)\n",
    "\n",
    "new_experiment_df"
   ]
  },
  {
   "cell_type": "markdown",
   "metadata": {},
   "source": [
    "Don't forget to transform the variables:\n",
    "* Categorical variable machineType to numerical;\n",
    "* Scale the numerical variables."
   ]
  },
  {
   "cell_type": "code",
   "execution_count": 47,
   "metadata": {
    "collapsed": false
   },
   "outputs": [
    {
     "data": {
      "text/html": [
       "<div>\n",
       "<table border=\"1\" class=\"dataframe\">\n",
       "  <thead>\n",
       "    <tr style=\"text-align: right;\">\n",
       "      <th></th>\n",
       "      <th>chainSize</th>\n",
       "      <th>generations</th>\n",
       "      <th>machineType</th>\n",
       "      <th>population</th>\n",
       "    </tr>\n",
       "  </thead>\n",
       "  <tbody>\n",
       "    <tr>\n",
       "      <th>0</th>\n",
       "      <td>0.183805</td>\n",
       "      <td>-0.87168</td>\n",
       "      <td>2</td>\n",
       "      <td>-0.912447</td>\n",
       "    </tr>\n",
       "    <tr>\n",
       "      <th>1</th>\n",
       "      <td>0.183805</td>\n",
       "      <td>-0.87168</td>\n",
       "      <td>1</td>\n",
       "      <td>-0.912447</td>\n",
       "    </tr>\n",
       "    <tr>\n",
       "      <th>2</th>\n",
       "      <td>0.183805</td>\n",
       "      <td>-0.87168</td>\n",
       "      <td>0</td>\n",
       "      <td>-0.912447</td>\n",
       "    </tr>\n",
       "  </tbody>\n",
       "</table>\n",
       "</div>"
      ],
      "text/plain": [
       "   chainSize  generations  machineType  population\n",
       "0   0.183805     -0.87168            2   -0.912447\n",
       "1   0.183805     -0.87168            1   -0.912447\n",
       "2   0.183805     -0.87168            0   -0.912447"
      ]
     },
     "execution_count": 47,
     "metadata": {},
     "output_type": "execute_result"
    }
   ],
   "source": [
    "new_experiment_df.loc[:, 'machineType'] = label_enc.transform(new_experiment_df['machineType'])\n",
    "new_experiment_df.loc[:, numerical_features] = std_scaler.transform(new_experiment_df.loc[:, numerical_features])\n",
    "\n",
    "new_experiment_df"
   ]
  },
  {
   "cell_type": "markdown",
   "metadata": {},
   "source": [
    "Finally, we can predict the processing time for each experiment.\n",
    "\n",
    "In this case, we note the fastest machine type for processing this experiment would be the 'cluster' or 'cloud', which obtained close values."
   ]
  },
  {
   "cell_type": "code",
   "execution_count": 48,
   "metadata": {
    "collapsed": false
   },
   "outputs": [
    {
     "data": {
      "text/plain": [
       "array([ 1673.3448569 ,   784.89068479,   806.26959227])"
      ]
     },
     "execution_count": 48,
     "metadata": {},
     "output_type": "execute_result"
    }
   ],
   "source": [
    "svm.predict(new_experiment_df)"
   ]
  }
 ],
 "metadata": {
  "kernelspec": {
   "display_name": "Python 2",
   "language": "python",
   "name": "python2"
  },
  "language_info": {
   "codemirror_mode": {
    "name": "ipython",
    "version": 2
   },
   "file_extension": ".py",
   "mimetype": "text/x-python",
   "name": "python",
   "nbconvert_exporter": "python",
   "pygments_lexer": "ipython2",
   "version": "2.7.12"
  }
 },
 "nbformat": 4,
 "nbformat_minor": 2
}
