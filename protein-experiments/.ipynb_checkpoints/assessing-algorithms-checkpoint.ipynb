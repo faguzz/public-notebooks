{
 "cells": [
  {
   "cell_type": "code",
   "execution_count": 1,
   "metadata": {
    "collapsed": true
   },
   "outputs": [],
   "source": [
    "import numpy as np\n",
    "import scipy as sp\n",
    "import pandas as pd\n",
    "import seaborn as sns\n",
    "import matplotlib.pyplot as plt"
   ]
  },
  {
   "cell_type": "markdown",
   "metadata": {},
   "source": [
    "# Loading data"
   ]
  },
  {
   "cell_type": "code",
   "execution_count": 2,
   "metadata": {
    "collapsed": true
   },
   "outputs": [],
   "source": [
    "from sklearn.model_selection import train_test_split\n",
    "\n",
    "def load_data(filename):\n",
    "    data_df = pd.read_csv(filename)\n",
    "    print(\"Data shape: %d x %d\" % (data_df.shape))\n",
    "    \n",
    "    # target variable\n",
    "    y = data_df['processingTime']\n",
    "    \n",
    "    # drop some variables\n",
    "    X = data_df.drop(['protein', 'processingTime', 'resultSize'], axis=1)\n",
    "    \n",
    "    return (X, y)"
   ]
  },
  {
   "cell_type": "code",
   "execution_count": 3,
   "metadata": {
    "collapsed": false
   },
   "outputs": [
    {
     "name": "stdout",
     "output_type": "stream",
     "text": [
      "Data shape: 753 x 7\n"
     ]
    }
   ],
   "source": [
    "X, y = load_data('whole.csv')\n",
    "\n",
    "X_train, X_test, y_train, y_test = train_test_split(X, y, train_size=0.75, random_state=0)"
   ]
  },
  {
   "cell_type": "code",
   "execution_count": 4,
   "metadata": {
    "collapsed": false
   },
   "outputs": [
    {
     "data": {
      "text/html": [
       "<div>\n",
       "<style>\n",
       "    .dataframe thead tr:only-child th {\n",
       "        text-align: right;\n",
       "    }\n",
       "\n",
       "    .dataframe thead th {\n",
       "        text-align: left;\n",
       "    }\n",
       "\n",
       "    .dataframe tbody tr th {\n",
       "        vertical-align: top;\n",
       "    }\n",
       "</style>\n",
       "<table border=\"1\" class=\"dataframe\">\n",
       "  <thead>\n",
       "    <tr style=\"text-align: right;\">\n",
       "      <th></th>\n",
       "      <th>chainSize</th>\n",
       "      <th>population</th>\n",
       "      <th>generations</th>\n",
       "      <th>machineType</th>\n",
       "    </tr>\n",
       "  </thead>\n",
       "  <tbody>\n",
       "    <tr>\n",
       "      <th>627</th>\n",
       "      <td>38</td>\n",
       "      <td>200</td>\n",
       "      <td>350</td>\n",
       "      <td>Cluster</td>\n",
       "    </tr>\n",
       "    <tr>\n",
       "      <th>35</th>\n",
       "      <td>12</td>\n",
       "      <td>100</td>\n",
       "      <td>300</td>\n",
       "      <td>Cluster</td>\n",
       "    </tr>\n",
       "    <tr>\n",
       "      <th>458</th>\n",
       "      <td>100</td>\n",
       "      <td>200</td>\n",
       "      <td>400</td>\n",
       "      <td>Cloud</td>\n",
       "    </tr>\n",
       "    <tr>\n",
       "      <th>241</th>\n",
       "      <td>36</td>\n",
       "      <td>100</td>\n",
       "      <td>400</td>\n",
       "      <td>Local</td>\n",
       "    </tr>\n",
       "    <tr>\n",
       "      <th>400</th>\n",
       "      <td>100</td>\n",
       "      <td>100</td>\n",
       "      <td>300</td>\n",
       "      <td>Local</td>\n",
       "    </tr>\n",
       "  </tbody>\n",
       "</table>\n",
       "</div>"
      ],
      "text/plain": [
       "     chainSize  population  generations machineType\n",
       "627         38         200          350     Cluster\n",
       "35          12         100          300     Cluster\n",
       "458        100         200          400       Cloud\n",
       "241         36         100          400       Local\n",
       "400        100         100          300       Local"
      ]
     },
     "execution_count": 4,
     "metadata": {},
     "output_type": "execute_result"
    }
   ],
   "source": [
    "X_train.head()"
   ]
  },
  {
   "cell_type": "code",
   "execution_count": 5,
   "metadata": {
    "collapsed": false
   },
   "outputs": [
    {
     "data": {
      "text/plain": [
       "627    276.0833\n",
       "35      41.5043\n",
       "458    979.0801\n",
       "241    173.4608\n",
       "400    677.2027\n",
       "Name: processingTime, dtype: float64"
      ]
     },
     "execution_count": 5,
     "metadata": {},
     "output_type": "execute_result"
    }
   ],
   "source": [
    "y_train.head()"
   ]
  },
  {
   "cell_type": "code",
   "execution_count": 6,
   "metadata": {
    "collapsed": false
   },
   "outputs": [
    {
     "data": {
      "text/html": [
       "<div>\n",
       "<table border=\"1\" class=\"dataframe\">\n",
       "  <thead>\n",
       "    <tr style=\"text-align: right;\">\n",
       "      <th></th>\n",
       "      <th>chainSize</th>\n",
       "      <th>population</th>\n",
       "      <th>generations</th>\n",
       "      <th>machineType</th>\n",
       "    </tr>\n",
       "  </thead>\n",
       "  <tbody>\n",
       "    <tr>\n",
       "      <th>648</th>\n",
       "      <td>50</td>\n",
       "      <td>20</td>\n",
       "      <td>20</td>\n",
       "      <td>Local</td>\n",
       "    </tr>\n",
       "    <tr>\n",
       "      <th>711</th>\n",
       "      <td>150</td>\n",
       "      <td>50</td>\n",
       "      <td>90</td>\n",
       "      <td>Cluster</td>\n",
       "    </tr>\n",
       "    <tr>\n",
       "      <th>404</th>\n",
       "      <td>100</td>\n",
       "      <td>100</td>\n",
       "      <td>300</td>\n",
       "      <td>Cluster</td>\n",
       "    </tr>\n",
       "    <tr>\n",
       "      <th>79</th>\n",
       "      <td>12</td>\n",
       "      <td>200</td>\n",
       "      <td>400</td>\n",
       "      <td>Cloud</td>\n",
       "    </tr>\n",
       "    <tr>\n",
       "      <th>422</th>\n",
       "      <td>100</td>\n",
       "      <td>100</td>\n",
       "      <td>400</td>\n",
       "      <td>Cluster</td>\n",
       "    </tr>\n",
       "  </tbody>\n",
       "</table>\n",
       "</div>"
      ],
      "text/plain": [
       "     chainSize  population  generations machineType\n",
       "648         50          20           20       Local\n",
       "711        150          50           90     Cluster\n",
       "404        100         100          300     Cluster\n",
       "79          12         200          400       Cloud\n",
       "422        100         100          400     Cluster"
      ]
     },
     "execution_count": 6,
     "metadata": {},
     "output_type": "execute_result"
    }
   ],
   "source": [
    "X_test.head()"
   ]
  },
  {
   "cell_type": "markdown",
   "metadata": {},
   "source": [
    "# Data transformation"
   ]
  },
  {
   "cell_type": "code",
   "execution_count": 7,
   "metadata": {
    "collapsed": false
   },
   "outputs": [],
   "source": [
    "categorical_features = X_train.select_dtypes(include=['object']).columns\n",
    "numerical_features = X_train.select_dtypes(exclude=['object']).columns"
   ]
  },
  {
   "cell_type": "markdown",
   "metadata": {},
   "source": [
    "## Categorical variables to numeric"
   ]
  },
  {
   "cell_type": "code",
   "execution_count": 8,
   "metadata": {
    "collapsed": false
   },
   "outputs": [],
   "source": [
    "from sklearn.preprocessing import LabelEncoder\n",
    "\n",
    "def categorical_to_numerical(X_train, X_test):\n",
    "    label_enc = LabelEncoder()\n",
    "\n",
    "    X_train.loc[:, 'machineType'] = label_enc.fit_transform(X_train['machineType'])\n",
    "    X_test.loc[:, 'machineType'] = label_enc.transform(X_test['machineType'])"
   ]
  },
  {
   "cell_type": "code",
   "execution_count": 9,
   "metadata": {
    "collapsed": false
   },
   "outputs": [
    {
     "name": "stderr",
     "output_type": "stream",
     "text": [
      "/home/fausto/.local/lib/python2.7/site-packages/pandas/core/indexing.py:477: SettingWithCopyWarning: \n",
      "A value is trying to be set on a copy of a slice from a DataFrame.\n",
      "Try using .loc[row_indexer,col_indexer] = value instead\n",
      "\n",
      "See the caveats in the documentation: http://pandas.pydata.org/pandas-docs/stable/indexing.html#indexing-view-versus-copy\n",
      "  self.obj[item] = s\n"
     ]
    }
   ],
   "source": [
    "categorical_to_numerical(X_train, X_test)"
   ]
  },
  {
   "cell_type": "code",
   "execution_count": 10,
   "metadata": {
    "collapsed": false
   },
   "outputs": [
    {
     "data": {
      "text/html": [
       "<div>\n",
       "<table border=\"1\" class=\"dataframe\">\n",
       "  <thead>\n",
       "    <tr style=\"text-align: right;\">\n",
       "      <th></th>\n",
       "      <th>chainSize</th>\n",
       "      <th>population</th>\n",
       "      <th>generations</th>\n",
       "      <th>machineType</th>\n",
       "    </tr>\n",
       "  </thead>\n",
       "  <tbody>\n",
       "    <tr>\n",
       "      <th>627</th>\n",
       "      <td>38</td>\n",
       "      <td>200</td>\n",
       "      <td>350</td>\n",
       "      <td>1</td>\n",
       "    </tr>\n",
       "    <tr>\n",
       "      <th>35</th>\n",
       "      <td>12</td>\n",
       "      <td>100</td>\n",
       "      <td>300</td>\n",
       "      <td>1</td>\n",
       "    </tr>\n",
       "    <tr>\n",
       "      <th>458</th>\n",
       "      <td>100</td>\n",
       "      <td>200</td>\n",
       "      <td>400</td>\n",
       "      <td>0</td>\n",
       "    </tr>\n",
       "    <tr>\n",
       "      <th>241</th>\n",
       "      <td>36</td>\n",
       "      <td>100</td>\n",
       "      <td>400</td>\n",
       "      <td>2</td>\n",
       "    </tr>\n",
       "    <tr>\n",
       "      <th>400</th>\n",
       "      <td>100</td>\n",
       "      <td>100</td>\n",
       "      <td>300</td>\n",
       "      <td>2</td>\n",
       "    </tr>\n",
       "  </tbody>\n",
       "</table>\n",
       "</div>"
      ],
      "text/plain": [
       "     chainSize  population  generations  machineType\n",
       "627         38         200          350            1\n",
       "35          12         100          300            1\n",
       "458        100         200          400            0\n",
       "241         36         100          400            2\n",
       "400        100         100          300            2"
      ]
     },
     "execution_count": 10,
     "metadata": {},
     "output_type": "execute_result"
    }
   ],
   "source": [
    "X_train.head()"
   ]
  },
  {
   "cell_type": "markdown",
   "metadata": {},
   "source": [
    "## Transforming skewed data"
   ]
  },
  {
   "cell_type": "code",
   "execution_count": 11,
   "metadata": {
    "collapsed": true
   },
   "outputs": [],
   "source": [
    "def feature_log(X_train, X_test, all_features=False, thresh=0.75):\n",
    "    if not all_features:\n",
    "        skewed_features = (X_train.apply(sp.stats.skew, axis=0) > thresh)\n",
    "        X_train.loc[:, skewed_features] = np.log1p( X_train.loc[:, skewed_features] )\n",
    "        X_test.loc[:, skewed_features] = np.log1p( X_test.loc[:, skewed_features] )\n",
    "    else:\n",
    "        X_train = np.log1p(X_train)\n",
    "        X_test = np.log1p(X_test)"
   ]
  },
  {
   "cell_type": "code",
   "execution_count": 12,
   "metadata": {
    "collapsed": false
   },
   "outputs": [],
   "source": [
    "X_train_log, X_test_log = X_train.copy(), X_test.copy()\n",
    "\n",
    "feature_log(X_train_log, X_test_log, thresh=0.5)"
   ]
  },
  {
   "cell_type": "code",
   "execution_count": 13,
   "metadata": {
    "collapsed": false
   },
   "outputs": [
    {
     "data": {
      "text/html": [
       "<div>\n",
       "<table border=\"1\" class=\"dataframe\">\n",
       "  <thead>\n",
       "    <tr style=\"text-align: right;\">\n",
       "      <th></th>\n",
       "      <th>chainSize</th>\n",
       "      <th>population</th>\n",
       "      <th>generations</th>\n",
       "      <th>machineType</th>\n",
       "    </tr>\n",
       "  </thead>\n",
       "  <tbody>\n",
       "    <tr>\n",
       "      <th>627</th>\n",
       "      <td>3.663562</td>\n",
       "      <td>200</td>\n",
       "      <td>5.860786</td>\n",
       "      <td>1</td>\n",
       "    </tr>\n",
       "    <tr>\n",
       "      <th>35</th>\n",
       "      <td>2.564949</td>\n",
       "      <td>100</td>\n",
       "      <td>5.707110</td>\n",
       "      <td>1</td>\n",
       "    </tr>\n",
       "    <tr>\n",
       "      <th>458</th>\n",
       "      <td>4.615121</td>\n",
       "      <td>200</td>\n",
       "      <td>5.993961</td>\n",
       "      <td>0</td>\n",
       "    </tr>\n",
       "    <tr>\n",
       "      <th>241</th>\n",
       "      <td>3.610918</td>\n",
       "      <td>100</td>\n",
       "      <td>5.993961</td>\n",
       "      <td>2</td>\n",
       "    </tr>\n",
       "    <tr>\n",
       "      <th>400</th>\n",
       "      <td>4.615121</td>\n",
       "      <td>100</td>\n",
       "      <td>5.707110</td>\n",
       "      <td>2</td>\n",
       "    </tr>\n",
       "  </tbody>\n",
       "</table>\n",
       "</div>"
      ],
      "text/plain": [
       "     chainSize  population  generations  machineType\n",
       "627   3.663562         200     5.860786            1\n",
       "35    2.564949         100     5.707110            1\n",
       "458   4.615121         200     5.993961            0\n",
       "241   3.610918         100     5.993961            2\n",
       "400   4.615121         100     5.707110            2"
      ]
     },
     "execution_count": 13,
     "metadata": {},
     "output_type": "execute_result"
    }
   ],
   "source": [
    "X_train_log.head()"
   ]
  },
  {
   "cell_type": "markdown",
   "metadata": {},
   "source": [
    "## Scaling numerical variables\n",
    "Scaling data to mean=0 and standard deviation=1"
   ]
  },
  {
   "cell_type": "code",
   "execution_count": 14,
   "metadata": {
    "collapsed": true
   },
   "outputs": [],
   "source": [
    "from sklearn.preprocessing import StandardScaler\n",
    "\n",
    "def feature_scale(X_train, X_test, numerical_features):\n",
    "    std_scaler = StandardScaler()\n",
    "\n",
    "    X_train.loc[:, numerical_features] = std_scaler.fit_transform(X_train.loc[:, numerical_features])\n",
    "    X_test.loc[:, numerical_features] = std_scaler.transform(X_test.loc[:, numerical_features])"
   ]
  },
  {
   "cell_type": "code",
   "execution_count": 15,
   "metadata": {
    "collapsed": false
   },
   "outputs": [],
   "source": [
    "X_train_log_scaled, X_test_log_scaled = X_train_log.copy(), X_test_log.copy()\n",
    "X_train_scaled, X_test_scaled = X_train.copy(), X_test.copy()\n",
    "\n",
    "feature_scale(X_train_log_scaled, X_test_log_scaled, numerical_features)\n",
    "feature_scale(X_train_scaled, X_test_scaled, numerical_features)"
   ]
  },
  {
   "cell_type": "code",
   "execution_count": 16,
   "metadata": {
    "collapsed": false
   },
   "outputs": [
    {
     "data": {
      "text/html": [
       "<div>\n",
       "<table border=\"1\" class=\"dataframe\">\n",
       "  <thead>\n",
       "    <tr style=\"text-align: right;\">\n",
       "      <th></th>\n",
       "      <th>chainSize</th>\n",
       "      <th>population</th>\n",
       "      <th>generations</th>\n",
       "      <th>machineType</th>\n",
       "    </tr>\n",
       "  </thead>\n",
       "  <tbody>\n",
       "    <tr>\n",
       "      <th>627</th>\n",
       "      <td>-0.057895</td>\n",
       "      <td>0.319709</td>\n",
       "      <td>0.018296</td>\n",
       "      <td>1</td>\n",
       "    </tr>\n",
       "    <tr>\n",
       "      <th>35</th>\n",
       "      <td>-1.269644</td>\n",
       "      <td>-0.707088</td>\n",
       "      <td>-0.131537</td>\n",
       "      <td>1</td>\n",
       "    </tr>\n",
       "    <tr>\n",
       "      <th>458</th>\n",
       "      <td>0.991657</td>\n",
       "      <td>0.319709</td>\n",
       "      <td>0.148142</td>\n",
       "      <td>0</td>\n",
       "    </tr>\n",
       "    <tr>\n",
       "      <th>241</th>\n",
       "      <td>-0.115960</td>\n",
       "      <td>-0.707088</td>\n",
       "      <td>0.148142</td>\n",
       "      <td>2</td>\n",
       "    </tr>\n",
       "    <tr>\n",
       "      <th>400</th>\n",
       "      <td>0.991657</td>\n",
       "      <td>-0.707088</td>\n",
       "      <td>-0.131537</td>\n",
       "      <td>2</td>\n",
       "    </tr>\n",
       "  </tbody>\n",
       "</table>\n",
       "</div>"
      ],
      "text/plain": [
       "     chainSize  population  generations  machineType\n",
       "627  -0.057895    0.319709     0.018296            1\n",
       "35   -1.269644   -0.707088    -0.131537            1\n",
       "458   0.991657    0.319709     0.148142            0\n",
       "241  -0.115960   -0.707088     0.148142            2\n",
       "400   0.991657   -0.707088    -0.131537            2"
      ]
     },
     "execution_count": 16,
     "metadata": {},
     "output_type": "execute_result"
    }
   ],
   "source": [
    "X_train_log_scaled.head()"
   ]
  },
  {
   "cell_type": "markdown",
   "metadata": {},
   "source": [
    "# Scoring"
   ]
  },
  {
   "cell_type": "code",
   "execution_count": 17,
   "metadata": {
    "collapsed": true
   },
   "outputs": [],
   "source": [
    "from sklearn.metrics import r2_score, mean_squared_error\n",
    "\n",
    "def regr_scoring(regr, X_test, y_test):\n",
    "    y_true, y_pred = y_test, regr.predict(X_test)\n",
    "    \n",
    "    # R^2 score: higher (1), better\n",
    "    print(\"R^2 score on new data: %f\" % r2_score(y_true, y_pred))\n",
    "    \n",
    "    # RMSE score: lesser (0), better\n",
    "    print(\"RMSE on new data: %f\" % np.sqrt(mean_squared_error(y_true, y_pred)))\n",
    "    \n",
    "    plt.plot(y_pred, y_true, 'o')\n",
    "    plt.xlabel('Predicted value')\n",
    "    plt.ylabel('Expected value')\n",
    "    #plt.plot([0, 10000], [0, 10000], 'k-')\n",
    "    plt.show()"
   ]
  },
  {
   "cell_type": "markdown",
   "metadata": {},
   "source": [
    "# Linear models\n",
    "First we will try some linear regressions, in attempt to fit a linear model to the data."
   ]
  },
  {
   "cell_type": "markdown",
   "metadata": {},
   "source": [
    "## Linear regression"
   ]
  },
  {
   "cell_type": "code",
   "execution_count": 18,
   "metadata": {
    "collapsed": false
   },
   "outputs": [],
   "source": [
    "from sklearn.linear_model import LinearRegression\n",
    "\n",
    "def linear_regression(X_train, X_test, y_train, y_test):\n",
    "    lr = LinearRegression()\n",
    "    \n",
    "    lr.fit(X_train, y_train)\n",
    "    \n",
    "    regr_scoring(lr, X_test, y_test)"
   ]
  },
  {
   "cell_type": "code",
   "execution_count": 19,
   "metadata": {
    "collapsed": false
   },
   "outputs": [
    {
     "name": "stdout",
     "output_type": "stream",
     "text": [
      "===== Raw data:\n",
      "R^2 score on new data: 0.478490\n",
      "RMSE on new data: 932.721890\n"
     ]
    },
    {
     "data": {
      "image/png": "[encoded data removed]",
      "text/plain": [
       "<matplotlib.figure.Figure at 0x7fe904144650>"
      ]
     },
     "metadata": {},
     "output_type": "display_data"
    }
   ],
   "source": [
    "print('===== Raw data:')\n",
    "linear_regression(X_train, X_test, y_train, y_test)"
   ]
  },
  {
   "cell_type": "code",
   "execution_count": 20,
   "metadata": {
    "collapsed": false
   },
   "outputs": [
    {
     "name": "stdout",
     "output_type": "stream",
     "text": [
      "===== Scaled data:\n",
      "R^2 score on new data: 0.478490\n",
      "RMSE on new data: 932.721890\n"
     ]
    },
    {
     "data": {
      "image/png": "[encoded data removed]",
      "text/plain": [
       "<matplotlib.figure.Figure at 0x7fe904144a10>"
      ]
     },
     "metadata": {},
     "output_type": "display_data"
    }
   ],
   "source": [
    "print('===== Scaled data:')\n",
    "linear_regression(X_train_scaled, X_test_scaled, y_train, y_test)"
   ]
  },
  {
   "cell_type": "code",
   "execution_count": 20,
   "metadata": {
    "collapsed": false
   },
   "outputs": [
    {
     "name": "stdout",
     "output_type": "stream",
     "text": [
      "===== Log1p data:\n",
      "R^2 score on new data: 0.534667\n",
      "RMSE on new data: 881.054495\n"
     ]
    }
   ],
   "source": [
    "print('===== Log1p data:')\n",
    "linear_regression(X_train_log, X_test_log, y_train, y_test)"
   ]
  },
  {
   "cell_type": "code",
   "execution_count": 21,
   "metadata": {
    "collapsed": false
   },
   "outputs": [
    {
     "name": "stdout",
     "output_type": "stream",
     "text": [
      "===== Log1p scaled data:\n",
      "R^2 score on new data: 0.534667\n",
      "RMSE on new data: 881.054495\n"
     ]
    },
    {
     "data": {
      "image/png": "[encoded data removed]",
      "text/plain": [
       "<matplotlib.figure.Figure at 0x7fe900252790>"
      ]
     },
     "metadata": {},
     "output_type": "display_data"
    }
   ],
   "source": [
    "print('===== Log1p scaled data:')\n",
    "linear_regression(X_train_log_scaled, X_test_log_scaled, y_train, y_test)"
   ]
  },
  {
   "cell_type": "markdown",
   "metadata": {},
   "source": [
    "## Lasso linear model (with L1 penalty)"
   ]
  },
  {
   "cell_type": "code",
   "execution_count": 23,
   "metadata": {
    "collapsed": true
   },
   "outputs": [],
   "source": [
    "from sklearn.linear_model import LassoCV, Lasso\n",
    "\n",
    "def lasso_fit(X_train, X_test, y_train, y_test):\n",
    "    alphas = [0.000001, 0.000003, 0.000006, 0.00001, 0.00003, 0.00006, 0.0001, 0.0003, 0.0006,\n",
    "              0.001, 0.003, 0.006, 0.01, 0.03, 0.06, 0.1, 0.3, 1.0, 3.0, 6.0, 10, 30, 60, 100, 300, 600]\n",
    "    \n",
    "    lasso_cv = LassoCV(alphas=alphas)\n",
    "    lasso_cv.fit(X_train, y_train)\n",
    "    \n",
    "    print(\"# Obtained alpha on 1st round: %f\" % lasso_cv.alpha_)\n",
    "    \n",
    "    alphas = np.linspace(0.6, 3.0, num=30) * lasso_cv.alpha_\n",
    "    \n",
    "    lasso_cv = LassoCV(alphas=alphas)\n",
    "    lasso_cv.fit(X_train, y_train)\n",
    "    \n",
    "    print(\"# Obtained alpha on 2nd round: %f\" % lasso_cv.alpha_)\n",
    "    \n",
    "    lasso = Lasso(alpha=lasso_cv.alpha_)\n",
    "    lasso.fit(X_train, y_train)\n",
    "    \n",
    "    regr_scoring(lasso, X_test, y_test)"
   ]
  },
  {
   "cell_type": "code",
   "execution_count": 24,
   "metadata": {
    "collapsed": false
   },
   "outputs": [
    {
     "name": "stdout",
     "output_type": "stream",
     "text": [
      "# Obtained alpha on 1st round: 300.000000\n",
      "# Obtained alpha on 2nd round: 353.793103\n",
      "R^2 score on new data: 0.480703\n",
      "RMSE on new data: 930.741469\n"
     ]
    },
    {
     "data": {
      "image/png": "[encoded data removed]",
      "text/plain": [
       "<matplotlib.figure.Figure at 0x7fe900206d50>"
      ]
     },
     "metadata": {},
     "output_type": "display_data"
    }
   ],
   "source": [
    "lasso_fit(X_train, X_test, y_train, y_test)"
   ]
  },
  {
   "cell_type": "code",
   "execution_count": 25,
   "metadata": {
    "collapsed": false
   },
   "outputs": [
    {
     "name": "stdout",
     "output_type": "stream",
     "text": [
      "# Obtained alpha on 1st round: 30.000000\n",
      "# Obtained alpha on 2nd round: 40.344828\n",
      "R^2 score on new data: 0.492164\n",
      "RMSE on new data: 920.413052\n"
     ]
    },
    {
     "data": {
      "image/png": "[encoded data removed]",
      "text/plain": [
       "<matplotlib.figure.Figure at 0x7fe9001fdf90>"
      ]
     },
     "metadata": {},
     "output_type": "display_data"
    }
   ],
   "source": [
    "lasso_fit(X_train_scaled, X_test_scaled, y_train, y_test)"
   ]
  },
  {
   "cell_type": "code",
   "execution_count": 26,
   "metadata": {
    "collapsed": false
   },
   "outputs": [
    {
     "name": "stdout",
     "output_type": "stream",
     "text": [
      "# Obtained alpha on 1st round: 0.100000\n",
      "# Obtained alpha on 2nd round: 0.208966\n",
      "R^2 score on new data: 0.534818\n",
      "RMSE on new data: 880.912078\n"
     ]
    },
    {
     "data": {
      "image/png": "[encoded data removed]",
      "text/plain": [
       "<matplotlib.figure.Figure at 0x7fe8fffdc850>"
      ]
     },
     "metadata": {},
     "output_type": "display_data"
    }
   ],
   "source": [
    "lasso_fit(X_train_log, X_test_log, y_train, y_test)"
   ]
  },
  {
   "cell_type": "code",
   "execution_count": 27,
   "metadata": {
    "collapsed": false
   },
   "outputs": [
    {
     "name": "stdout",
     "output_type": "stream",
     "text": [
      "# Obtained alpha on 1st round: 1.000000\n",
      "# Obtained alpha on 2nd round: 1.344828\n",
      "R^2 score on new data: 0.535445\n",
      "RMSE on new data: 880.317823\n"
     ]
    },
    {
     "data": {
      "image/png": "[encoded data removed]",
      "text/plain": [
       "<matplotlib.figure.Figure at 0x7fe8fff1b650>"
      ]
     },
     "metadata": {},
     "output_type": "display_data"
    }
   ],
   "source": [
    "lasso_fit(X_train_log_scaled, X_test_log_scaled, y_train, y_test)"
   ]
  },
  {
   "cell_type": "markdown",
   "metadata": {},
   "source": [
    "## Ridge regression (with L2 penalty)"
   ]
  },
  {
   "cell_type": "code",
   "execution_count": 28,
   "metadata": {
    "collapsed": true
   },
   "outputs": [],
   "source": [
    "from sklearn.linear_model import RidgeCV, Ridge\n",
    "\n",
    "def ridge_fit(X_train, X_test, y_train, y_test):\n",
    "    alphas = [0.0001, 0.0003, 0.0006, 0.001, 0.003, 0.006, 0.01, 0.03, 0.06, 0.1, 0.3,\n",
    "              1.0, 3.0, 6.0, 10, 30, 60, 100, 300, 600]\n",
    "    \n",
    "    ridge_cv = RidgeCV(alphas=alphas)\n",
    "    ridge_cv.fit(X_train, y_train)\n",
    "    \n",
    "    print(\"# Obtained alpha on 1st round: %f\" % ridge_cv.alpha_)\n",
    "    \n",
    "    alphas = np.linspace(0.6, 3.0, num=30) * ridge_cv.alpha_\n",
    "    \n",
    "    ridge_cv = RidgeCV(alphas=alphas)\n",
    "    ridge_cv.fit(X_train, y_train)\n",
    "    \n",
    "    print(\"# Obtained alpha on 2nd round: %f\" % ridge_cv.alpha_)\n",
    "    \n",
    "    ridge = Ridge(alpha=ridge_cv.alpha_)\n",
    "    ridge.fit(X_train, y_train)\n",
    "    \n",
    "    regr_scoring(ridge, X_test, y_test)"
   ]
  },
  {
   "cell_type": "code",
   "execution_count": 29,
   "metadata": {
    "collapsed": false
   },
   "outputs": [
    {
     "name": "stdout",
     "output_type": "stream",
     "text": [
      "# Obtained alpha on 1st round: 600.000000\n",
      "# Obtained alpha on 2nd round: 1800.000000\n",
      "R^2 score on new data: 0.479821\n",
      "RMSE on new data: 931.531226\n"
     ]
    },
    {
     "data": {
      "image/png": "[encoded data removed]",
      "text/plain": [
       "<matplotlib.figure.Figure at 0x7fe8fff86090>"
      ]
     },
     "metadata": {},
     "output_type": "display_data"
    }
   ],
   "source": [
    "ridge_fit(X_train, X_test, y_train, y_test)"
   ]
  },
  {
   "cell_type": "code",
   "execution_count": 30,
   "metadata": {
    "collapsed": false
   },
   "outputs": [
    {
     "name": "stdout",
     "output_type": "stream",
     "text": [
      "# Obtained alpha on 1st round: 10.000000\n",
      "# Obtained alpha on 2nd round: 16.758621\n",
      "R^2 score on new data: 0.487374\n",
      "RMSE on new data: 924.743987\n"
     ]
    },
    {
     "data": {
      "image/png": "[encoded data removed]",
      "text/plain": [
       "<matplotlib.figure.Figure at 0x7fe8ffec1690>"
      ]
     },
     "metadata": {},
     "output_type": "display_data"
    }
   ],
   "source": [
    "ridge_fit(X_train_scaled, X_test_scaled, y_train, y_test)"
   ]
  },
  {
   "cell_type": "code",
   "execution_count": 31,
   "metadata": {
    "collapsed": false
   },
   "outputs": [
    {
     "name": "stdout",
     "output_type": "stream",
     "text": [
      "# Obtained alpha on 1st round: 10.000000\n",
      "# Obtained alpha on 2nd round: 8.482759\n",
      "R^2 score on new data: 0.540378\n",
      "RMSE on new data: 875.631975\n"
     ]
    },
    {
     "data": {
      "image/png": "[encoded data removed]",
      "text/plain": [
       "<matplotlib.figure.Figure at 0x7fe8fff9b0d0>"
      ]
     },
     "metadata": {},
     "output_type": "display_data"
    }
   ],
   "source": [
    "ridge_fit(X_train_log, X_test_log, y_train, y_test)"
   ]
  },
  {
   "cell_type": "code",
   "execution_count": 32,
   "metadata": {
    "collapsed": false
   },
   "outputs": [
    {
     "name": "stdout",
     "output_type": "stream",
     "text": [
      "# Obtained alpha on 1st round: 10.000000\n",
      "# Obtained alpha on 2nd round: 12.620690\n",
      "R^2 score on new data: 0.540576\n",
      "RMSE on new data: 875.442741\n"
     ]
    },
    {
     "data": {
      "image/png": "[encoded data removed]",
      "text/plain": [
       "<matplotlib.figure.Figure at 0x7fe8fff9b590>"
      ]
     },
     "metadata": {},
     "output_type": "display_data"
    }
   ],
   "source": [
    "ridge_fit(X_train_log_scaled, X_test_log_scaled, y_train, y_test)"
   ]
  },
  {
   "cell_type": "markdown",
   "metadata": {},
   "source": [
    "## Partial results\n",
    "Linear models obtained unsatisfatory results. So, we will try some nonlinear models."
   ]
  },
  {
   "cell_type": "markdown",
   "metadata": {},
   "source": [
    "# SVM\n",
    "As linear models obtained "
   ]
  },
  {
   "cell_type": "code",
   "execution_count": 33,
   "metadata": {
    "collapsed": true
   },
   "outputs": [],
   "source": [
    "from sklearn.svm import SVR\n",
    "from sklearn.model_selection import GridSearchCV\n",
    "\n",
    "def svm_fit(X_train, X_test, y_train, y_test):\n",
    "    svm = SVR(kernel='rbf')\n",
    "    \n",
    "    params = { 'C': [1, 10, 1e2, 1e3, 1e4, 1e5, 1e6] }\n",
    "\n",
    "    gsearch = GridSearchCV(svm, param_grid=params, cv=4, verbose=0, n_jobs=2)\n",
    "    gsearch.fit(X_train, y_train)\n",
    "    \n",
    "    print(\"Best parameters set found on development set:\")\n",
    "    print(gsearch.best_params_)\n",
    "    \n",
    "    print(\"Grid scores on development set:\")\n",
    "    means = gsearch.cv_results_['mean_test_score']\n",
    "    stds = gsearch.cv_results_['std_test_score']\n",
    "    for mean, std, params in zip(means, stds, gsearch.cv_results_['params']):\n",
    "        print(\"%0.3f (+/-%0.03f) for %r\" % (mean, std * 2, params))\n",
    "        \n",
    "    regr_scoring(gsearch, X_test, y_test)"
   ]
  },
  {
   "cell_type": "code",
   "execution_count": 34,
   "metadata": {
    "collapsed": false
   },
   "outputs": [
    {
     "name": "stdout",
     "output_type": "stream",
     "text": [
      "Best parameters set found on development set:\n",
      "{'C': 1000000.0}\n",
      "Grid scores on development set:\n",
      "-0.129 (+/-0.062) for {'C': 1}\n",
      "-0.075 (+/-0.042) for {'C': 10}\n",
      "0.239 (+/-0.176) for {'C': 100.0}\n",
      "0.757 (+/-0.307) for {'C': 1000.0}\n",
      "0.817 (+/-0.202) for {'C': 10000.0}\n",
      "0.921 (+/-0.124) for {'C': 100000.0}\n",
      "0.921 (+/-0.124) for {'C': 1000000.0}\n",
      "R^2 score on new data: 0.981717\n",
      "RMSE on new data: 174.638561\n"
     ]
    },
    {
     "data": {
      "image/png": "[encoded data removed]",
      "text/plain": [
       "<matplotlib.figure.Figure at 0x7fe93e836c10>"
      ]
     },
     "metadata": {},
     "output_type": "display_data"
    }
   ],
   "source": [
    "svm_fit(X_train, X_test, y_train, y_test)"
   ]
  },
  {
   "cell_type": "code",
   "execution_count": 35,
   "metadata": {
    "collapsed": false
   },
   "outputs": [
    {
     "name": "stdout",
     "output_type": "stream",
     "text": [
      "Best parameters set found on development set:\n",
      "{'C': 1000000.0}\n",
      "Grid scores on development set:\n",
      "-0.109 (+/-0.053) for {'C': 1}\n",
      "0.078 (+/-0.103) for {'C': 10}\n",
      "0.511 (+/-0.310) for {'C': 100.0}\n",
      "0.797 (+/-0.309) for {'C': 1000.0}\n",
      "0.865 (+/-0.235) for {'C': 10000.0}\n",
      "0.945 (+/-0.059) for {'C': 100000.0}\n",
      "0.959 (+/-0.065) for {'C': 1000000.0}\n",
      "R^2 score on new data: 0.997020\n",
      "RMSE on new data: 70.505679\n"
     ]
    },
    {
     "data": {
      "image/png": "[encoded data removed]",
      "text/plain": [
       "<matplotlib.figure.Figure at 0x7fe9048c29d0>"
      ]
     },
     "metadata": {},
     "output_type": "display_data"
    }
   ],
   "source": [
    "svm_fit(X_train_scaled, X_test_scaled, y_train, y_test)"
   ]
  },
  {
   "cell_type": "code",
   "execution_count": 36,
   "metadata": {
    "collapsed": false
   },
   "outputs": [
    {
     "name": "stdout",
     "output_type": "stream",
     "text": [
      "Best parameters set found on development set:\n",
      "{'C': 1000000.0}\n",
      "Grid scores on development set:\n",
      "-0.115 (+/-0.055) for {'C': 1}\n",
      "0.059 (+/-0.100) for {'C': 10}\n",
      "0.527 (+/-0.303) for {'C': 100.0}\n",
      "0.740 (+/-0.331) for {'C': 1000.0}\n",
      "0.864 (+/-0.204) for {'C': 10000.0}\n",
      "0.908 (+/-0.096) for {'C': 100000.0}\n",
      "0.949 (+/-0.032) for {'C': 1000000.0}\n",
      "R^2 score on new data: 0.941480\n",
      "RMSE on new data: 312.445727\n"
     ]
    },
    {
     "data": {
      "image/png": "[encoded data removed]",
      "text/plain": [
       "<matplotlib.figure.Figure at 0x7fe900231910>"
      ]
     },
     "metadata": {},
     "output_type": "display_data"
    }
   ],
   "source": [
    "svm_fit(X_train_log, X_test_log, y_train, y_test)"
   ]
  },
  {
   "cell_type": "code",
   "execution_count": 37,
   "metadata": {
    "collapsed": false
   },
   "outputs": [
    {
     "name": "stdout",
     "output_type": "stream",
     "text": [
      "Best parameters set found on development set:\n",
      "{'C': 1000000.0}\n",
      "Grid scores on development set:\n",
      "-0.098 (+/-0.046) for {'C': 1}\n",
      "0.142 (+/-0.142) for {'C': 10}\n",
      "0.511 (+/-0.300) for {'C': 100.0}\n",
      "0.776 (+/-0.321) for {'C': 1000.0}\n",
      "0.874 (+/-0.214) for {'C': 10000.0}\n",
      "0.918 (+/-0.096) for {'C': 100000.0}\n",
      "0.928 (+/-0.082) for {'C': 1000000.0}\n",
      "R^2 score on new data: 0.948519\n",
      "RMSE on new data: 293.050720\n"
     ]
    },
    {
     "data": {
      "image/png": "[encoded data removed]",
      "text/plain": [
       "<matplotlib.figure.Figure at 0x7fe8ffea1e10>"
      ]
     },
     "metadata": {},
     "output_type": "display_data"
    }
   ],
   "source": [
    "svm_fit(X_train_log_scaled, X_test_log_scaled, y_train, y_test)"
   ]
  }
 ],
 "metadata": {
  "kernelspec": {
   "display_name": "Python 2",
   "language": "python",
   "name": "python2"
  },
  "language_info": {
   "codemirror_mode": {
    "name": "ipython",
    "version": 2
   },
   "file_extension": ".py",
   "mimetype": "text/x-python",
   "name": "python",
   "nbconvert_exporter": "python",
   "pygments_lexer": "ipython2",
   "version": "2.7.12"
  }
 },
 "nbformat": 4,
 "nbformat_minor": 2
}
