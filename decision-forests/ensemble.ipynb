{
 "cells": [
  {
   "cell_type": "code",
   "execution_count": 153,
   "metadata": {
    "collapsed": true
   },
   "outputs": [],
   "source": [
    "import numpy as np\n",
    "import scipy as sp\n",
    "import pandas as pd\n",
    "import matplotlib.pyplot as plt\n",
    "import seaborn as sns"
   ]
  },
  {
   "cell_type": "code",
   "execution_count": 154,
   "metadata": {
    "collapsed": true
   },
   "outputs": [],
   "source": [
    "from sklearn.ensemble import AdaBoostRegressor, RandomForestRegressor, ExtraTreesRegressor\n",
    "from sklearn.tree import DecisionTreeRegressor"
   ]
  },
  {
   "cell_type": "code",
   "execution_count": 155,
   "metadata": {
    "collapsed": true
   },
   "outputs": [],
   "source": [
    "def obtain_models_by_hyperopt_file(filename, model=None, score_col='score', k=1):\n",
    "    df = pd.read_csv(filename)\n",
    "    \n",
    "    scores = []\n",
    "    models = []\n",
    "\n",
    "    for row in rf_best_df.sort_values( by=score_col ).head( k ).iterrows():\n",
    "        score, max_depth, max_features, min_samples_leaf = row[1][['r2score', 'max_depth',\n",
    "                                                                   'max_features', 'min_samples_leaf']]\n",
    "        \n",
    "        model_obj = model(max_depth=int(max_depth),\n",
    "                          max_features=max_features,\n",
    "                          min_samples_leaf=int(min_samples_leaf))\n",
    "        \n",
    "        scores.append(score)\n",
    "        models.append(model_obj)\n",
    "    \n",
    "    return(zip(scores, models))"
   ]
  },
  {
   "cell_type": "code",
   "execution_count": 156,
   "metadata": {
    "collapsed": false
   },
   "outputs": [],
   "source": [
    "rf_models = obtain_models_by_hyperopt_file(\"/home/fausto/temp/hyperopt-rf.csv\",\n",
    "                                           model=RandomForestRegressor,\n",
    "                                           score_col='r2score', k=5)\n",
    "\n",
    "et_models = obtain_models_by_hyperopt_file(\"/home/fausto/temp/hyperopt-et.csv\",\n",
    "                                           model=ExtraTreesRegressor,\n",
    "                                           score_col='r2score', k=5)\n",
    "\n",
    "dt_models = obtain_models_by_hyperopt_file(\"/home/fausto/temp/hyperopt-ada.csv\",\n",
    "                                           model=DecisionTreeRegressor,\n",
    "                                           score_col='r2score', k=5)"
   ]
  },
  {
   "cell_type": "code",
   "execution_count": 157,
   "metadata": {
    "collapsed": false
   },
   "outputs": [],
   "source": [
    "ada_models = []\n",
    "\n",
    "for score, model_obj in dt_models:\n",
    "    ada = AdaBoostRegressor(base_estimator=model_obj, n_estimators=100)\n",
    "    \n",
    "    ada_models.append((score, ada))"
   ]
  },
  {
   "cell_type": "code",
   "execution_count": 158,
   "metadata": {
    "collapsed": true
   },
   "outputs": [],
   "source": [
    "for rf in rf_models:\n",
    "    rf[1].set_params(n_estimators=100)"
   ]
  },
  {
   "cell_type": "code",
   "execution_count": 159,
   "metadata": {
    "collapsed": true
   },
   "outputs": [],
   "source": [
    "for et in et_models:\n",
    "    et[1].set_params(n_estimators=100)"
   ]
  },
  {
   "cell_type": "code",
   "execution_count": 160,
   "metadata": {
    "collapsed": false
   },
   "outputs": [],
   "source": [
    "models = rf_models + et_models + ada_models"
   ]
  },
  {
   "cell_type": "code",
   "execution_count": 161,
   "metadata": {
    "collapsed": false
   },
   "outputs": [],
   "source": [
    "df = pd.read_csv('data/manipulated_train.csv')\n",
    "X = df.drop(['SalePrice'], axis=1)\n",
    "y = df['SalePrice']"
   ]
  },
  {
   "cell_type": "code",
   "execution_count": 162,
   "metadata": {
    "collapsed": false
   },
   "outputs": [],
   "source": [
    "for model in models:\n",
    "    model[1].fit(X, y)"
   ]
  },
  {
   "cell_type": "code",
   "execution_count": 182,
   "metadata": {
    "collapsed": false
   },
   "outputs": [],
   "source": [
    "df = pd.read_csv('data/manipulated_test.csv')\n",
    "submission_df = pd.DataFrame(df['Id'].copy())\n",
    "X_unseen = df.drop(['Id'], axis=1)"
   ]
  },
  {
   "cell_type": "code",
   "execution_count": 175,
   "metadata": {
    "collapsed": true
   },
   "outputs": [],
   "source": [
    "preds = None\n",
    "total_score = 0\n",
    "\n",
    "for model in models:\n",
    "    if preds is None:\n",
    "        preds = (1 - model[0]) * model[1].predict(X_unseen)\n",
    "    else:\n",
    "        preds += (1 - model[0]) * model[1].predict(X_unseen)\n",
    "        \n",
    "    total_score += 1 - model[0]"
   ]
  },
  {
   "cell_type": "code",
   "execution_count": 184,
   "metadata": {
    "collapsed": false
   },
   "outputs": [],
   "source": [
    "submission_df['SalePrice'] = preds / total_score"
   ]
  },
  {
   "cell_type": "code",
   "execution_count": 186,
   "metadata": {
    "collapsed": false
   },
   "outputs": [],
   "source": [
    "submission_df.to_csv('/tmp/submissions.csv', index=False)"
   ]
  }
 ],
 "metadata": {
  "kernelspec": {
   "display_name": "Python 2",
   "language": "python",
   "name": "python2"
  },
  "language_info": {
   "codemirror_mode": {
    "name": "ipython",
    "version": 2
   },
   "file_extension": ".py",
   "mimetype": "text/x-python",
   "name": "python",
   "nbconvert_exporter": "python",
   "pygments_lexer": "ipython2",
   "version": "2.7.12"
  }
 },
 "nbformat": 4,
 "nbformat_minor": 2
}
