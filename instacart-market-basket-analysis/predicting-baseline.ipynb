{
 "cells": [
  {
   "cell_type": "code",
   "execution_count": 1,
   "metadata": {
    "collapsed": true
   },
   "outputs": [],
   "source": [
    "import numpy as np\n",
    "import pandas as pd\n",
    "import lightgbm as lgb\n",
    "import matplotlib.pyplot as plt\n",
    "\n",
    "IDIR = 'data/'"
   ]
  },
  {
   "cell_type": "code",
   "execution_count": 2,
   "metadata": {
    "collapsed": false
   },
   "outputs": [
    {
     "name": "stdout",
     "output_type": "stream",
     "text": [
      "loading prior\n",
      "priors (32434489, 4): order_id, product_id, add_to_cart_order, reordered\n",
      "loading train\n",
      "train (1384617, 4): order_id, product_id, add_to_cart_order, reordered\n",
      "loading orders\n",
      "orders (3421083, 7): order_id, user_id, eval_set, order_number, order_dow, order_hour_of_day, days_since_prior_order\n",
      "loading products\n"
     ]
    }
   ],
   "source": [
    "print('loading prior')\n",
    "priors = pd.read_csv(IDIR + 'order_products__prior.csv',\n",
    "                     dtype={\n",
    "                         'order_id': np.int32,\n",
    "                         'product_id': np.uint16,\n",
    "                         'add_to_cart_order': np.int16,\n",
    "                         'reordered': np.int8})\n",
    "print('priors {}: {}'.format(priors.shape, ', '.join(priors.columns)))\n",
    "\n",
    "print('loading train')\n",
    "train = pd.read_csv(IDIR + 'order_products__train.csv',\n",
    "                    dtype={\n",
    "                        'order_id': np.int32,\n",
    "                        'product_id': np.uint16,\n",
    "                        'add_to_cart_order': np.int16,\n",
    "                        'reordered': np.int8})\n",
    "print('train {}: {}'.format(train.shape, ', '.join(train.columns)))\n",
    "\n",
    "print('loading orders')\n",
    "orders = pd.read_csv(IDIR + 'orders.csv',\n",
    "                     dtype={\n",
    "                         'order_id': np.int32,\n",
    "                         'user_id': np.int32,\n",
    "                         'eval_set': 'category',\n",
    "                         'order_number': np.int16,\n",
    "                         'order_dow': np.int8,\n",
    "                         'order_hour_of_day': np.int8,\n",
    "                         'days_since_prior_order': np.float32})\n",
    "print('orders {}: {}'.format(orders.shape, ', '.join(orders.columns)))\n",
    "\n",
    "print('loading products')\n",
    "products = pd.read_csv(IDIR + 'products.csv',\n",
    "                       dtype={\n",
    "                           'product_id': np.uint16,\n",
    "                           'order_id': np.int32,\n",
    "                           'aisle_id': np.uint8,\n",
    "                           'department_id': np.uint8},\n",
    "                       usecols=['product_id', 'aisle_id', 'department_id'])"
   ]
  },
  {
   "cell_type": "code",
   "execution_count": 3,
   "metadata": {
    "collapsed": false
   },
   "outputs": [
    {
     "name": "stdout",
     "output_type": "stream",
     "text": [
      "split orders : train, test\n"
     ]
    }
   ],
   "source": [
    "print('split orders : train, test')\n",
    "test_orders = orders[orders.eval_set == 'test']\n",
    "train_orders = orders[orders.eval_set == 'train']\n",
    "\n",
    "train.set_index(['order_id', 'product_id'], inplace=True, drop=False)"
   ]
  },
  {
   "cell_type": "code",
   "execution_count": 4,
   "metadata": {
    "collapsed": false
   },
   "outputs": [
    {
     "name": "stdout",
     "output_type": "stream",
     "text": [
      "test_users_prior_orders_products (4833292, 2): product_id, count\n"
     ]
    }
   ],
   "source": [
    "test_users_prior_orders = orders[(orders.eval_set == 'prior') & (orders.user_id.isin(test_orders.user_id))]\n",
    "test_users_prior_orders = test_users_prior_orders.merge(priors, on='order_id')\n",
    "\n",
    "test_users_prior_orders_products = test_users_prior_orders[['user_id', 'product_id', 'order_id']]\n",
    "test_users_prior_orders_products = test_users_prior_orders_products.groupby(['user_id', 'product_id']).count()\n",
    "test_users_prior_orders_products.columns = ['count']\n",
    "test_users_prior_orders_products.reset_index(1, inplace=True)\n",
    "\n",
    "del(test_users_prior_orders)\n",
    "\n",
    "print('test_users_prior_orders_products {}: {}'.format(test_users_prior_orders_products.shape,\n",
    "                                                     ', '.join(test_users_prior_orders_products.columns)))"
   ]
  },
  {
   "cell_type": "markdown",
   "metadata": {},
   "source": [
    "#### Predict products for each user"
   ]
  },
  {
   "cell_type": "code",
   "execution_count": 5,
   "metadata": {
    "collapsed": false
   },
   "outputs": [],
   "source": [
    "def dummy_predict_products_previous_users(df, std_thresh=3.0):\n",
    "    res = {}\n",
    "    \n",
    "    for user_id in df.index.unique():\n",
    "        tmp_user_df = df.loc[user_id]\n",
    "        \n",
    "        if type(tmp_user_df) is pd.Series:\n",
    "            selected_products = tmp_user_df['product_id']\n",
    "        \n",
    "        else:\n",
    "            thresh = tmp_user_df['count'].mean() + std_thresh * tmp_user_df['count'].std()\n",
    "\n",
    "            selected_products = tmp_user_df[tmp_user_df['count'] > thresh]\n",
    "\n",
    "            predict_prods = selected_products['product_id'].values\n",
    "        \n",
    "        if len(predict_prods) == 0:\n",
    "            predict_prods = [None]\n",
    "\n",
    "        res[user_id] = ' '.join(str(e) for e in predict_prods)\n",
    "    \n",
    "    return(res)"
   ]
  },
  {
   "cell_type": "code",
   "execution_count": 6,
   "metadata": {
    "collapsed": false
   },
   "outputs": [],
   "source": [
    "res = dummy_predict_products_previous_users(test_users_prior_orders_products)\n",
    "\n",
    "sub = pd.DataFrame.from_dict(res, orient='index').reset_index()\n",
    "sub.columns = ['user_id', 'products']\n",
    "\n",
    "sub = sub.merge(test_orders[['order_id', 'user_id']], on='user_id').drop('user_id', axis=1)"
   ]
  },
  {
   "cell_type": "code",
   "execution_count": 7,
   "metadata": {
    "collapsed": false
   },
   "outputs": [],
   "source": [
    "sub[['order_id', 'products']].to_csv('baseline.csv', index=False)"
   ]
  }
 ],
 "metadata": {
  "kernelspec": {
   "display_name": "Python 3",
   "language": "python",
   "name": "python3"
  },
  "language_info": {
   "codemirror_mode": {
    "name": "ipython",
    "version": 3
   },
   "file_extension": ".py",
   "mimetype": "text/x-python",
   "name": "python",
   "nbconvert_exporter": "python",
   "pygments_lexer": "ipython3",
   "version": "3.5.2"
  }
 },
 "nbformat": 4,
 "nbformat_minor": 2
}
