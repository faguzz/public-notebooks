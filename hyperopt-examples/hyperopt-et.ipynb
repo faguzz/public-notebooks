{
 "cells": [
  {
   "cell_type": "code",
   "execution_count": 1,
   "metadata": {
    "collapsed": false
   },
   "outputs": [],
   "source": [
    "import pandas as pd\n",
    "import numpy as np\n",
    "import hyperopt\n",
    "import os\n",
    "import sys\n",
    "import csv\n",
    "\n",
    "from time import time\n",
    "\n",
    "from hyperopt import hp, fmin, tpe\n",
    "from sklearn.ensemble import ExtraTreesRegressor\n",
    "from sklearn.model_selection import cross_val_score"
   ]
  },
  {
   "cell_type": "markdown",
   "metadata": {},
   "source": [
    "### Loading data"
   ]
  },
  {
   "cell_type": "code",
   "execution_count": 2,
   "metadata": {
    "collapsed": true
   },
   "outputs": [],
   "source": [
    "df = pd.read_csv('data/manipulated_train.csv')"
   ]
  },
  {
   "cell_type": "code",
   "execution_count": 3,
   "metadata": {
    "collapsed": false
   },
   "outputs": [],
   "source": [
    "X = df.drop(['SalePrice'], axis=1)\n",
    "y = df['SalePrice']"
   ]
  },
  {
   "cell_type": "code",
   "execution_count": 4,
   "metadata": {
    "collapsed": false
   },
   "outputs": [
    {
     "data": {
      "text/plain": [
       "(1460, 79)"
      ]
     },
     "execution_count": 4,
     "metadata": {},
     "output_type": "execute_result"
    }
   ],
   "source": [
    "X.shape"
   ]
  },
  {
   "cell_type": "markdown",
   "metadata": {},
   "source": [
    "### Setting paratemers"
   ]
  },
  {
   "cell_type": "code",
   "execution_count": 5,
   "metadata": {
    "collapsed": true
   },
   "outputs": [],
   "source": [
    "# Test parameters\n",
    "max_evals = 200\n",
    "run_counter = 0\n",
    "num_cv = 10\n",
    "n_jobs = -1\n",
    "output_log_file = '/tmp/hyperopt-et.csv'"
   ]
  },
  {
   "cell_type": "raw",
   "metadata": {},
   "source": [
    "et = ExtraTreesRegressor()\n",
    "et.get_params()"
   ]
  },
  {
   "cell_type": "code",
   "execution_count": 6,
   "metadata": {
    "collapsed": true
   },
   "outputs": [],
   "source": [
    "# Hyperparameters space\n",
    "space = (\n",
    "    hp.uniform('max_depth', 5, 30),\n",
    "    hp.uniform('max_features', 0.1, 1),\n",
    "    hp.uniform('min_samples_leaf', 1, 10)\n",
    ")"
   ]
  },
  {
   "cell_type": "markdown",
   "metadata": {},
   "source": [
    "### Function run_wrapper\n",
    "\n",
    "Just a function for counting and logging experiments, that is called by the hyperopt.fmin(). It also calls the run_test(), the function that indeed execute the experiment for the input parameters."
   ]
  },
  {
   "cell_type": "code",
   "execution_count": 7,
   "metadata": {
    "collapsed": false
   },
   "outputs": [],
   "source": [
    "def run_wrapper(params):\n",
    "    global run_counter\n",
    "    global o_f\n",
    "    \n",
    "    run_counter += 1\n",
    "    print \"==============================\"\n",
    "    print \"run\", run_counter\n",
    "    \n",
    "    s = time()\n",
    "    r2score = run_test(params)\n",
    "    \n",
    "    print\n",
    "    print \"1 - R2 score:\", r2score\n",
    "    print \"elapsed: {}s \\n\".format(int(round(time() - s)))\n",
    "    \n",
    "    writer.writerow([r2score] + list(params))\n",
    "    o_f.flush()\n",
    "    return r2score"
   ]
  },
  {
   "cell_type": "markdown",
   "metadata": {},
   "source": [
    "### Function run_test\n",
    "\n",
    "The function that receives the parameters, execute the test and return the results. I am using a cross-validation for obtaining the score, and returning it for being optmized by hyperopt.fmin() (therefore I subtracted 1 - score)."
   ]
  },
  {
   "cell_type": "code",
   "execution_count": null,
   "metadata": {
    "collapsed": true
   },
   "outputs": [],
   "source": [
    "def run_test(params):\n",
    "    max_depth, max_features, min_samples_leaf = params\n",
    "    max_depth = int(max_depth)\n",
    "    min_samples_leaf = int(min_samples_leaf)\n",
    "    \n",
    "    print \"max_depth:\", max_depth\n",
    "    print \"max_features:\", max_features\n",
    "    print \"min_samples_leaf:\", min_samples_leaf\n",
    "    \n",
    "    et = ExtraTreesRegressor(max_depth=max_depth,\n",
    "                             max_features=max_features,\n",
    "                             min_samples_leaf=min_samples_leaf,\n",
    "                             n_estimators=100,\n",
    "                             random_state=66)\n",
    "    \n",
    "    cvs = cross_val_score(et, X, y,\n",
    "                          cv=num_cv,\n",
    "                          n_jobs=n_jobs)\n",
    "    \n",
    "    return 1 - np.median(cvs)"
   ]
  },
  {
   "cell_type": "markdown",
   "metadata": {},
   "source": [
    "### Main function\n",
    "\n",
    "Just some logging and calling the hyperopt.fmin(). In the end, it obtains the best parameters -- the ones that minimizes the objective function."
   ]
  },
  {
   "cell_type": "code",
   "execution_count": null,
   "metadata": {
    "collapsed": false
   },
   "outputs": [
    {
     "name": "stdout",
     "output_type": "stream",
     "text": [
      "==============================\n",
      "run 1\n",
      "max_depth: 23\n",
      "max_features: 0.148196167325\n",
      "min_samples_leaf: 3\n",
      "\n",
      "1 - R2 score: 0.140337621005\n",
      "elapsed: 2s \n",
      "\n",
      "==============================\n",
      "run 2\n",
      "max_depth: 6\n",
      "max_features: 0.896749788191\n",
      "min_samples_leaf: 8\n",
      "\n",
      "1 - R2 score: 0.155901346291\n",
      "elapsed: 3s \n",
      "\n",
      "==============================\n",
      "run 3\n",
      "max_depth: 20\n",
      "max_features: 0.519160108947\n",
      "min_samples_leaf: 5\n",
      "\n",
      "1 - R2 score: 0.126570695644\n",
      "elapsed: 3s \n",
      "\n",
      "==============================\n",
      "run 4\n",
      "max_depth: 24\n",
      "max_features: 0.937054774532\n",
      "min_samples_leaf: 8\n",
      "\n",
      "1 - R2 score: 0.132147137434\n",
      "elapsed: 4s \n",
      "\n",
      "==============================\n",
      "run 5\n",
      "max_depth: 22\n",
      "max_features: 0.645266070546\n",
      "min_samples_leaf: 6\n"
     ]
    }
   ],
   "source": [
    "if __name__ == '__main__':\n",
    "    \n",
    "    headers = 'r2score max_depth max_features min_samples_leaf'.split()\n",
    "    o_f = open(output_log_file, 'wb')\n",
    "    writer = csv.writer(o_f)\n",
    "    writer.writerow(headers)\n",
    "    \n",
    "    start_time = time()\n",
    "    best = fmin(run_wrapper, space, algo=tpe.suggest, max_evals=max_evals)\n",
    "    end_time = time()\n",
    "    \n",
    "    print \"Seconds passed:\", int(round(end_time - start_time))\n",
    "    print best"
   ]
  }
 ],
 "metadata": {
  "kernelspec": {
   "display_name": "Python 2",
   "language": "python",
   "name": "python2"
  },
  "language_info": {
   "codemirror_mode": {
    "name": "ipython",
    "version": 2
   },
   "file_extension": ".py",
   "mimetype": "text/x-python",
   "name": "python",
   "nbconvert_exporter": "python",
   "pygments_lexer": "ipython2",
   "version": "2.7.12"
  }
 },
 "nbformat": 4,
 "nbformat_minor": 2
}
